{
 "cells": [
  {
   "cell_type": "markdown",
   "metadata": {},
   "source": [
    "Name: Zhuoyuan Xu (Kallen)\n",
    "\n",
    "NetID: zx1137\n",
    "\n",
    "Due Date: April 1st, 2021"
   ]
  },
  {
   "cell_type": "markdown",
   "metadata": {},
   "source": [
    "# Logistic Regression"
   ]
  },
  {
   "cell_type": "markdown",
   "metadata": {},
   "source": [
    "**Problem 1**"
   ]
  },
  {
   "cell_type": "markdown",
   "metadata": {},
   "source": [
    "For convenience of showing the expressions, we can define $y_i\\in\\{0,1\\}$ and rewrite $Y_i\\in\\{-1,1\\}$. The $y_i$ here can be transformed back to the space $Y=\\{-1,1\\}$ by expression $2y_i-1$. These 2 choices of $y_i$ will not affect the basic of the derivation."
   ]
  },
  {
   "cell_type": "markdown",
   "metadata": {},
   "source": [
    "Given a Bernoulli response distribution with $p(y=1 \\mid x; w) = 1 / (1 + \\exp(-x^Tw))$, assume the sample is i.i.d, then the MLE can be written as\n",
    "$$\\begin{split}w&=arg\\max_{w}P(y_1,x_1,...,y_n,x_n|w)\\\\&=arg\\max_{w}\\Pi^n_{i=1}P(y_i|x_i,w)\\\\&=arg\\max_{w}\\Pi^n_{i=1}p(y = 1|x;w)^{y_i}(1-p(y = 1|x;w))^{1-y_i}\\end{split}$$"
   ]
  },
  {
   "cell_type": "markdown",
   "metadata": {},
   "source": [
    "Take the maximize log likelihood, note $\\frac{1}{n}$ is positive,\n",
    "$$\\begin{split}w&=arg\\max_{w}log\\Pi^n_{i=1}p(y = 1|x;w)^{y_i}(1-p(y = 1|x;w))^{1-y_i}\\\\&=arg\\max_{w}\\frac{1}{n}\\sum^n_{i=1}(y_ilog(p(y = 1|x;w))+(1-y_i)log(1-p(y = 1|x;w)))\\\\&=arg\\max_{w}-\\frac{1}{n}\\sum^n_{i=1}(y_ilog(1+exp(-x_i^Tw))+(1-y_i)log(1+exp(x_i^Tw)))\\\\&=arg\\max_{w}-\\frac{1}{n}\\sum^n_{i=1}(log(1+exp(-(2y_i-1)x_i^Tw)))\\end{split}$$"
   ]
  },
  {
   "cell_type": "markdown",
   "metadata": {},
   "source": [
    "Note since in the beginning, we refine the $y_i\\in\\{0,1\\}$ and $y_i$ can be transformed into $Y\\in\\{-1,1\\}$ by $2y_i-1$, we can now substitute $2y_i-1$ in the expression to $Y_i$, with $Y_i$ denoting the $Y$s in our dataset $D$."
   ]
  },
  {
   "cell_type": "markdown",
   "metadata": {},
   "source": [
    "The expression is now\n",
    "$$\\begin{split}w&=arg\\max_{w}-\\frac{1}{n}\\sum^n_{i=1}(log(1+exp(-Y_ix_i^Tw)))\\\\&=arg\\min_{w}\\frac{1}{n}\\sum^n_{i=1}(log(1+exp(-Y_ix_i^Tw)))\\end{split}$$"
   ]
  },
  {
   "cell_type": "markdown",
   "metadata": {},
   "source": [
    "The ERM with logistic loss is \n",
    "$$\\begin{split}w&=arg\\min_w\\frac{1}{n}\\sum^n_{i=1}(l_{logistic}(\\hat{y_i},w),y_i)\\\\&=arg\\min_{w}\\frac{1}{n}\\sum^n_{i=1}(log(1+exp(-Y_iw^Tx_i)))\\end{split}$$"
   ]
  },
  {
   "cell_type": "markdown",
   "metadata": {},
   "source": [
    "Therefore the 2 approaches have their objective of the minimization equivalent, and will product the same w with the same optimization algorithm."
   ]
  },
  {
   "cell_type": "markdown",
   "metadata": {},
   "source": [
    "**Problem 2**"
   ]
  },
  {
   "cell_type": "markdown",
   "metadata": {},
   "source": [
    "Given $p(y=1 \\mid x; w) = 1 / (1 + \\exp(-x^Tw))$, For this problem we have $$\\begin{split}P(Y=1|x)&=\\frac{1}{1+exp(-x^Tw)}\\\\P(Y=-1|x)&=1-\\frac{1}{1+exp(-x^Tw)}=\\frac{exp(-x^Tw)}{1+exp(-x^Tw)}\\end{split}$$"
   ]
  },
  {
   "cell_type": "markdown",
   "metadata": {},
   "source": [
    "On the decision boundary of the prediction problem we will have $$\\frac{P(Y=1|x)}{P(Y=-1|x)}=1$$which is equivalent to $P(Y=1|x)=\\frac{1}{1+exp(-x^Tw)}=0.5$ or $$log(\\frac{P(Y=1|x)}{P(Y=-1|x)})=0$$"
   ]
  },
  {
   "cell_type": "markdown",
   "metadata": {},
   "source": [
    "$$log(\\frac{\\frac{1}{1+exp(-x^Tw)}}{\\frac{exp(-x^Tw)}{1+exp(-x^Tw)}})=0$$\n",
    "Note $1+exp(-x^Tw)$ will not equal to 0, then\n",
    "$$\\begin{split}log(exp(-x^Tw))&=0\\\\x^Tw&=0\\end{split}$$\n",
    "\n",
    "Therefore the boundary of seperating positive and negative is $\\{x:x^Tw=0\\}$"
   ]
  },
  {
   "cell_type": "markdown",
   "metadata": {},
   "source": [
    "**Problem 3**"
   ]
  },
  {
   "cell_type": "markdown",
   "metadata": {},
   "source": [
    "The likelihood function L of $c\\hat{w}$ is\n",
    "$$L(c\\hat{w})=\\Pi^n_{i=1}P(y_i|x_i,c\\hat{w})$$\n",
    "If we continue with the Bernoulli response with $p(y=1 \\mid x; w) = 1 / (1 + \\exp(-x^Tw))$, the likelihood function is going to be $$L(c\\hat{w})=\\Pi^n_{i=1}p(y = 1|x;c\\hat{w})^{y_i}(1-p(y = 1|x;c\\hat{w}))^{1-y_i}$$\n",
    "Note the log is monotonically increasing and the likelihood is non-negative, to show the problem we can also take derivative of the log maximum likelihood\n",
    "$$\\begin{split}l(c\\hat{w})&=\\sum^n_{i=1}(y_ilog(\\frac{1}{1+exp(-x_i^Tc\\hat{w})})+(1-y_i)log(1-\\frac{1}{1+exp(-x_i^Tc\\hat{w})}))\\\\&=-\\sum^n_{i=1}(y_ilog(1+exp(-x_i^Tc\\hat{w}))+(1-y_i)log(1+exp(x_i^Tc\\hat{w})))\\\\&=-\\sum^n_{i=1}(log(1+exp(-(2y_i-1)x_i^Tc\\hat{w})))\\end{split}$$"
   ]
  },
  {
   "cell_type": "markdown",
   "metadata": {},
   "source": [
    "We can take the derivative of $l(c\\hat{w})$ with respect to c for a point $(x_i,y_i)$\n",
    "$$\\begin{split}\\frac{\\partial l(c\\hat{w})}{\\partial c}\n",
    "&=-\\sum^n_{i=1}(log(1+exp(-(2y_i-1)x_i^Tc\\hat{w})))\\\\\n",
    "&=\\sum^n_{i=1}\\frac{(2y_i-1)x_i^T\\hat{w}exp(-(2y_i-1)x_i^Tc\\hat{w})}{1+exp(-(2y_i-1)x_i^Tc\\hat{w})}\n",
    "\\end{split}$$"
   ]
  },
  {
   "cell_type": "markdown",
   "metadata": {},
   "source": [
    "In this expression, the $y_i$ is defined in $\\{0,1\\}$, so to transform to our definition of the $y$s in dataset D, we again use the expressions $Y_i\\in\\{-1,1\\}$ and $Y_i=2y_i-1$\n",
    "\n",
    "$$\\begin{split}\\frac{\\partial l(c\\hat{w})}{\\partial c}=\\sum^n_{i=1}\\frac{Y_ix_i^T\\hat{w}exp(-Y_ix_i^Tc\\hat{w})}{1+exp(-Y_ix_i^Tc\\hat{w})}\\end{split}$$"
   ]
  },
  {
   "cell_type": "markdown",
   "metadata": {},
   "source": [
    "Given that $\\hat{w}$ classify all data correctly, $Y_ix_i^T\\hat{w}>0$. Meanwhile, $\\frac{exp(-Y_ix_i^Tc\\hat{w})}{1+exp(-Y_ix_i^Tc\\hat{w})}>0$\n",
    "\n",
    "Therefore, $$\\frac{\\partial l(c\\hat{w})}{\\partial c}>0$$"
   ]
  },
  {
   "cell_type": "markdown",
   "metadata": {},
   "source": [
    "This expression shows that $l(c\\hat{w})$ can increase as $c$ increases, so we can increase the likelihood of the data by $c\\hat{w}$."
   ]
  },
  {
   "cell_type": "markdown",
   "metadata": {},
   "source": [
    "**Problem 4**"
   ]
  },
  {
   "cell_type": "markdown",
   "metadata": {},
   "source": [
    "Here, we can use 2 approaches to show the objective function is convex. "
   ]
  },
  {
   "cell_type": "markdown",
   "metadata": {},
   "source": [
    "First, the objective function is differentiable and has second derivative. The gradient of the objective function can be written as \n",
    "$$\\begin{split}\\frac{\\partial J(w)}{\\partial w}&=\\frac{1}{n}\\sum^n_{i=1}\\frac{exp(-y_iw^Tx_i)(-y_ix_i)}{1+exp(-y_iw^Tx_i)}+2\\lambda w\\\\&=\\frac{1}{n}\\sum^n_{i=1}(-y_ix_i)(1-\\frac{1}{1+exp(-y_iw^Tx_i)})+2\\lambda w\\end{split}$$"
   ]
  },
  {
   "cell_type": "markdown",
   "metadata": {},
   "source": [
    "The second derivative of the function is \n",
    "$$\\begin{split}\\frac{\\partial^2J(w)}{\\partial w^2}&=\\frac{1}{n}\\sum^n_{i=1}-(y_ix_i)(1+exp(-y_iw^Tx_i))^{-2}(exp(-y_iw^Tx_i)(-y_ix_i))+2\\lambda\\\\&=\\frac{1}{n}\\sum^n_{i=1}(y_ix_i)^2\\frac{exp(-y_iw^Tx_i)}{(1+exp(-y_iw^Tx_i))^{2}}+2\\lambda\\\\&>0\\end{split}$$as long as $\\lambda>0>-\\frac{1}{2n}\\sum^n_{i=1}(y_ix_i)^2\\frac{exp(-y_iw^Tx_i)}{(1+exp(-y_iw^Tx_i))^{2}}$"
   ]
  },
  {
   "cell_type": "markdown",
   "metadata": {},
   "source": [
    "Second, from our convex optimizatio notes on log-sum-exp, $(x_1,...,x_n)\\to log(e^{x_1}+...+e^{x_n})$ is convex on $R^n$.\n",
    "\n",
    "Thus, $log(1+e^{-y_iw^Tx_i})=log(e^0+e^{-y_iw^Tx_i})$ is convex.\n",
    "\n",
    "Meanwhile, the l2-norm $||w||^2$ is convex."
   ]
  },
  {
   "cell_type": "markdown",
   "metadata": {},
   "source": [
    "Thus, this objective function $J_{logistic}(w)$ is convex."
   ]
  },
  {
   "cell_type": "markdown",
   "metadata": {},
   "source": [
    "**Problem 5**"
   ]
  },
  {
   "cell_type": "code",
   "execution_count": 1,
   "metadata": {},
   "outputs": [],
   "source": [
    "import numpy as np\n",
    "from scipy.optimize import minimize\n",
    "from sklearn import preprocessing\n",
    "import matplotlib.pyplot as plt"
   ]
  },
  {
   "cell_type": "code",
   "execution_count": 2,
   "metadata": {},
   "outputs": [],
   "source": [
    "def f_objective(theta, X, y, l2_param):\n",
    "    '''\n",
    "    Args:\n",
    "        theta: 1D numpy array of size num_features\n",
    "        X: 2D numpy array of size (num_instances, num_features)\n",
    "        y: 1D numpy array of size num_instances\n",
    "        l2_param: regularization parameter\n",
    "\n",
    "    Returns:\n",
    "        objective: scalar value of objective function\n",
    "    '''\n",
    "    n = len(y)\n",
    "    result = 0\n",
    "    for i in range(n):\n",
    "        z = -y[i] * np.dot(theta.T, X[i])\n",
    "        result += np.logaddexp(0, z) \n",
    "    result = result/n\n",
    "    result += l2_param * theta.T @ theta\n",
    "    return result"
   ]
  },
  {
   "cell_type": "markdown",
   "metadata": {},
   "source": [
    "**Problem 6**"
   ]
  },
  {
   "cell_type": "code",
   "execution_count": 3,
   "metadata": {},
   "outputs": [],
   "source": [
    "def fit_logistic_reg(X, y, objective_function, l2_param):\n",
    "    '''\n",
    "    Args:\n",
    "        X: 2D numpy array of size (num_instances, num_features)\n",
    "        y: 1D numpy array of size num_instances\n",
    "        objective_function: function returning the value of the objective\n",
    "        l2_param: regularization parameter\n",
    "        \n",
    "    Returns:\n",
    "        optimal_theta: 1D numpy array of size num_features\n",
    "    '''\n",
    "    def obj_func(theta):\n",
    "        return objective_function(theta, X, y, l2_param)\n",
    "    \n",
    "    scaler = preprocessing.StandardScaler()\n",
    "    X = scaler.fit_transform(X)\n",
    "    X = np.hstack((X, np.ones((X.shape[0], 1))))\n",
    "    \n",
    "    w0 = np.zeros((X.shape[1], 1))\n",
    "    optimal_theta = minimize(obj_func, w0).x\n",
    "    return optimal_theta"
   ]
  },
  {
   "cell_type": "markdown",
   "metadata": {},
   "source": [
    "**Problem 7**"
   ]
  },
  {
   "cell_type": "code",
   "execution_count": 4,
   "metadata": {},
   "outputs": [],
   "source": [
    "X_train = np.loadtxt('./logistic-code/X_train.txt', delimiter=',')\n",
    "y_train = np.loadtxt('./logistic-code/y_train.txt', delimiter=',')\n",
    "X_val = np.loadtxt('./logistic-code/X_val.txt', delimiter=',')\n",
    "y_val = np.loadtxt('./logistic-code/y_val.txt', delimiter=',')"
   ]
  },
  {
   "cell_type": "code",
   "execution_count": 5,
   "metadata": {},
   "outputs": [],
   "source": [
    "y_train[y_train==0]=-1\n",
    "y_val[y_val==0]=-1"
   ]
  },
  {
   "cell_type": "code",
   "execution_count": 6,
   "metadata": {},
   "outputs": [],
   "source": [
    "scaler = preprocessing.StandardScaler()\n",
    "X_val = scaler.fit_transform(X_val)\n",
    "X_val = np.hstack((X_val, np.ones((X_val.shape[0], 1))))"
   ]
  },
  {
   "cell_type": "code",
   "execution_count": 8,
   "metadata": {},
   "outputs": [],
   "source": [
    "power = np.arange(-5,3,0.3)\n",
    "l2_param = [10**i for i in power]\n",
    "opt_theta = []\n",
    "log_lh = []\n",
    "for l2 in l2_param:\n",
    "    res = fit_logistic_reg(X_train, y_train, f_objective, l2)\n",
    "    ll = len(y_val) * (f_objective(res, X_val, y_val, l2)-l2*res.T@res)\n",
    "    opt_theta.append(res)\n",
    "    log_lh.append(ll)"
   ]
  },
  {
   "cell_type": "code",
   "execution_count": 9,
   "metadata": {
    "scrolled": true
   },
   "outputs": [
    {
     "data": {
      "text/plain": [
       "Text(0.5, 1.0, 'log-likelihood v.s. regularization parameter')"
      ]
     },
     "execution_count": 9,
     "metadata": {},
     "output_type": "execute_result"
    },
    {
     "data": {
      "image/png": "[encoded data removed]",
      "text/plain": [
       "<Figure size 432x288 with 1 Axes>"
      ]
     },
     "metadata": {
      "needs_background": "light"
     },
     "output_type": "display_data"
    }
   ],
   "source": [
    "fig, ax = plt.subplots()\n",
    "ax.plot(l2_param, log_lh)\n",
    "ax.set_xscale('log')\n",
    "ax.set_xlabel('lambda')\n",
    "ax.set_ylabel('log-likelihood')\n",
    "ax.set_title('log-likelihood v.s. regularization parameter')"
   ]
  },
  {
   "cell_type": "code",
   "execution_count": 10,
   "metadata": {},
   "outputs": [
    {
     "name": "stdout",
     "output_type": "stream",
     "text": [
      "min log-likelihood = 232.8744022310788 and lambda = 0.019952623149688705\n"
     ]
    }
   ],
   "source": [
    "ind = int(np.where(log_lh == np.min(log_lh))[0])\n",
    "print(\"min log-likelihood = {} and lambda = {}\".format(log_lh[ind], l2_param[ind]))"
   ]
  },
  {
   "cell_type": "markdown",
   "metadata": {},
   "source": [
    "**Problem 8**"
   ]
  },
  {
   "cell_type": "code",
   "execution_count": 7,
   "metadata": {},
   "outputs": [],
   "source": [
    "f_x = np.linspace(0, 1, 10)\n",
    "#f_x = f_x[1:len(f_x)-1]\n",
    "tol = 0.1\n",
    "lamda = 0.02 # the best lambda we found in the previous problem\n",
    "\n",
    "opt_theta = fit_logistic_reg(X_train, y_train, f_objective, lamda)"
   ]
  },
  {
   "cell_type": "code",
   "execution_count": 8,
   "metadata": {},
   "outputs": [],
   "source": [
    "def pred_prob(theta, X):\n",
    "    '''\n",
    "    Args:\n",
    "        theta: 1D numpy array of size num_features\n",
    "        X: 2D numpy array of size (num_instances, num_features)\n",
    "\n",
    "    Returns:\n",
    "        result: array of scalar probability of objective function\n",
    "    '''\n",
    "    n = X.shape[0]\n",
    "    result = []\n",
    "    for i in range(n):\n",
    "        prob = 1 / (1 + np.exp(-theta.T @ X[i]))\n",
    "        result.append(prob)\n",
    "    return np.array(result)"
   ]
  },
  {
   "cell_type": "code",
   "execution_count": 9,
   "metadata": {},
   "outputs": [],
   "source": [
    "num = []\n",
    "prob_array = pred_prob(opt_theta, X_val)\n",
    "for f in f_x:\n",
    "    ind = np.where(np.abs(prob_array-f)<tol)\n",
    "    y_pred = y_val[ind[0]]\n",
    "    n = np.sum([i == 1 for i in y_pred])/len(ind[0])\n",
    "    num.append(n)"
   ]
  },
  {
   "cell_type": "code",
   "execution_count": 114,
   "metadata": {},
   "outputs": [
    {
     "data": {
      "text/plain": [
       "<matplotlib.legend.Legend at 0x2e203c1beb0>"
      ]
     },
     "execution_count": 114,
     "metadata": {},
     "output_type": "execute_result"
    },
    {
     "data": {
      "image/png": "[encoded data removed]",
      "text/plain": [
       "<Figure size 432x288 with 1 Axes>"
      ]
     },
     "metadata": {
      "needs_background": "light"
     },
     "output_type": "display_data"
    }
   ],
   "source": [
    "fig, ax = plt.subplots()\n",
    "ax.plot(f_x, num, '--', label='validation set', color = 'b')\n",
    "ax.plot(f_x, num, '*', color = 'b')\n",
    "ax.plot(f_x, f_x, '--', label='perfectly calibrated', color = 'r')\n",
    "ax.legend(loc='upper left')"
   ]
  },
  {
   "cell_type": "markdown",
   "metadata": {},
   "source": [
    "If we further shrink each group size, the number of samples in each group becomes too small. The samples seem to be calibrated, but since we do not have a large number of samples, the curve of the validation set fluctuates aroung the perfectly calibrated line. Generally, however, logistic regression tend to give well-calibrated predictions by default, as discussed on the scikit-learns's reference page."
   ]
  },
  {
   "cell_type": "markdown",
   "metadata": {},
   "source": [
    "**Problem 9**"
   ]
  },
  {
   "cell_type": "markdown",
   "metadata": {},
   "source": [
    "By Bayesian Theorem, \n",
    "$$p(w|D)=\\frac{p(D|w)p(w)}{p(D)}=\\frac{e^{-NLL_{D(w)}}p(w)}{p(D)}$$"
   ]
  },
  {
   "cell_type": "markdown",
   "metadata": {},
   "source": [
    "**Problem 10**"
   ]
  },
  {
   "cell_type": "markdown",
   "metadata": {},
   "source": [
    "In Bayesian probability theory, if the posterior distributions $p(w|D)$ are in the same probability distribution family as the prior probability distribution $p(w)$, the prior and posterior are conjugate distributions. The prior is then the conjugate prior of the likelihood function $p(D|w)$."
   ]
  },
  {
   "cell_type": "markdown",
   "metadata": {},
   "source": [
    "From Bayesian Theorem,\n",
    "$$p(w|D)=\\frac{p(D|w)p(w)}{p(D)}$$\n",
    "We can calculate the product $p(D|w)p(w)$ and check if the resulting expression can be written in Gaussian form."
   ]
  },
  {
   "cell_type": "markdown",
   "metadata": {},
   "source": [
    "The likelihood function of logistic regression is $p(D|w)=e^{\\sum^{n}_{i=1}(log(1+exp(-Y_ix_i^Tw)))}$"
   ]
  },
  {
   "cell_type": "markdown",
   "metadata": {},
   "source": [
    "$$\\begin{split}p(w|D)&=\\frac{1}{\\sqrt{(2\\pi)^k|\\Sigma|}}\\exp{(-\\frac{1}{2}(w-\\mu)^T\\Sigma^{-1}(w-\\mu))}\\exp{\\sum^{n}_{i=1}(log(1+exp(-Y_ix_i^Tw)))}\\\\&=\\frac{1}{\\sqrt{(2\\pi)^k|\\Sigma|}}exp(\\sum^{n}_{i=1}(-\\frac{1}{2\\sigma_i}w^2)+log(1+exp(-Y_ix_i^Tw)))\\end{split}$$"
   ]
  },
  {
   "cell_type": "markdown",
   "metadata": {},
   "source": [
    "This form of expression cannot be written into a gaussian form, and thus this is not a conjugate prior of the likelihood function."
   ]
  },
  {
   "cell_type": "markdown",
   "metadata": {},
   "source": [
    "**Problem 11**"
   ]
  },
  {
   "cell_type": "markdown",
   "metadata": {},
   "source": [
    "$$\\begin{split}-log(p(w|D))&=NLL_{D(w)}-logD(w)+c\\\\&=n\\hat{R_n}(w)-log(\\frac{1}{\\sqrt{(2\\pi)^k|\\Sigma|}})+\\frac{1}{2}(w-\\mu)^T\\Sigma^{-1}(w-\\mu)+c\\\\&=n\\hat{R_n}(w)+\\frac{1}{2}w^T\\Sigma^{-1}w+c\\end{split}$$"
   ]
  },
  {
   "cell_type": "markdown",
   "metadata": {},
   "source": [
    "Note we have $w~N(0,\\Sigma)$ and $c$ represents an arbitrary constant."
   ]
  },
  {
   "cell_type": "markdown",
   "metadata": {},
   "source": [
    "Since we need to find a covariance matrix $\\Sigma$ such that the MAP estimate for $w$ after observing data $D$ is the same as the minimizer of the regularized logistic regression function, we need to have\n",
    "$$min(-log(p(w|D)))=min(J_{logistic}(w))$$"
   ]
  },
  {
   "cell_type": "markdown",
   "metadata": {},
   "source": [
    "Therefore, suppose $w$ is the solution we need to have\n",
    "$$n\\hat{R_n}(w)+\\frac{1}{2}w^T\\Sigma^{-1}w+c=n\\hat{R_n}(w)+\\lambda n||w||^2$$"
   ]
  },
  {
   "cell_type": "markdown",
   "metadata": {},
   "source": [
    "This will give $\\Sigma=\\frac{1}{2n\\lambda}I$"
   ]
  },
  {
   "cell_type": "markdown",
   "metadata": {},
   "source": [
    "**Problem 12**"
   ]
  },
  {
   "cell_type": "markdown",
   "metadata": {},
   "source": [
    "In order to have, $$\\begin{split}min(-log(p(w|D)))&=min(J_{logistic}(w))\\\\n\\hat{R_n}(w)+\\frac{1}{2}w^T\\Sigma^{-1}w+c&=n\\hat{R_n}(w)+\\lambda n||w||^2\\\\n\\hat{R_n}(w)+\\frac{1}{2}w^Tw+c&=n\\hat{R_n}(w)+\\lambda n||w||^2\\end{split}$$"
   ]
  },
  {
   "cell_type": "markdown",
   "metadata": {},
   "source": [
    "We need to choose $\\lambda=\\frac{1}{2n}$"
   ]
  },
  {
   "cell_type": "markdown",
   "metadata": {},
   "source": [
    "# Coin Flipping with Partial Observability"
   ]
  },
  {
   "cell_type": "markdown",
   "metadata": {},
   "source": [
    "**Problem 13**"
   ]
  },
  {
   "cell_type": "markdown",
   "metadata": {},
   "source": [
    "By Bayes Theorem,\n",
    "$$\\begin{split}\n",
    "p(x=H|\\theta_1,\\theta_2)\n",
    "&=\\frac{p(x=H,\\theta_1,\\theta_2)}{p(\\theta_1,\\theta_2)}\\\\\n",
    "&=\\frac{p(x=H|Z=H,\\theta_1,\\theta_2)p(Z=H,\\theta_1,\\theta_2)+p(x=H|Z=T,\\theta_1,\\theta_2)p(Z=T,\\theta_1,\\theta_2)}{p(\\theta_1,\\theta_2)}\\\\\n",
    "&=\\frac{p(x=H|Z=H,\\theta_1,\\theta_2)p(Z=H|\\theta_1,\\theta_2)p(\\theta_1,\\theta_2)}{p(\\theta_1,\\theta_2)}\\\\\n",
    "&=p(x=H|Z=H,\\theta_1,\\theta_2)p(Z=H|\\theta_1,\\theta_2)\\\\\n",
    "&=p(x=H|Z=H,\\theta_2)p(Z=H|\\theta_1)\\\\\n",
    "&=\\theta_1\\theta_2\\end{split}$$"
   ]
  },
  {
   "cell_type": "markdown",
   "metadata": {},
   "source": [
    "**Problem 14**"
   ]
  },
  {
   "cell_type": "markdown",
   "metadata": {},
   "source": [
    "$$\\begin{split}L{(D_r|\\theta_1,\\theta_2)}&=(\\theta_1\\theta_2)^{n_h}(1-\\theta_1\\theta_2)^{n_t}\\\\log(L{(D_r|\\theta_1,\\theta_2)})&=n_hlog(\\theta_1\\theta_2)+n_tlog(1-\\theta_1\\theta_2)\\end{split}$$"
   ]
  },
  {
   "cell_type": "markdown",
   "metadata": {},
   "source": [
    "**Problem 15**"
   ]
  },
  {
   "cell_type": "markdown",
   "metadata": {},
   "source": [
    "To find the maximum likelihood, since the function is concave, we can take the derivative with respect to $\\theta_1$ or $\\theta_2$ and then set it to 0. For calculation convinence we can use log likelihood."
   ]
  },
  {
   "cell_type": "markdown",
   "metadata": {},
   "source": [
    "$$\\begin{split}\\frac{\\partial log(L{(D_r|\\theta_1,\\theta_2)})}{\\partial\\theta_1}&=\\frac{\\partial(n_hlog(\\theta_1\\theta_2)+n_tlog(1-\\theta_1\\theta_2))}{\\partial \\theta_1}\\\\&=\\frac{n_h\\theta_2}{\\theta_1\\theta_2}+\\frac{-n_t\\theta_2}{1-\\theta_1\\theta_2}\\\\&=0\\end{split}$$"
   ]
  },
  {
   "cell_type": "markdown",
   "metadata": {},
   "source": [
    "From the above equation we can get $$\\theta_1\\theta_2=\\frac{n_h}{n_h+n_t}$$"
   ]
  },
  {
   "cell_type": "markdown",
   "metadata": {},
   "source": [
    "We can get a similar expression if we take derivative with respect to $\\theta_2$. We can get an equation of the product of $\\theta_1\\theta_2$, but we cannot estimate $\\theta_1$ and $\\theta_2$ separately. We need extra dataset to estimate the 2 variables."
   ]
  },
  {
   "cell_type": "markdown",
   "metadata": {},
   "source": [
    "**Problem 16**"
   ]
  },
  {
   "cell_type": "markdown",
   "metadata": {},
   "source": [
    "$$\\begin{split}L(\\theta_1,\\theta_2)&=p(D_r,D_c|\\theta_1,\\theta_2)\\\\&=p(D_c|\\theta_1)p(D_r|\\theta_1\\theta_2)\\\\&=\\theta_1^{c_h}(1-\\theta_1)^{c_t}(\\theta_1\\theta_2)^{n_h}(1-\\theta_1\\theta_2)^{n_t}\\end{split}$$"
   ]
  },
  {
   "cell_type": "markdown",
   "metadata": {},
   "source": [
    "We can get the log-likelihood of this expression\n",
    "$$logL(\\theta_1,\\theta_2)=c_hlog(\\theta_1)+c_tlog(1-\\theta_1)+n_hlog(\\theta_1\\theta_2)+n_tlog(1-\\theta_1\\theta_2)$$"
   ]
  },
  {
   "cell_type": "markdown",
   "metadata": {},
   "source": [
    "Then we can take the derivative and set it to 0\n",
    "$$\\begin{split}\\frac{\\partial logL(\\theta_1,\\theta_2)}{\\partial\\theta_1}&=\\frac{c_h}{\\theta_1}-\\frac{c_t}{1-\\theta_1}+\\frac{n_h\\theta_2}{\\theta_1\\theta_2}-\\frac{n_t\\theta_2}{1-\\theta_1\\theta_2}\\\\&=\\frac{c_h+n_h}{\\theta_1}-\\frac{c_t}{1-\\theta_1}-\\frac{n_t\\theta_2}{1-\\theta_1\\theta_2}\\\\&=0\\end{split}$$"
   ]
  },
  {
   "cell_type": "markdown",
   "metadata": {},
   "source": [
    "$$\\begin{split}\\frac{\\partial logL(\\theta_1,\\theta_2)}{\\partial\\theta_2}&=\\frac{n_h\\theta_1}{\\theta_1\\theta_2}-\\frac{n_t\\theta_1}{1-\\theta_1\\theta_2}&=\\frac{n_h}{\\theta_2}-\\frac{n_t\\theta_1}{1-\\theta_1\\theta_2}&=0\\end{split}$$"
   ]
  },
  {
   "cell_type": "markdown",
   "metadata": {},
   "source": [
    "Thus we have a system of 2 different equations\n",
    "$$\\begin{equation}\n",
    "  \\begin{cases}\n",
    "    \\frac{c_h+n_h}{\\theta_1}-\\frac{c_t}{1-\\theta_1}-\\frac{n_t\\theta_2}{1-\\theta_1\\theta_2}=0\\\\\n",
    "    \\theta_1=\\frac{n_h}{(n_h+n_t)\\theta_2}\n",
    "  \\end{cases}\n",
    "\\end{equation}$$"
   ]
  },
  {
   "cell_type": "markdown",
   "metadata": {},
   "source": [
    "After solving the system of equations, we can have the MLE estimate of $\\theta_1$ and $\\theta_2$\n",
    "$$\\begin{equation}\n",
    "  \\begin{cases}\n",
    "    \\theta_2=\\frac{n_h(c_h+c_t)}{(n_h+n_t)c_h}\\\\\n",
    "    \\theta_1=\\frac{c_h}{(c_h+c_t)}\n",
    "  \\end{cases}\n",
    "\\end{equation}$$"
   ]
  },
  {
   "cell_type": "markdown",
   "metadata": {},
   "source": [
    "**Problem 17**"
   ]
  },
  {
   "cell_type": "markdown",
   "metadata": {},
   "source": [
    "Set $D=D_r\\cup D_c$, and we can have $$\\begin{split}p(\\theta_1,\\theta_2|D)&=\\frac{p(D|\\theta_1,\\theta_2)p(\\theta_1,\\theta_2)}{\\int_Dp(\\theta_1,\\theta_2,D)\\,dx}\\\\&\\propto(\\theta_1\\theta_2)^{n_h}(1-\\theta_1\\theta_2)^{n_t}\\theta_1^{c_h}(1-\\theta_1)^{c_t}\\frac{\\Gamma(h+t)}{\\Gamma(h)\\Gamma(t)}\\theta_1^{h-1}(1-\\theta_1)^{t-1}\\\\&\\propto\\theta_1^{n_h+h-1+c_h}(1-\\theta_1)^{c_t+t-1}\\theta_2^{n_h}(1-\\theta_1\\theta_2)^{n_t}\\end{split}$$"
   ]
  },
  {
   "cell_type": "markdown",
   "metadata": {},
   "source": [
    "We can then take the log of the expression,\n",
    "$$log(p(\\theta_1,\\theta_2|D))=(n_h+h-1+c_h)log\\theta_1+(c_t+t-1)log(1-\\theta_1)+n_hlog\\theta_2+n_tlog(1-\\theta_1\\theta_2)+c$$"
   ]
  },
  {
   "cell_type": "markdown",
   "metadata": {},
   "source": [
    "Then take the derivative with respect to $\\theta_1$ and $\\theta_2$ and set to 0,\n",
    "$$\\frac{\\partial log(p(\\theta_1,\\theta_2|D))}{\\partial\\theta_1}=\\frac{(n_h+h-1+c_h)}{\\theta_1}+\\frac{-(c_t+t-1)}{1-\\theta_1}+\\frac{-n_t\\theta_2}{1-\\theta_1\\theta_2}=0$$\n",
    "$$\\frac{\\partial log(p(\\theta_1,\\theta_2|D))}{\\partial\\theta_2}=\\frac{n_h}{\\theta_2}+\\frac{-n_t\\theta_1}{1-\\theta_1\\theta_2}=0$$"
   ]
  },
  {
   "cell_type": "markdown",
   "metadata": {},
   "source": [
    "Then we have 2 equations,\n",
    "$$\\begin{equation}\n",
    "  \\begin{cases}\n",
    "    \\frac{(n_h+h-1+c_h)}{\\theta_1}+\\frac{-(c_t+t-1)}{1-\\theta_1}+\\frac{-n_t\\theta_2}{1-\\theta_1\\theta_2}=0\\\\\n",
    "    \\theta_1=\\frac{n_h}{(n_h+n_t)\\theta_2}\n",
    "  \\end{cases}\n",
    "\\end{equation}$$"
   ]
  },
  {
   "cell_type": "markdown",
   "metadata": {},
   "source": [
    "We can solve this system of 2 equations to get\n",
    "$$\\begin{equation}\n",
    "  \\begin{cases}\n",
    "    \\theta_1=\\frac{h-1+c_h}{h+c_h+c_t+t-2}\\\\\n",
    "    \\theta_2=\\frac{n_h(h+c_h+t+c_t-2)}{(n_h+n_t)(h+c_h-1)}\n",
    "  \\end{cases}\n",
    "\\end{equation}$$"
   ]
  }
 ],
 "metadata": {
  "kernelspec": {
   "display_name": "Python 3",
   "language": "python",
   "name": "python3"
  },
  "language_info": {
   "codemirror_mode": {
    "name": "ipython",
    "version": 3
   },
   "file_extension": ".py",
   "mimetype": "text/x-python",
   "name": "python",
   "nbconvert_exporter": "python",
   "pygments_lexer": "ipython3",
   "version": "3.8.3"
  }
 },
 "nbformat": 4,
 "nbformat_minor": 4
}
