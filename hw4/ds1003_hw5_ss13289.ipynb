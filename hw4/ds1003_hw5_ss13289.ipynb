{
 "cells": [
  {
   "cell_type": "markdown",
   "metadata": {},
   "source": [
    "# DS1003 HW5\n",
    "\n",
    "#### Name: Shuwen Shen\n",
    "\n",
    "#### NetID: ss13289"
   ]
  },
  {
   "cell_type": "markdown",
   "metadata": {},
   "source": [
    "### 1.1"
   ]
  },
  {
   "cell_type": "markdown",
   "metadata": {},
   "source": [
    "#### In the ERM process:\n",
    "\n",
    "$\\displaystyle l(y,w)=log(1+e^{-y_iw^Tx_i})$\n",
    "\n",
    "$\\displaystyle\\hat w=argmin\\frac{1}{n}\\sum_{i=1}^{n}l(y,w)=argmin\\frac{1}{n}\\sum_{i=1}^{n}log(1+e^{-y_iw^Tx_i})=argmin\\frac{1}{n}\\sum_{i=1}^{n}log(1+e^{-w^Tx_i})$ \n",
    "\n",
    "(when $x^Tw>0$ s.t. $y=1$) where we tend to minimize the $log(1+e^{-w^Tx_i})$\n",
    "\n",
    "#### In the MLE process:\n",
    "\n",
    "we estimate $\\hat w$ by maximizing the conditional log likelihood\n",
    "\n",
    "$\\displaystyle l(w)=\\sum_{n=1}^{N}logp(y|x;w)=\\sum_{n=1}^{N}logp(y=1|x;w)=\\sum_{n=1}^{N}\\frac{1}{log(1+e^{(-x^Tw)})}=\\sum_{n=1}^{N}-log(1+e^{(-w^Tx)})$\n",
    "\n",
    "which is equivalent to minimizing the NLL $log(1+e^{-w^Tx})$ of the data\n",
    "\n",
    "Therefore, the two approaches are equivalent."
   ]
  },
  {
   "cell_type": "markdown",
   "metadata": {},
   "source": [
    "### 1.2 Linearly Seperable Data"
   ]
  },
  {
   "cell_type": "markdown",
   "metadata": {},
   "source": [
    "#### 1"
   ]
  },
  {
   "cell_type": "markdown",
   "metadata": {},
   "source": [
    "From Lab, we note that in logistic regression, in order to classify an item x as 1, we need $p(y | x) > 0.5$. This will occur if the linear predictor $x^⊤w > 0$. Thus, the decision boundary is\n",
    "$x^⊤w = 0$"
   ]
  },
  {
   "cell_type": "markdown",
   "metadata": {},
   "source": [
    "#### 2"
   ]
  },
  {
   "cell_type": "markdown",
   "metadata": {},
   "source": [
    "The NLL term is $\\displaystyle l(y,cw)=log(1+e^{-y_icw^Tx_i})$\n",
    "\n",
    "We take the derivative of the NLL with respect to c, \n",
    "\n",
    "$\\displaystyle\\frac{\\partial l(cw)}{\\partial c}=\\frac{1}{1+e^{-y_icw^Tx_i}}\\cdot e^{-y_icw^Tx_i}\\cdot(-y_iw^Tx_i)=\\frac{1}{1+e^{-cy_iw^Tx_i}}\\cdot e^{-cy_iw^Tx_i}\\cdot(-y_iw^Tx_i)$\n",
    "\n",
    "Since $y_iw^Tx_i > 0$ for sure according to the rule of the points being classified.\n",
    "\n",
    "So, $\\displaystyle-y_iw^Tx_i<0, \\frac{1}{1+e^{-cy_iw^Tx_i}}>0, e^{-cy_iw^Tx_i}>0$\n",
    "\n",
    "Therefore, the the derivative of NLL is negative, which means that the likelihood is increasing."
   ]
  },
  {
   "cell_type": "markdown",
   "metadata": {},
   "source": [
    "### 1.3 Regularized Logistic Regression"
   ]
  },
  {
   "cell_type": "markdown",
   "metadata": {},
   "source": [
    "#### 1"
   ]
  },
  {
   "cell_type": "markdown",
   "metadata": {},
   "source": [
    "$\\displaystyle J_{logistic}(w)=\\frac{1}{n}\\sum_{i=1}^{n}log\\left(1+e^{-y^{(i)}w^Tx^{(i)}}\\right)+\\lambda||w||^2$\n",
    "\n",
    "According to the facts from the convex optimization notes 3.1.3, Log-Sum-Exp1: $(x_1,...,x_n)􏰀→log(e^{x1} +···+e^{xn})$ is convex on $R^n$.\n",
    "\n",
    "\n",
    "\n",
    "so $\\displaystyle log\\left(1+e^{-y^{(i)}w^Tx^{(i)}}\\right)=log\\left(e^0+e^{-y^{(i)}w^Tx^{(i)}}\\right)$ is convex for sure\n",
    "\n",
    "According to the facts from 3.1.2, $|x|^p$ for $p\\geq 1$ is convex on R, so $\\lambda||w||^2$ is convex as well, giving that $\\lambda>0$\n",
    "\n",
    "Therefore, $J_{logistic}(w)$ is convex."
   ]
  },
  {
   "cell_type": "markdown",
   "metadata": {},
   "source": [
    "#### 2"
   ]
  },
  {
   "cell_type": "code",
   "execution_count": 290,
   "metadata": {},
   "outputs": [],
   "source": [
    "import numpy as np\n",
    "from numpy import linalg as LA\n",
    "from scipy.optimize import minimize\n",
    "from sklearn import preprocessing\n",
    "import matplotlib.pyplot as plt"
   ]
  },
  {
   "cell_type": "code",
   "execution_count": 243,
   "metadata": {},
   "outputs": [],
   "source": [
    "def f_objective(theta, X, y, l2_param=1):\n",
    "    '''\n",
    "    Args:\n",
    "        theta: 1D numpy array of size num_features\n",
    "        X: 2D numpy array of size (num_instances, num_features)\n",
    "        y: 1D numpy array of size num_instances\n",
    "        l2_param: regularization parameter\n",
    "\n",
    "    Returns:\n",
    "        objective: scalar value of objective function\n",
    "    '''\n",
    "    summation=0\n",
    "    n=len(X)\n",
    "    for i in range(n):\n",
    "        power=-np.dot(np.dot(y[i],theta.T),X[i])\n",
    "        log_sum=np.logaddexp(0,power)\n",
    "        summation+=log_sum\n",
    "    \n",
    "\n",
    "    return summation/n+l2_param*(np.sum(theta**2))\n",
    "    \n",
    "    "
   ]
  },
  {
   "cell_type": "markdown",
   "metadata": {},
   "source": [
    "#### 3"
   ]
  },
  {
   "cell_type": "code",
   "execution_count": 271,
   "metadata": {},
   "outputs": [],
   "source": [
    "def fit_logistic_reg(X, y, objective_function, l2_param=1):\n",
    "    '''\n",
    "    Args:\n",
    "        X: 2D numpy array of size (num_instances, num_features)\n",
    "        y: 1D numpy array of size num_instances\n",
    "        objective_function: function returning the value of the objective\n",
    "        l2_param: regularization parameter\n",
    "        \n",
    "    Returns:\n",
    "        optimal_theta: 1D numpy array of size num_features\n",
    "    '''\n",
    "    \n",
    "    optimal_theta=minimize(f_objective, np.zeros(X.shape[1]),args=(X,y,l2_param)).x\n",
    "    return optimal_theta\n",
    "        "
   ]
  },
  {
   "cell_type": "code",
   "execution_count": 272,
   "metadata": {},
   "outputs": [],
   "source": [
    "# load data\n",
    "with open('X_train.txt') as file:\n",
    "    X_train = np.array([[float(digit) for digit in line.split(\",\")] for line in file])\n",
    "with open('y_train.txt') as file:\n",
    "    y_train = np.array([float(line) for line in file])\n",
    "\n",
    "with open('X_val.txt') as file:\n",
    "    X_val = np.array([[float(digit) for digit in line.split(\",\")] for line in file])\n",
    "with open('y_val.txt') as file:\n",
    "    y_val = np.array([float(line) for line in file])\n",
    "    \n",
    "y_train=np.where(y_train==0,-1,1)\n",
    "y_val=np.where(y_val==0,-1,1)"
   ]
  },
  {
   "cell_type": "code",
   "execution_count": 275,
   "metadata": {},
   "outputs": [],
   "source": [
    "# data processing\n",
    "train_bias=np.ones((X_train.shape[0],1))\n",
    "val_bias=np.ones((X_val.shape[0],1))\n",
    "X_train_bias=np.hstack((X_train,train_bias))\n",
    "X_val_bias=np.hstack((X_val,val_bias))\n",
    "X_train_bias_std=preprocessing.scale(X_train)\n",
    "X_val_bias_std=preprocessing.scale(X_val)"
   ]
  },
  {
   "cell_type": "code",
   "execution_count": 280,
   "metadata": {},
   "outputs": [
    {
     "data": {
      "text/plain": [
       "array([ 0.00095582, -0.00029843,  0.00302812,  0.10532678, -0.00358833,\n",
       "       -0.00135865, -0.0038525 , -0.00079011, -0.00114389, -0.07178193,\n",
       "        0.0065481 , -0.00451119,  0.01124911, -0.00386483, -0.00271222,\n",
       "        0.00150349, -0.00278419, -0.00919047, -0.00682312, -0.01027581])"
      ]
     },
     "execution_count": 280,
     "metadata": {},
     "output_type": "execute_result"
    }
   ],
   "source": [
    "w1=fit_logistic_reg(X_train_bias_std, y_train, f_objective)\n",
    "w1"
   ]
  },
  {
   "cell_type": "markdown",
   "metadata": {},
   "source": [
    "#### 4"
   ]
  },
  {
   "cell_type": "code",
   "execution_count": 316,
   "metadata": {},
   "outputs": [],
   "source": [
    "def NLL(X,y,w):\n",
    "    n=len(X)\n",
    "    summation=0\n",
    "    for i in range(n):\n",
    "        power=-np.dot(np.dot(y[i],w.T),X[i])\n",
    "        log_sum=np.logaddexp(0,power)\n",
    "        summation+=log_sum\n",
    "        \n",
    "    return summation"
   ]
  },
  {
   "cell_type": "code",
   "execution_count": 332,
   "metadata": {},
   "outputs": [],
   "source": [
    "l2_power_list=np.arange(-5,5,0.5)\n",
    "l2_list=[10**i for i in l2_power_list]\n",
    "loglike_list=[]\n",
    "for i in l2_list:\n",
    "    w=fit_logistic_reg(X_train_bias_std, y_train, f_objective,l2_param=i)\n",
    "    loglike_list.append(NLL(X_val_bias_std,y_val,w))"
   ]
  },
  {
   "cell_type": "code",
   "execution_count": 333,
   "metadata": {},
   "outputs": [
    {
     "data": {
      "text/plain": [
       "[<matplotlib.lines.Line2D at 0x1a1dd5a4d0>]"
      ]
     },
     "execution_count": 333,
     "metadata": {},
     "output_type": "execute_result"
    },
    {
     "data": {
      "image/png": "[encoded data removed]",
      "text/plain": [
       "<Figure size 432x288 with 1 Axes>"
      ]
     },
     "metadata": {
      "needs_background": "light"
     },
     "output_type": "display_data"
    }
   ],
   "source": [
    "# we tend to minimize the NLL\n",
    "plt.semilogx(l2_list,loglike_list)"
   ]
  },
  {
   "cell_type": "code",
   "execution_count": 337,
   "metadata": {},
   "outputs": [],
   "source": [
    "# narrow down to the range 10**-3,10**0\n",
    "l2_power_list=np.arange(-3,0,0.1)\n",
    "l2_list=[10**i for i in l2_power_list]\n",
    "loglike_list=[]\n",
    "for i in l2_list:\n",
    "    w=fit_logistic_reg(X_train_bias_std, y_train, f_objective,l2_param=i)\n",
    "    loglike_list.append(NLL(X_val_bias_std,y_val,w))"
   ]
  },
  {
   "cell_type": "code",
   "execution_count": 339,
   "metadata": {},
   "outputs": [
    {
     "data": {
      "text/plain": [
       "[<matplotlib.lines.Line2D at 0x1a1e23dc50>]"
      ]
     },
     "execution_count": 339,
     "metadata": {},
     "output_type": "execute_result"
    },
    {
     "data": {
      "image/png": "[encoded data removed]",
      "text/plain": [
       "<Figure size 432x288 with 1 Axes>"
      ]
     },
     "metadata": {
      "needs_background": "light"
     },
     "output_type": "display_data"
    }
   ],
   "source": [
    "plt.semilogx(l2_list,loglike_list)"
   ]
  },
  {
   "cell_type": "code",
   "execution_count": 341,
   "metadata": {},
   "outputs": [
    {
     "data": {
      "text/plain": [
       "0.01995262314968885"
      ]
     },
     "execution_count": 341,
     "metadata": {},
     "output_type": "execute_result"
    }
   ],
   "source": [
    "# search for opt l2_param\n",
    "lam_opt=l2_list[loglike_list.index(min(loglike_list))]\n",
    "lam_opt\n",
    "#lam_opt=0.02"
   ]
  },
  {
   "cell_type": "markdown",
   "metadata": {},
   "source": [
    "### 2 Bayesian Logistic Regression with Gaussian Priors"
   ]
  },
  {
   "cell_type": "markdown",
   "metadata": {},
   "source": [
    "#### 1"
   ]
  },
  {
   "cell_type": "markdown",
   "metadata": {},
   "source": [
    "$\\displaystyle p(w|\\mathcal D)=\\frac{p(\\mathcal D|w)\\cdot p(w)}{p(\\mathcal D)}=e^{-NLL_{\\mathcal D (w)}}\\cdot p(w)$"
   ]
  },
  {
   "cell_type": "markdown",
   "metadata": {},
   "source": [
    "#### 2"
   ]
  },
  {
   "cell_type": "markdown",
   "metadata": {},
   "source": [
    "Yes this is a conjugate prior to the likelihood given by logistic regression since they belong to the same distribution family."
   ]
  },
  {
   "cell_type": "markdown",
   "metadata": {},
   "source": [
    "#### 3"
   ]
  },
  {
   "cell_type": "markdown",
   "metadata": {},
   "source": [
    "\n",
    "$\\begin{aligned}\n",
    "-log(p(w|\\mathcal D))& = NLL_{\\mathcal D(w)}-log\\mathcal D(w)+c \\\\ \n",
    " & = -log(2\\pi^k|\\Sigma|)^{\\frac{1}{2}}\\cdot e^{-\\frac{1}{2}w^T\\Sigma^{-1}w}+n\\hat{R_n}(w)+c \\\\\n",
    " & =-\\frac{1}{2}log(2\\pi^k|\\Sigma|)+\\frac{1}{2}w^T\\Sigma^{-1}w+n\\hat{R_n}(w)+c\\\\\n",
    " & =\\frac{1}{2}w^T\\Sigma^{-1}w + n\\hat{R_n}(w)+c\n",
    " \\end{aligned}$\n",
    " \n",
    "Since we need to find a covariance matrix $\\Sigma$ such that MAP estimate for $w$ after observing data $\\mathcal D$ is the same as the minimizer of the regularized logistic regression function, which means:\n",
    "\n",
    "$$min\\left(-log(p(w|\\mathcal D))\\right)=min(J_{logistic}(w))$$\n",
    "\n",
    "$$\\Downarrow$$\n",
    "\n",
    "$$\\frac{1}{2}w^T\\Sigma^{-1}w + n\\hat{R_n}(w)+c=n\\hat{R_n}(w)+\\lambda||w||^2$$\n",
    "\n",
    "Therefore, $\\Sigma = \\mathrm{I} $"
   ]
  },
  {
   "cell_type": "markdown",
   "metadata": {},
   "source": [
    "#### 4"
   ]
  },
  {
   "cell_type": "markdown",
   "metadata": {},
   "source": [
    "$\\frac{1}{2}w^T\\Sigma^{-1}w + n\\hat{R_n}(w)+c=n\\hat{R_n}(w)+\\frac{1}{2}||w||^2$\n",
    "\n",
    "so $\\frac{1}{2}=\\lambda n$\n",
    "\n",
    "$\\lambda=\\frac{1}{2n}$"
   ]
  },
  {
   "cell_type": "markdown",
   "metadata": {},
   "source": [
    "### 3 Coin Flipping with Partial Observability"
   ]
  },
  {
   "cell_type": "markdown",
   "metadata": {},
   "source": [
    "#### 1"
   ]
  },
  {
   "cell_type": "markdown",
   "metadata": {},
   "source": [
    "According to the Bayes Theorem, $p(x=H|\\theta_1,\\theta_2)=p(x=H|z = H, \\theta_2)\\cdot p(z = H | \\theta_1)=\\theta_1\\theta_2$"
   ]
  },
  {
   "cell_type": "markdown",
   "metadata": {},
   "source": [
    "#### 2"
   ]
  },
  {
   "cell_type": "markdown",
   "metadata": {},
   "source": [
    "$L(\\mathcal D|\\theta_1,\\theta_2)=(\\theta_1\\theta_2)^{n_h}\\cdot(1-\\theta_1\\theta_2)^{n_t}$\n",
    "\n",
    "$logL(\\mathcal D|\\theta_1,\\theta_2)=n_hlog(\\theta_1\\theta_2)+n_tlog(1-\\theta_1\\theta_2)$\n",
    "\n",
    "$\\displaystyle\\frac{\\partial}{\\partial\\theta_1}logL(\\mathcal D|\\theta_1,\\theta_2)=\\frac{n_h}{\\theta_1\\theta_2}\\cdot\\theta_2-\\frac{n_t}{1-\\theta_1\\theta_2}\\cdot\\theta_2=0$\n",
    "\n",
    "(set the derivative to 0 to find the maxinmum likelihood of the function)\n",
    "\n",
    "$\\Rightarrow\\displaystyle\\theta_1\\theta_2=\\frac{n_h}{n_h+n_t}$\n",
    "\n",
    "We just need to find the optimal $\\theta_1\\theta_2$, meaning as long as $\\theta_1$ is as large as this value, you can choose $\\theta_2$ to maximize this likelihood. The exception would be the case with no tails $\\theta_1=\\theta_2=1$."
   ]
  },
  {
   "cell_type": "markdown",
   "metadata": {},
   "source": [
    "#### 3"
   ]
  },
  {
   "cell_type": "markdown",
   "metadata": {},
   "source": [
    "$\\begin{aligned}\n",
    "\\displaystyle L(\\theta_1,\\theta_2)&=p(\\mathcal D_r,\\mathcal D_c|\\theta_1,\\theta_2)\\\\\n",
    "& = p(\\mathcal D_c|\\theta_1)\\cdot p(\\mathcal D_r|\\theta_1\\theta_2)\\\\\n",
    "& = \\theta_1^{c_h}\\cdot(1-\\theta_1)^{c_t}\\cdot\\theta_1\\theta_2^{n_h}\\cdot(1-\\theta_1\\theta_2)^{n_t}\n",
    "\\end{aligned}$\n",
    "\n",
    "$\\displaystyle log L(\\theta_1,\\theta_2)=c_hlog(\\theta_1)+c_tlog(1-\\theta_1)+n_hlog(\\theta_1\\theta_2)+n_tlog(1-\\theta_1\\theta_2)$\n",
    "\n",
    "$\\begin{aligned}\n",
    "\\displaystyle\\frac{\\partial}{\\partial\\theta_1}logL(\\theta_1,\\theta_2)&=\\frac{c_h}{\\theta_1}-\\frac{c_t}{1-\\theta_1}+\\frac{n_h\\theta_2}{\\theta_1\\theta_2}-\\frac{n_t\\theta_2}{1-\\theta_1\\theta_2}\\\\\n",
    "&= \\frac{c_h+n_h}{\\theta_1}-\\frac{c_t}{1-\\theta_1}-\\frac{n_t\\theta_2}{1-\\theta_1\\theta_2}\\\\\n",
    "& = 0\n",
    "\\end{aligned}$\n",
    "\n",
    "(set the derivative to 0 to find the maxinmum likelihood of the function)\n",
    "\n",
    "$\\displaystyle\\Rightarrow\\frac{c_h+n_h}{\\theta_1}-\\frac{c_t}{1-\\theta_1}=\\frac{n_t\\theta_2}{1-\\theta_1\\theta_2}=\\frac{n_t}{\\frac{1}{\\theta_2}-\\theta_1}$\n",
    "\n",
    "$\\displaystyle\\frac{\\partial}{\\partial\\theta_2}logL(\\theta_1,\\theta_2)=\\frac{n_h\\theta_1}{\\theta_1\\theta_2}-\\frac{n_t\\theta_1}{1-\\theta_1\\theta_2}= 0$\n",
    "\n",
    "$\\displaystyle\\Rightarrow\\theta_2=\\frac{n_h}{\\theta_1(n_t+n_h)}$\n"
   ]
  },
  {
   "cell_type": "markdown",
   "metadata": {},
   "source": [
    "#### 4"
   ]
  },
  {
   "cell_type": "markdown",
   "metadata": {},
   "source": [
    "$\\displaystyle f(\\theta_1)=Beta(h,t)=\\frac{1}{B(h,t)}\\cdot\\theta_1^{h-1}(1-\\theta_1)^{t-1}$"
   ]
  },
  {
   "cell_type": "markdown",
   "metadata": {},
   "source": [
    "$\\hat\\theta_{1MAP}=argmax_{\\theta_1}\\sum logp(x|\\theta_1)+logf(\\theta_1)$"
   ]
  },
  {
   "cell_type": "code",
   "execution_count": null,
   "metadata": {},
   "outputs": [],
   "source": []
  }
 ],
 "metadata": {
  "kernelspec": {
   "display_name": "Python 3",
   "language": "python",
   "name": "python3"
  },
  "language_info": {
   "codemirror_mode": {
    "name": "ipython",
    "version": 3
   },
   "file_extension": ".py",
   "mimetype": "text/x-python",
   "name": "python",
   "nbconvert_exporter": "python",
   "pygments_lexer": "ipython3",
   "version": "3.8.3"
  }
 },
 "nbformat": 4,
 "nbformat_minor": 2
}
