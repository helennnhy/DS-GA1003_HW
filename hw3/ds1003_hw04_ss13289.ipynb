{
 "cells": [
  {
   "cell_type": "markdown",
   "metadata": {},
   "source": [
    "# DS1003 HW04\n",
    "\n",
    "Name: Shuwen Shen\n",
    "\n",
    "NetID: ss13289"
   ]
  },
  {
   "cell_type": "markdown",
   "metadata": {},
   "source": [
    "### 1 Perceptron"
   ]
  },
  {
   "cell_type": "markdown",
   "metadata": {},
   "source": [
    "##### 1"
   ]
  },
  {
   "cell_type": "markdown",
   "metadata": {},
   "source": [
    "Since $f(x)=maxf_i(x)$, so $f(x)\\geq f_k(x)$\n",
    "\n",
    "$f(z)\\geq f_k(z)\\geq f_k(x)+g^T(z-x)$\n",
    "\n",
    "Since $f(x)=f_k(x)$\n",
    "\n",
    "so $f(z)\\geq f(x)+g^T(z-x)$\n",
    "\n",
    "so $g\\in\\partial f(x)$\n",
    "\n"
   ]
  },
  {
   "cell_type": "markdown",
   "metadata": {},
   "source": [
    "##### 2"
   ]
  },
  {
   "cell_type": "markdown",
   "metadata": {},
   "source": [
    "subgradent of loss $\\nabla J(w)$\n",
    "\n",
    "$=\\partial\\max(0,1-yw^Tx)\\cdot yx$ (by chain rule)\n",
    "\n",
    "$=\\left(\\begin{cases}\n",
    "0 & yw^Tx>1\\\\\n",
    "-1 & yw^Tx\\leq 1\n",
    "\\end{cases}\\right)\\cdot yx$\n",
    "\n",
    "$=\\begin{cases}\n",
    "0 & yw^Tx>1\\\\\n",
    "-yx & yw^Tx\\leq1\n",
    "\\end{cases}$"
   ]
  },
  {
   "cell_type": "markdown",
   "metadata": {},
   "source": [
    "##### 3"
   ]
  },
  {
   "cell_type": "markdown",
   "metadata": {},
   "source": [
    "Since $\\{x | w^Tx=0\\}$ is a separating hyperplane for the training set $\\mathcal{D}$, so it satisifies that $yw^Tx = \\hat y y>0$ \n",
    "\n",
    "Therefore, the perceptron loss is $\\ell(\\hat y,y)=max\\{0,-\\hat y y\\}=0$ \n",
    "\n",
    "(since $\\hat y y>0$, $-\\hat y y<0$)\n",
    "\n",
    "Therefore, the average perceptron loss on $\\mathcal{D}$ is 0."
   ]
  },
  {
   "cell_type": "markdown",
   "metadata": {},
   "source": [
    "##### 4"
   ]
  },
  {
   "cell_type": "markdown",
   "metadata": {},
   "source": [
    "The empirical risk with the perceptron loss is $\\displaystyle \\frac{1}{n}\\sum_{i=1}^{n}\\max\\left\\{0,-\\hat y y\\right\\}=\\frac{1}{n}\\sum_{i=1}^{n}max\\{0,-yw^Tx\\}$\n",
    "\n",
    "The subgradient of $f_i=\\begin{cases}\n",
    "0 & yw^Tx>0\\\\\n",
    "-yx & yw^Tx\\leq0\n",
    "\\end{cases}$\n",
    "\n",
    "For stochastic subgraident descent, $\\displaystyle w^{(k+1)}=w^{(k)}-\\alpha_k g^{(k)}$, where $\\alpha_k =1 $ as given, and $g\\in\\partial f_i$\n",
    "\n",
    "Therefore, $\\displaystyle w^{(k+1)}=w^{(k)}-g^{(k)}=\\begin{cases}\n",
    "w^{(k)} & yw^Tx>0\\\\\n",
    "w^{(k)}-(-yx)=w^{(k)}+yx & yw^Tx\\leq0\n",
    "\\end{cases}$,\n",
    "\n",
    "Therefore, we are exactly doing the Perceptron algorithm."
   ]
  },
  {
   "cell_type": "markdown",
   "metadata": {},
   "source": [
    "##### 5"
   ]
  },
  {
   "cell_type": "markdown",
   "metadata": {},
   "source": [
    "Since $w^{(k+1)}=\\begin{cases}\n",
    "w^{(k)} & yw^Tx>0\\\\\n",
    "w^{(k)}+yx & yw^Tx\\leq0\n",
    "\\end{cases}$\n",
    "\n",
    "Initially, $w^{(0)}=0$,\n",
    "\n",
    "For step 1, $w^{(1)}= \\begin{cases}\n",
    "0 & yw^Tx>0\\\\\n",
    "yx & yw^Tx\\leq0\n",
    "\\end{cases}$, and it could be expressed as $w^{(1)}=\\sum_{i=1}^{n}\\alpha_ix_i$ where $\\alpha_i=\\begin{cases}\n",
    "0 & yw^Tx>0\\\\\n",
    "y_i & yw^Tx\\leq0\n",
    "\\end{cases}$\n",
    "\n",
    "For step 2, $w^{(2)}=\\begin{cases}\n",
    "0 & yw^Tx>0\\\\\n",
    "w^{(1)}+yx & yw^Tx\\leq0\n",
    "\\end{cases}$, and it could still be expressed as a linear combination of $x$,\n",
    "\n",
    "since we have proved above that $w^{(1)}$ and $y_ix_i$ are all linear combination of $x$, so as up to any $w^{(i)}$\n",
    "\n",
    "Therefore, $w$ is a linear combination of the input points.\n"
   ]
  },
  {
   "cell_type": "markdown",
   "metadata": {},
   "source": [
    "### 2 Sparse Representations"
   ]
  },
  {
   "cell_type": "markdown",
   "metadata": {},
   "source": [
    "##### 1"
   ]
  },
  {
   "cell_type": "code",
   "execution_count": 721,
   "metadata": {},
   "outputs": [],
   "source": [
    "import os\n",
    "import numpy as np\n",
    "import pickle\n",
    "import random\n",
    "from collections import Counter"
   ]
  },
  {
   "cell_type": "code",
   "execution_count": 722,
   "metadata": {},
   "outputs": [],
   "source": [
    "def folder_list(path,label):\n",
    "    '''\n",
    "    PARAMETER PATH IS THE PATH OF YOUR LOCAL FOLDER\n",
    "    '''\n",
    "    filelist = os.listdir(path)\n",
    "    review = []\n",
    "    for infile in filelist:\n",
    "        file = os.path.join(path,infile)\n",
    "        r = read_data(file)\n",
    "        r.append(label)\n",
    "        review.append(r)\n",
    "    return review\n",
    "\n",
    "def read_data(file):\n",
    "    '''\n",
    "    Read each file into a list of strings.\n",
    "    Example:\n",
    "    [\"it's\", 'a', 'curious', 'thing', \"i've\", 'found', 'that', 'when', 'willis', 'is', 'not', 'called', 'on',\n",
    "    ...'to', 'carry', 'the', 'whole', 'movie', \"he's\", 'much', 'better', 'and', 'so', 'is', 'the', 'movie']\n",
    "    '''\n",
    "    f = open(file)\n",
    "    lines = f.read().split(' ')\n",
    "    symbols = '${}()[].,:;+-*/&|<>=~\" '\n",
    "    words = map(lambda Element: Element.translate(str.maketrans(\"\", \"\", symbols)).strip(), lines)\n",
    "    words = filter(None, words)\n",
    "    return list(words)\n",
    "\n",
    "def shuffle_data():\n",
    "    '''\n",
    "    pos_path is where you save positive review data.\n",
    "    neg_path is where you save negative review data.\n",
    "    '''\n",
    "    pos_path = \"data/pos\"\n",
    "    neg_path = \"data/neg\"\n",
    "\n",
    "    pos_review = folder_list(pos_path,1)\n",
    "    neg_review = folder_list(neg_path,-1)\n",
    "\n",
    "    review = pos_review + neg_review\n",
    "    random.shuffle(review)\n",
    "\n"
   ]
  },
  {
   "cell_type": "code",
   "execution_count": 723,
   "metadata": {},
   "outputs": [
    {
     "name": "stdout",
     "output_type": "stream",
     "text": [
      "/Users/shuwenshen/Desktop\r\n"
     ]
    }
   ],
   "source": [
    "!pwd"
   ]
  },
  {
   "cell_type": "code",
   "execution_count": 724,
   "metadata": {},
   "outputs": [
    {
     "data": {
      "text/plain": [
       "2000"
      ]
     },
     "execution_count": 724,
     "metadata": {},
     "output_type": "execute_result"
    }
   ],
   "source": [
    "# read data and shuffle it \n",
    "\n",
    "pos_path = \"/Users/shuwenshen/Desktop/data/pos\"\n",
    "neg_path = \"/Users/shuwenshen/Desktop/data/neg\"\n",
    "\n",
    "pos_review = folder_list(pos_path,1)\n",
    "neg_review = folder_list(neg_path,-1)\n",
    "\n",
    "review = pos_review + neg_review\n",
    "random.shuffle(review)\n",
    "\n",
    "len(review)"
   ]
  },
  {
   "cell_type": "code",
   "execution_count": 725,
   "metadata": {},
   "outputs": [
    {
     "name": "stdout",
     "output_type": "stream",
     "text": [
      "1500 500\n"
     ]
    }
   ],
   "source": [
    "# split data into 1500 training and 500 validation\n",
    "train = review[:1500]\n",
    "valid = review[1500:]\n",
    "print(len(train),len(valid))"
   ]
  },
  {
   "cell_type": "code",
   "execution_count": 726,
   "metadata": {},
   "outputs": [],
   "source": [
    "train_label = np.array([i[-1] for i in train])\n",
    "validate_label = np.array([i[-1] for i in valid])"
   ]
  },
  {
   "cell_type": "code",
   "execution_count": 727,
   "metadata": {},
   "outputs": [
    {
     "name": "stdout",
     "output_type": "stream",
     "text": [
      "In training: 752 positive, 748 negative\n",
      "In validation: 248 positive, 252 negative\n"
     ]
    }
   ],
   "source": [
    "print (\"In training: %r positive, %r negative\" %(np.sum(train_label[train_label>0]), -np.sum(train_label[train_label<0])))\n",
    "print (\"In validation: %r positive, %r negative\" %(np.sum(validate_label[validate_label>0]), -np.sum(validate_label[validate_label<0])))"
   ]
  },
  {
   "cell_type": "markdown",
   "metadata": {},
   "source": [
    "##### 2"
   ]
  },
  {
   "cell_type": "code",
   "execution_count": 728,
   "metadata": {},
   "outputs": [],
   "source": [
    "train_review=np.array([i[:-1] for i in train])\n",
    "valid_review=np.array([i[:-1] for i in valid])    "
   ]
  },
  {
   "cell_type": "code",
   "execution_count": 729,
   "metadata": {},
   "outputs": [],
   "source": [
    "def bag_of_words(example):\n",
    "    return Counter(example)"
   ]
  },
  {
   "cell_type": "code",
   "execution_count": 730,
   "metadata": {},
   "outputs": [],
   "source": [
    "#bag_of_words(train_review[0])"
   ]
  },
  {
   "cell_type": "markdown",
   "metadata": {},
   "source": [
    "### 3 SVM with via Pegasos"
   ]
  },
  {
   "cell_type": "markdown",
   "metadata": {},
   "source": [
    "##### 1 2"
   ]
  },
  {
   "cell_type": "markdown",
   "metadata": {},
   "source": [
    "$\\displaystyle J_i(w)=\\frac{\\lambda}{2}\\left\\lVert w\\right\\rVert^2+\\frac{1}{m}\\sum_{i=1}^{m}\\max\\left\\{0,1-y_i\\left[w^Tx_i\\right]\\right\\}$\n",
    "\n",
    "$\\displaystyle\\partial J_i(w)=\\lambda w+(\\partial\\frac{1}{m}\\sum_{i=1}^{m}\\max\\left\\{0,1-y_i\\left[w^Tx_i\\right]\\right\\}) =\\lambda w + \\frac{1}{m}\\sum_{i=1}^{m}\\partial\\max\\left\\{0,1-y_i\\left[w^Tx_i\\right]\\right\\}$\n",
    "\n",
    "Since the subgradent of $\\max\\left\\{0,1-y_iw^Tx_i\\right\\}=\\begin{cases}\n",
    "0 & y_iw^Tx_i>1\\\\\n",
    "-y_ix_i & y_iw^Tx_i<1\\\\\n",
    "\\mathrm{undefined} & y_iw^Tx_i=1\n",
    "\\end{cases}$\n",
    "\n",
    "$\\partial J(w)=\\begin{cases}\n",
    "\\lambda w+\\frac{1}{m}\\sum_{i:y_iw^Tx_i <1}(-y_ix_i) & \\mathrm{all}\\ y_iw^Tx_i \\neq 1\\\\\n",
    "\\mathrm{undefined} & \\mathrm{otherwise}\n",
    "\\end{cases}$"
   ]
  },
  {
   "cell_type": "markdown",
   "metadata": {},
   "source": [
    "(Since $J_i(w)$ are convex functions, so it satisfies $\\partial f(x)=\\partial f_i(x)+\\dotsc+\\partial f_m(x)$. So, $\\partial J(w)=\\partial J_i(w)+\\dotsc+\\partial J_m(w)$)\n",
    "\n",
    "Therefore, the subgraident of $J_i(w)$ is given by \n",
    "\n",
    "$g=\\begin{cases}\n",
    "\\lambda w+\\frac{1}{m}\\sum(-y_ix_i)= \\lambda w-y_ix_i & \\mathrm{for}\\ y_iw^Tx_i < 1\\\\\n",
    "\\lambda w+0=\\lambda w& \\mathrm{for}\\ y_iw^Tx_i \\geq 1\n",
    "\\end{cases}$\n"
   ]
  },
  {
   "cell_type": "markdown",
   "metadata": {},
   "source": [
    "##### 3"
   ]
  },
  {
   "cell_type": "markdown",
   "metadata": {},
   "source": [
    "For stochastic subgraident descent, $\\displaystyle w^{(t+1)}=w^{(t)}-\\eta_t g^{(t)}$, where $\\eta_t =1/\\left(\\lambda t\\right)$ as given, and $g\\in\\partial f_i$\n",
    "\n",
    "Therefore, $\\displaystyle w^{(t+1)}=w^{(t)}-\\eta_tg^{(t)}=w^{(t)}-1/\\left(\\lambda t\\right)g^{(t)}=\\begin{cases}\n",
    "w^{(t)}- \\eta_t\\cdot(\\lambda w^{(t)}-y_ix_i)=(1-\\eta_t\\lambda)\\cdot w^{(t)} + \\eta_ty_ix_i & yw^Tx<1\\\\\n",
    "w^{(t)}-\\eta_t\\cdot\\lambda w^{(t)}=(1-\\eta_t \\lambda)\\cdot w^{(t)} & yw^Tx\\geq1\n",
    "\\end{cases}$\n",
    "\n",
    "Therefore, we are exactly doing the same as given in the pseudocode."
   ]
  },
  {
   "cell_type": "markdown",
   "metadata": {},
   "source": [
    "##### 4"
   ]
  },
  {
   "cell_type": "code",
   "execution_count": 731,
   "metadata": {},
   "outputs": [],
   "source": [
    "def dotProduct(d1, d2):\n",
    "    \"\"\"\n",
    "    @param dict d1: a feature vector represented by a mapping from a feature (string) to a weight (float).\n",
    "    @param dict d2: same as d1\n",
    "    @return float: the dot product between d1 and d2\n",
    "    \"\"\"\n",
    "    if len(d1) < len(d2):\n",
    "        return dotProduct(d2, d1)\n",
    "    else:\n",
    "        return sum(d1.get(f, 0) * v for f, v in d2.items())\n",
    "\n",
    "def increment(d1, scale, d2):\n",
    "    \"\"\"\n",
    "    Implements d1 += scale * d2 for sparse vectors.\n",
    "    @param dict d1: the feature vector which is mutated.\n",
    "    @param float scale\n",
    "    @param dict d2: a feature vector.\n",
    "\n",
    "    NOTE: This function does not return anything, but rather\n",
    "    increments d1 in place. We do this because it is much faster to\n",
    "    change elements of d1 in place than to build a new dictionary and\n",
    "    return it.\n",
    "    \"\"\"\n",
    "    for f, v in d2.items():\n",
    "        d1[f] = d1.get(f, 0) + v * scale\n"
   ]
  },
  {
   "cell_type": "code",
   "execution_count": 732,
   "metadata": {},
   "outputs": [],
   "source": [
    "def pegasos(review_list, max_epoch, lam):\n",
    "    \n",
    "    #Initialization\n",
    "    epoch = 0\n",
    "    t = 0 #review_list=train\n",
    "    \n",
    "    y=np.array([i[-1] for i in review_list]) #label\n",
    "    w= Counter()\n",
    "    x=np.array([i[:-1] for i in review_list]) #word\n",
    "\n",
    "    np.random.seed(10)\n",
    "    shuffle=np.random.permutation(len(x))\n",
    "    #Loop\n",
    "    # Use the util.increment and util.dotProduct functions in update\n",
    "    while epoch < max_epoch:\n",
    "        np.random.seed(10)\n",
    "        for j in shuffle:\n",
    "            t=t+1\n",
    "            n=1/(t*lam)\n",
    "            if y[j]*dotProduct(w, bag_of_words(x[j])) <1:\n",
    "                increment(w, (-n*lam),w) \n",
    "                increment(w, n*y[j],bag_of_words(x[j]))               \n",
    "            else:\n",
    "                increment(w, (-n*lam),w)\n",
    "        print(epoch)\n",
    "        epoch+=1\n",
    "            \n",
    "    return w"
   ]
  },
  {
   "cell_type": "markdown",
   "metadata": {},
   "source": [
    "##### 5"
   ]
  },
  {
   "cell_type": "code",
   "execution_count": 733,
   "metadata": {},
   "outputs": [],
   "source": [
    "def pegasos_fast(review_list, max_epoch, lam):\n",
    "\n",
    "    #Initialization  \n",
    "    \n",
    "    W = Counter()\n",
    "    epoch = 0\n",
    "    t = 1\n",
    "    s = 1.\n",
    "    \n",
    "    y=np.array([i[-1] for i in review_list]) #label   \n",
    "    x=np.array([i[:-1] for i in review_list]) #word\n",
    "    \n",
    "    np.random.seed(10)\n",
    "    shuffle=np.random.permutation(len(x))\n",
    "    \n",
    "    #Loop\n",
    "    # Use the util.increment and util.dotProduct functions in update\n",
    "    while epoch < max_epoch:\n",
    "        for j in shuffle:         \n",
    "            t=t+1\n",
    "            n=1/(t*lam)\n",
    "            s=(1-n*lam)*s\n",
    "            if s==0:\n",
    "                s=1\n",
    "                W={}\n",
    "                \n",
    "            if y[j]*s*dotProduct(W, bag_of_words(x[j])) <1:                               \n",
    "                increment(W,(n * y[j]/s),bag_of_words(x[j]))               \n",
    "                                           \n",
    "        epoch+=1\n",
    "    for key in W:\n",
    "        W[key]=W[key]*s\n",
    "        \n",
    "    return W"
   ]
  },
  {
   "cell_type": "markdown",
   "metadata": {},
   "source": [
    "##### 6"
   ]
  },
  {
   "cell_type": "code",
   "execution_count": 734,
   "metadata": {},
   "outputs": [
    {
     "name": "stdout",
     "output_type": "stream",
     "text": [
      "0\n",
      "1\n",
      "2\n",
      "3\n",
      "4\n",
      "run_time: 102.926736\n"
     ]
    }
   ],
   "source": [
    "import time\n",
    "\n",
    "start_time = time.time()\n",
    "\n",
    "w_=pegasos(train, 5, 0.1)\n",
    "\n",
    "end_time = time.time()\n",
    "\n",
    "print(\"run_time: %f\" % (end_time - start_time))"
   ]
  },
  {
   "cell_type": "code",
   "execution_count": 735,
   "metadata": {},
   "outputs": [
    {
     "name": "stdout",
     "output_type": "stream",
     "text": [
      "run_time: 1.947026\n"
     ]
    }
   ],
   "source": [
    "import time\n",
    "\n",
    "start_time = time.time()\n",
    "\n",
    "w=pegasos_fast(train, 5, 0.1)\n",
    "\n",
    "end_time = time.time()\n",
    "\n",
    "print(\"run_time: %f\" % (end_time - start_time))"
   ]
  },
  {
   "cell_type": "code",
   "execution_count": 736,
   "metadata": {},
   "outputs": [
    {
     "name": "stdout",
     "output_type": "stream",
     "text": [
      "The two approches give the same result\n"
     ]
    }
   ],
   "source": [
    "# check l2 error/loss between two approches\n",
    "diff=[w_[k]-w[k] for k in w]\n",
    "l2_loss = sum(map(lambda i : i * i, diff)) \n",
    "if round(l2_loss,6)== 0:\n",
    "    print(\"The two approches give the same result\")"
   ]
  },
  {
   "cell_type": "markdown",
   "metadata": {},
   "source": [
    "##### 7"
   ]
  },
  {
   "cell_type": "code",
   "execution_count": 737,
   "metadata": {},
   "outputs": [],
   "source": [
    "def svm_predict(review_X, weight):\n",
    "    if dotProduct(weight, review_X)>0:\n",
    "        return 1\n",
    "    else:\n",
    "        return -1"
   ]
  },
  {
   "cell_type": "code",
   "execution_count": 738,
   "metadata": {},
   "outputs": [],
   "source": [
    "def accuracy_percent(review_list, weight):\n",
    "    \"\"\"\n",
    "    Description\n",
    "    ===========\n",
    "    Accuracy of predictions for collection of reviews under weights\n",
    "    \"\"\"\n",
    "    \n",
    "    y=np.array([i[-1] for i in review_list]) #label \n",
    "    x=np.array([i[:-1] for i in review_list]) #word reviews\n",
    "    predict=[]\n",
    "    for i in range(len(x)):\n",
    "        reviewX=bag_of_words(x[i])\n",
    "        predict_y=svm_predict(reviewX, weight)\n",
    "        predict.append(predict_y)\n",
    "    \n",
    "    error=np.count_nonzero(predict-y)/len(x)\n",
    "\n",
    "    #error=np.count_nonzero(predict-y!=0)/len(y)\n",
    "    return error\n",
    "    "
   ]
  },
  {
   "cell_type": "code",
   "execution_count": 739,
   "metadata": {},
   "outputs": [],
   "source": [
    "w=pegasos_fast(train, 10, 0.1)"
   ]
  },
  {
   "cell_type": "code",
   "execution_count": 740,
   "metadata": {},
   "outputs": [
    {
     "name": "stdout",
     "output_type": "stream",
     "text": [
      "The percent error is: 2.47%\n"
     ]
    }
   ],
   "source": [
    "print(\"The percent error is: \"+'{:.2%}'.format(accuracy_percent(train, w)))"
   ]
  },
  {
   "cell_type": "markdown",
   "metadata": {},
   "source": [
    "##### 8"
   ]
  },
  {
   "cell_type": "code",
   "execution_count": 741,
   "metadata": {},
   "outputs": [],
   "source": [
    "w1=pegasos_fast(valid, 10, 0.1)"
   ]
  },
  {
   "cell_type": "code",
   "execution_count": 742,
   "metadata": {},
   "outputs": [
    {
     "name": "stdout",
     "output_type": "stream",
     "text": [
      "The percent error is: 5.60%\n"
     ]
    }
   ],
   "source": [
    "print(\"The percent error is: \"+'{:.2%}'.format(accuracy_percent(valid, w1)))"
   ]
  },
  {
   "cell_type": "code",
   "execution_count": 743,
   "metadata": {},
   "outputs": [],
   "source": [
    "import matplotlib.pyplot as plt"
   ]
  },
  {
   "cell_type": "code",
   "execution_count": 748,
   "metadata": {},
   "outputs": [],
   "source": [
    "lam_list=[1e-5,1e-4,1e-3,1e-2,1e-1,1,2,3,5,10]\n",
    "error=[]\n",
    "for lam in lam_list:\n",
    "    w2=pegasos_fast(valid, 10, lam)\n",
    "    error.append(accuracy_percent(valid, w2))"
   ]
  },
  {
   "cell_type": "code",
   "execution_count": 749,
   "metadata": {},
   "outputs": [
    {
     "data": {
      "text/plain": [
       "Text(0, 0.5, 'error percent')"
      ]
     },
     "execution_count": 749,
     "metadata": {},
     "output_type": "execute_result"
    },
    {
     "data": {
      "image/png": "[encoded data removed]",
      "text/plain": [
       "<Figure size 432x288 with 1 Axes>"
      ]
     },
     "metadata": {
      "needs_background": "light"
     },
     "output_type": "display_data"
    }
   ],
   "source": [
    "plt.scatter(lam_list,error)\n",
    "plt.xlabel('lambda')\n",
    "plt.ylabel('error percent')"
   ]
  },
  {
   "cell_type": "code",
   "execution_count": 750,
   "metadata": {},
   "outputs": [],
   "source": [
    "# continue zoom in between 1e-2 and 1\n",
    "lam_list=[1e-2,1e-1,0.2,0.5,0.7,1]\n",
    "error=[]\n",
    "for lam in lam_list:\n",
    "    w2=pegasos_fast(valid, 10, lam)\n",
    "    error.append(accuracy_percent(valid, w2))"
   ]
  },
  {
   "cell_type": "code",
   "execution_count": 751,
   "metadata": {},
   "outputs": [
    {
     "data": {
      "text/plain": [
       "Text(0, 0.5, 'error percent')"
      ]
     },
     "execution_count": 751,
     "metadata": {},
     "output_type": "execute_result"
    },
    {
     "data": {
      "image/png": "[encoded data removed]",
      "text/plain": [
       "<Figure size 432x288 with 1 Axes>"
      ]
     },
     "metadata": {
      "needs_background": "light"
     },
     "output_type": "display_data"
    }
   ],
   "source": [
    "plt.scatter(lam_list,error)\n",
    "plt.xlabel('lambda')\n",
    "plt.ylabel('error percent')"
   ]
  },
  {
   "cell_type": "code",
   "execution_count": 752,
   "metadata": {},
   "outputs": [],
   "source": [
    "# continue zoom in between 0 and 0.2\n",
    "lam_list=[1e-3,0.01,0.015,0.02,0.05,0.1,0.2]\n",
    "error=[]\n",
    "for lam in lam_list:\n",
    "    w2=pegasos_fast(valid, 10, lam)\n",
    "    error.append(accuracy_percent(valid, w2))"
   ]
  },
  {
   "cell_type": "code",
   "execution_count": 753,
   "metadata": {},
   "outputs": [
    {
     "data": {
      "text/plain": [
       "Text(0, 0.5, 'error percent')"
      ]
     },
     "execution_count": 753,
     "metadata": {},
     "output_type": "execute_result"
    },
    {
     "data": {
      "image/png": "[encoded data removed]",
      "text/plain": [
       "<Figure size 432x288 with 1 Axes>"
      ]
     },
     "metadata": {
      "needs_background": "light"
     },
     "output_type": "display_data"
    }
   ],
   "source": [
    "plt.scatter(lam_list,error)\n",
    "plt.xlabel('lambda')\n",
    "plt.ylabel('error percent')"
   ]
  },
  {
   "cell_type": "code",
   "execution_count": 755,
   "metadata": {},
   "outputs": [
    {
     "data": {
      "text/plain": [
       "0.02"
      ]
     },
     "execution_count": 755,
     "metadata": {},
     "output_type": "execute_result"
    }
   ],
   "source": [
    "lam_opt=lam_list[error.index(min(error))]\n",
    "lam_opt"
   ]
  },
  {
   "cell_type": "code",
   "execution_count": 756,
   "metadata": {},
   "outputs": [
    {
     "name": "stdout",
     "output_type": "stream",
     "text": [
      "The best regularization parameter is when lambda= 0.02\n",
      "The error percent is 2.40%\n"
     ]
    }
   ],
   "source": [
    "w_opt=pegasos_fast(valid, 10, lam_opt)\n",
    "print(\"The best regularization parameter is when lambda=\",lam_opt)\n",
    "print(\"The error percent is \"+'{:.2%}'.format(accuracy_percent(valid, w_opt)))"
   ]
  },
  {
   "cell_type": "markdown",
   "metadata": {},
   "source": [
    "### 5 Kernals"
   ]
  },
  {
   "cell_type": "markdown",
   "metadata": {},
   "source": [
    "##### 1"
   ]
  },
  {
   "cell_type": "markdown",
   "metadata": {},
   "source": [
    "$k(x,z)$ is a kernel. \n",
    "\n",
    "We can construct two feature vectors $φ(x)$ and $φ(z)$ such that $k(x,z) =φ(x)·φ(z)$. \n",
    "\n",
    "Assume that we have a vocabulary $V$ that contains the words in the document set. Then we can construct a feature mapping $φ(x)$ for $x$ by the following: \n",
    "\n",
    "For the $k_{th}$ word $w_k$ in $V$, if $w_k$ appears in document $x$, assign $φ(x)_k$ (the $k_{th}$ element of $φ(x))=1$; \n",
    "\n",
    "otherwise set the element $φ(x)_k=0$.\n",
    "\n",
    "Then the number of unique words common in $x$ and $z$ is $φ(x)·φ(z)$, giving us the kernel."
   ]
  },
  {
   "cell_type": "markdown",
   "metadata": {},
   "source": [
    "##### 2"
   ]
  },
  {
   "cell_type": "markdown",
   "metadata": {},
   "source": [
    "Since $k(x,z)=x^Tz$ is a kernal, according to the rule $(a)(scaling)$, \n",
    "\n",
    "$\\displaystyle\\frac{x^Tz}{||x||_2||z||_2}=\\left(\\frac{x}{||x||_2}\\right)^T\\left(\\frac{z}{||z||_2}\\right)$ is also a kernal,\n",
    "\n",
    "then, according to the rule $(b)(sum)$,\n",
    "\n",
    "$\\displaystyle1+\\left(\\frac{x}{||x||_2}\\right)^T\\left(\\frac{z}{||z||_2}\\right)$ is also a kernal,\n",
    "\n",
    "then according to the rule $(c) (product)$,\n",
    "\n",
    "$\\displaystyle\\left(1+\\left(\\frac{x}{||x||_2}\\right)^T\\left(\\frac{z}{||z||_2}\\right)\\right)^3$ is also a kernal."
   ]
  },
  {
   "cell_type": "markdown",
   "metadata": {},
   "source": [
    "### 6 Kernel Pegasos"
   ]
  },
  {
   "cell_type": "markdown",
   "metadata": {},
   "source": [
    "##### 1"
   ]
  },
  {
   "cell_type": "markdown",
   "metadata": {},
   "source": [
    "For a pair of input points x and x′, and two possible feature vectors $φ(1)(·)$  and $φ(2)(·)$ for each point, of lengths n1 and n2 respectively, the product kernel value (which is a scalar) is given by:"
   ]
  },
  {
   "cell_type": "markdown",
   "metadata": {},
   "source": [
    "$K(x,x')=K_1(x,x')\\cdot K_2(x,x')=φ(x)^T\\cdotφ(x')=\\langle x_i,x_j\\rangle$\n",
    "\n",
    "$\\mathit{l}(w^{(t)};(\\phi(x_j),y_j))=max\\left\\{0,1-y_j\\langle w^{(t)},\\phi(x_j)\\rangle\\right\\}$\n",
    "\n",
    "$\\displaystyle w_{t+1}=\\frac{1}{\\lambda t}\\sum_{j=1}^{m}\\alpha_{t+1}[j]y_j\\phi(x_j)$ \n",
    "\n",
    "parametrized throught $\\alpha\\in R^m$. The margin can then be writtten in terms of the $\\alpha$ variables and kernel evaluation:\n",
    "\n",
    "\n",
    "$\\displaystyle min_\\alpha \\frac{\\lambda}{2}\\sum_{i,j=1}^{m}\\alpha[i]\\alpha[j]\\cdot K(x_i,x_j)+\\frac{1}{m}\\sum_{i=1}^{m}max\\left\\{0,1-y_i\\sum_{i=1}^{m}\\alpha[j]\\cdot K(x_i,x_j)\\right\\}$\n",
    "\n",
    "Therefore, $y_j\\langle w^{(t)},x_j\\rangle = y_j\\cdot K_j\\alpha^{(t)}$"
   ]
  },
  {
   "cell_type": "markdown",
   "metadata": {},
   "source": [
    "##### 2"
   ]
  },
  {
   "cell_type": "markdown",
   "metadata": {},
   "source": [
    "\\begin{cases}\n",
    "\\alpha_{t+1}=\\alpha_t+1 & y_{i_t}\\cdot\\frac{1}{\\lambda t}\\sum_{j}\\alpha_ty_jK<1\\\\\n",
    "\\alpha_{t+1}=\\alpha_t& otherwise\n",
    "\\end{cases}\n"
   ]
  },
  {
   "cell_type": "markdown",
   "metadata": {},
   "source": [
    "##### 3"
   ]
  },
  {
   "cell_type": "markdown",
   "metadata": {},
   "source": [
    "Repeat the previous problem, but for the case that (xj , yj ) has a margin violation. Then give the full pseudocode for kernelized Pegasos. You may assume that you receive the kernel matrix K as input, along with the labels y1, . . . , yn ∈ {−1, 1}"
   ]
  },
  {
   "cell_type": "markdown",
   "metadata": {},
   "source": [
    "$\\mathrm{Input: K, y,\\lambda, T}$\n",
    "\n",
    "$\\mathrm{Initialize:\\ Set}\\ \\alpha_1=0$\n",
    "\n",
    "$\\mathrm{For}\\ t=1,2,..., T\\\\\n",
    "\\quad\\mathrm{Choose}\\ i_t\\in\\{0,...,M\\}\\ \\left(\\mathrm{assumes\\ data\\ is\\ randomly\\ permuted}\\right)\\\\\n",
    "\\quad\\mathrm{For\\ all}\\ j\\neq i_t, \\mathrm{set}\\ \\alpha_{t+1}[j]=\\alpha_t[j]\\\\\n",
    "\\quad\\mathrm{If}\\ y_{i_t}\\cdot\\frac{1}{\\lambda t}\\sum_{j}\\alpha_t[j]y_jK<1, \\mathrm{then}:\\\\\n",
    "\\quad\\quad\\mathrm{Set}\\ \\alpha_{t+1}[i_t]=\\alpha_t[i_t]+1\\\\\n",
    "\\quad\\mathrm{Else:}\\\\\n",
    "\\quad\\quad\\mathrm{Set}\\ \\alpha_{t+1}[i_t]=\\alpha_t[i_t]\\\\\n",
    "\\mathrm{Output}: \\alpha_{t+1}$"
   ]
  },
  {
   "cell_type": "code",
   "execution_count": null,
   "metadata": {},
   "outputs": [],
   "source": []
  }
 ],
 "metadata": {
  "kernelspec": {
   "display_name": "Python 3",
   "language": "python",
   "name": "python3"
  },
  "language_info": {
   "codemirror_mode": {
    "name": "ipython",
    "version": 3
   },
   "file_extension": ".py",
   "mimetype": "text/x-python",
   "name": "python",
   "nbconvert_exporter": "python",
   "pygments_lexer": "ipython3",
   "version": "3.8.3"
  }
 },
 "nbformat": 4,
 "nbformat_minor": 2
}
