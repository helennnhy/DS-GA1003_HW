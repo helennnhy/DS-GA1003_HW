{
 "cells": [
  {
   "cell_type": "markdown",
   "metadata": {},
   "source": [
    "Name: Zhuoyuan Xu\n",
    "\n",
    "NetID: zx1137\n",
    "\n",
    "Due Date: March 15, 2021"
   ]
  },
  {
   "cell_type": "markdown",
   "metadata": {},
   "source": [
    "# Support Vector Machines: SVMs with Pegasos"
   ]
  },
  {
   "cell_type": "markdown",
   "metadata": {},
   "source": [
    "**Problem 1**"
   ]
  },
  {
   "cell_type": "markdown",
   "metadata": {},
   "source": [
    "The definition of the subdifferential of function $f$ at $x$ is\n",
    "$$\\partial f(x)=\\{g|f(z)\\geq f(x)+g^T(z-x), \\forall z\\in dom f\\}$$"
   ]
  },
  {
   "cell_type": "markdown",
   "metadata": {},
   "source": [
    "Given $g\\in\\partial f_k(x)$, by definition, then for all z, $$f_k(z)\\geq f_k(x)+g^T(z-x)$$"
   ]
  },
  {
   "cell_type": "markdown",
   "metadata": {},
   "source": [
    "In this problem, we let k be any index for which $f_k(x)=f(x)$, and $f(x)=max_{i=1,...,m}f_i(x)$. Also note that $f_1,...,f_m$ are convex functions.\n",
    "\n",
    "Then, $$f(z)\\geq f(x)+g^T(z-x)$$\n",
    "\n",
    "This shows $g\\in\\partial f(x)$."
   ]
  },
  {
   "cell_type": "markdown",
   "metadata": {},
   "source": [
    "**Problem 2**"
   ]
  },
  {
   "cell_type": "markdown",
   "metadata": {},
   "source": [
    "The hinge loss objective can be re-written as \n",
    "$$\\begin{equation}\n",
    "  J(w)=\\begin{cases}\n",
    "    1-yw^Tx, & \\text{if $yw^Tx<1$}\\\\\n",
    "    0, & \\text{otherwise}\n",
    "  \\end{cases}\n",
    "\\end{equation}$$"
   ]
  },
  {
   "cell_type": "markdown",
   "metadata": {},
   "source": [
    "We can see that the gradient is undefined at $yw^Tx=1$, but when $yw^Tx>1$ or $yw^Tx<1$, the function is differentiable. For the differentiable part, the derivative is equivalent to the subgradient. For the non-differentiable point, 0 actually satisfies the definition of subgradient.\n",
    "\n",
    "Thus, the subgradient of hinge loss can be computed as\n",
    "$$\\begin{equation}\n",
    "  g_{J(w)}=\\begin{cases}\n",
    "    -yx, & \\text{if $yw^Tx<1$}\\\\\n",
    "    0, & \\text{if $yw^Tx\\geq 1$}\n",
    "  \\end{cases}\n",
    "\\end{equation}$$"
   ]
  },
  {
   "cell_type": "markdown",
   "metadata": {},
   "source": [
    "**Problem 3**"
   ]
  },
  {
   "cell_type": "markdown",
   "metadata": {},
   "source": [
    "To clear up the symbols, we can define the derivative of hinge loss as\n",
    "$$\\begin{equation}\n",
    "  l'(yw^Tx)=\\begin{cases}\n",
    "    -yx, & \\text{if $yw^Tx<1$}\\\\\n",
    "    0, & \\text{if $yw^Tx>1$}\\\\\n",
    "    \\text{undefined}, & \\text{if $yw^Tx=1$}\n",
    "  \\end{cases}\n",
    "\\end{equation}$$"
   ]
  },
  {
   "cell_type": "markdown",
   "metadata": {},
   "source": [
    "To compute the gradient of hinge loss with respect to w, \n",
    "$$\\begin{split}\\nabla_wl(y_iw^Tx_i)&=l'(y_iw^Txi)y_ix_i\\\\&=\n",
    "\\begin{cases}\n",
    "    -y_ix_i, & \\text{if $yw^Tx<1$}\\\\\n",
    "    0, & \\text{if $yw^Tx>1$}\\\\\n",
    "    \\text{undefined}, & \\text{if $yw^Tx=1$}\n",
    "  \\end{cases}\\end{split}$$"
   ]
  },
  {
   "cell_type": "markdown",
   "metadata": {},
   "source": [
    "So, $$\\begin{split}\\nabla_wJ_i(w)&=\\nabla_w(l(y_iw^Tx_i)+\\frac{1}{2}\\lambda||w||^2)\\\\&=\\nabla_wl(y_iw^Tx_i)+\\lambda w\\\\&=\\begin{cases}\n",
    "    -y_ix_i+\\lambda w, & \\text{if $yw^Tx<1$}\\\\\n",
    "    \\lambda w, & \\text{if $yw^Tx>1$}\\\\\n",
    "    \\text{undefined}, & \\text{if $yw^Tx=1$}\n",
    "  \\end{cases}\\end{split}$$"
   ]
  },
  {
   "cell_type": "markdown",
   "metadata": {},
   "source": [
    "**Problem 4**"
   ]
  },
  {
   "cell_type": "markdown",
   "metadata": {},
   "source": [
    "In $J_i(w)$, set $f(w)=\\frac{\\lambda}{2}||w||^2$. This function is differentiable, and the derivative is $$\\nabla f(w)=\\lambda w$$\n",
    "\n",
    "Both $f(w)$ and hinge loss $l$ are convex functions. \n",
    "\n",
    "Thus, $$\\partial J_i(w)=\\partial f(w)+\\partial l$$"
   ]
  },
  {
   "cell_type": "markdown",
   "metadata": {},
   "source": [
    "In problem 2, the subgradient of hinge loss is given by \n",
    "$$\\begin{equation}\n",
    "  g_l=\\begin{cases}\n",
    "    -y_ix_i, & \\text{if $y_iw^Tx_i<1$}\\\\\n",
    "    0, & \\text{if $y_iw^Tx_i\\geq 1$}\n",
    "  \\end{cases}\n",
    "\\end{equation}$$"
   ]
  },
  {
   "cell_type": "markdown",
   "metadata": {},
   "source": [
    "Thus the subgradient for $J_i(w)$ can be given by\n",
    "$$\\begin{equation}\n",
    "  gw=\\begin{cases}\n",
    "    \\lambda w-y_ix_i, & \\text{if $y_iw^Tx_i<1$}\\\\\n",
    "    \\lambda w, & \\text{if $y_iw^Tx_i\\geq 1$}\n",
    "  \\end{cases}\n",
    "\\end{equation}$$"
   ]
  },
  {
   "cell_type": "markdown",
   "metadata": {},
   "source": [
    "**Problem 5**"
   ]
  },
  {
   "cell_type": "code",
   "execution_count": 2,
   "metadata": {
    "scrolled": true
   },
   "outputs": [],
   "source": [
    "import os\n",
    "import numpy as np\n",
    "import random\n",
    "from collections import Counter\n",
    "from sklearn.model_selection import train_test_split\n",
    "from collections import defaultdict\n",
    "import timeit\n",
    "import matplotlib.pyplot as plt\n",
    "\n",
    "def sparse_represent(word_list):\n",
    "    dic = Counter(word_list)\n",
    "    return dic"
   ]
  },
  {
   "cell_type": "markdown",
   "metadata": {},
   "source": [
    "**Problem 6**"
   ]
  },
  {
   "cell_type": "code",
   "execution_count": 3,
   "metadata": {
    "scrolled": true
   },
   "outputs": [],
   "source": [
    "def folder_list(path,label):\n",
    "    '''\n",
    "    PARAMETER PATH IS THE PATH OF YOUR LOCAL FOLDER\n",
    "    '''\n",
    "    filelist = os.listdir(path)\n",
    "    review = []\n",
    "    for infile in filelist:\n",
    "        file = os.path.join(path,infile)\n",
    "        r = read_data(file)\n",
    "        r.append(label)\n",
    "        review.append(r)\n",
    "    return review\n",
    "\n",
    "def read_data(file):\n",
    "    '''\n",
    "    Read each file into a list of strings.\n",
    "    Example:\n",
    "    [\"it's\", 'a', 'curious', 'thing', \"i've\", 'found', 'that', 'when', 'willis', 'is', 'not', 'called', 'on',\n",
    "    ...'to', 'carry', 'the', 'whole', 'movie', \"he's\", 'much', 'better', 'and', 'so', 'is', 'the', 'movie']\n",
    "    '''\n",
    "    f = open(file)\n",
    "    lines = f.read().split(' ')\n",
    "    symbols = '${}()[].,:;+-*/&|<>=~\" '\n",
    "    words = map(lambda Element: Element.translate(str.maketrans(\"\", \"\", symbols)).strip(), lines)\n",
    "    words = filter(None, words)\n",
    "    return list(words)\n",
    "\n",
    "\n",
    "def load_and_shuffle_data():\n",
    "    '''\n",
    "    pos_path is where you save positive review data.\n",
    "    neg_path is where you save negative review data.\n",
    "    '''\n",
    "    pos_path = \"data_reviews/pos\"\n",
    "    neg_path = \"data_reviews/neg\"\n",
    "\n",
    "    pos_review = folder_list(pos_path,1)\n",
    "    neg_review = folder_list(neg_path,-1)\n",
    "\n",
    "    review = pos_review + neg_review\n",
    "    random.shuffle(review)\n",
    "    return review\n",
    "\n",
    "# Taken from http://web.stanford.edu/class/cs221/ Assignment #2 Support Code\n",
    "def dotProduct(d1, d2):\n",
    "    \"\"\"\n",
    "    @param dict d1: a feature vector represented by a mapping from a feature (string) to a weight (float).\n",
    "    @param dict d2: same as d1\n",
    "    @return float: the dot product between d1 and d2\n",
    "    \"\"\"\n",
    "    if len(d1) < len(d2):\n",
    "        return dotProduct(d2, d1)\n",
    "    else:\n",
    "        return sum(d1.get(f, 0) * v for f, v in d2.items())\n",
    "\n",
    "def increment(d1, scale, d2):\n",
    "    \"\"\"\n",
    "    Implements d1 += scale * d2 for sparse vectors.\n",
    "    @param dict d1: the feature vector which is mutated.\n",
    "    @param float scale\n",
    "    @param dict d2: a feature vector.\n",
    "\n",
    "    NOTE: This function does not return anything, but rather\n",
    "    increments d1 in place. We do this because it is much faster to\n",
    "    change elements of d1 in place than to build a new dictionary and\n",
    "    return it.\n",
    "    \"\"\"\n",
    "    for f, v in d2.items():\n",
    "        d1[f] = d1.get(f, 0) + v * scale"
   ]
  },
  {
   "cell_type": "code",
   "execution_count": 34,
   "metadata": {
    "scrolled": true
   },
   "outputs": [],
   "source": [
    "word_list = load_and_shuffle_data()"
   ]
  },
  {
   "cell_type": "code",
   "execution_count": 35,
   "metadata": {
    "scrolled": true
   },
   "outputs": [],
   "source": [
    "X = []\n",
    "y = []\n",
    "for idx in range(len(word_list)):\n",
    "    doc = word_list[idx][0:len(word_list[idx])-1]\n",
    "    X.append(sparse_represent(doc))\n",
    "    y.append(word_list[idx][-1])"
   ]
  },
  {
   "cell_type": "code",
   "execution_count": 36,
   "metadata": {
    "scrolled": true
   },
   "outputs": [],
   "source": [
    "X_train, X_test, y_train, y_test = train_test_split(X, y, train_size=1500)"
   ]
  },
  {
   "cell_type": "markdown",
   "metadata": {},
   "source": [
    "**Problem 7**"
   ]
  },
  {
   "cell_type": "code",
   "execution_count": 7,
   "metadata": {
    "scrolled": true
   },
   "outputs": [],
   "source": [
    "def pegasos(X_train, y_train, lamda, num_epoch):\n",
    "    w = defaultdict(float)\n",
    "    t = 0.0\n",
    "\n",
    "    iterate = 0\n",
    "    while iterate < num_epoch:\n",
    "        for j in range(len(X_train)):\n",
    "            t += 1\n",
    "            eta = 1/(lamda*t)\n",
    "            if y_train[j]*dotProduct(X_train[j], w)< 1:\n",
    "                increment(w, -eta*lamda, w)\n",
    "                increment(w, eta*y_train[j], X_train[j])\n",
    "            else:\n",
    "                increment(w, -eta*lamda, w)\n",
    "        iterate += 1\n",
    "    return w"
   ]
  },
  {
   "cell_type": "code",
   "execution_count": 8,
   "metadata": {
    "scrolled": true
   },
   "outputs": [],
   "source": [
    "lamda = 0.05 # arbitrarily chosen for demo\n",
    "num_epoch = 10"
   ]
  },
  {
   "cell_type": "code",
   "execution_count": null,
   "metadata": {
    "scrolled": true
   },
   "outputs": [],
   "source": [
    "w = pegasos(X_train, y_train, lamda, num_epoch)"
   ]
  },
  {
   "cell_type": "markdown",
   "metadata": {},
   "source": [
    "**Problem 8**"
   ]
  },
  {
   "cell_type": "markdown",
   "metadata": {},
   "source": [
    "We can represent $w=sW$ where $s\\in R$ and $W\\in R^d$, the expression of $w_{t+1}$ can be written as $$\\begin{split}w_{t+1}&=s_{t+1}W_{t+1}\\\\&=((1-\\eta\\lambda)s_t)(W_t+\\frac{1}{((1-\\eta\\lambda)s_t)}\\eta_ty_jx_j)\\\\&=(1-\\eta_t\\lambda)s_tW_t+\\frac{((1-\\eta_t\\lambda)s_t)}{((1-\\eta_t\\lambda)s_t)}\\eta_ty_jx_j\\\\&=(1-\\eta_t\\lambda)w_t+\\eta_ty_jx_j\\end{split}$$\n",
    "Thus the 2 update methods are equivalent."
   ]
  },
  {
   "cell_type": "code",
   "execution_count": 9,
   "metadata": {
    "scrolled": true
   },
   "outputs": [],
   "source": [
    "def pegasos_sW(X_train, y_train, lamda, num_epoch):\n",
    "    W = defaultdict(float)\n",
    "    s = 1\n",
    "    t = 2.0\n",
    "\n",
    "    iterate = 0\n",
    "    while iterate < num_epoch:\n",
    "        for j in range(len(X_train)):\n",
    "            t += 1\n",
    "            eta = 1/(lamda*t)\n",
    "            if y_train[j]*s*dotProduct(X_train[j], W) < 1:\n",
    "                s = (1-eta*lamda)*s\n",
    "                increment(W, 1/s*eta*y_train[j], X_train[j])\n",
    "            else:\n",
    "                s = (1-eta*lamda)*s\n",
    "        iterate += 1\n",
    "    for key in W.keys():\n",
    "        W[key] = s*W[key]\n",
    "    return W"
   ]
  },
  {
   "cell_type": "markdown",
   "metadata": {},
   "source": [
    "**Problem 9**"
   ]
  },
  {
   "cell_type": "code",
   "execution_count": 10,
   "metadata": {
    "scrolled": true
   },
   "outputs": [
    {
     "name": "stdout",
     "output_type": "stream",
     "text": [
      "Time for original Pegasos algorithm: 74.14767160000008\n"
     ]
    }
   ],
   "source": [
    "start = timeit.default_timer()\n",
    "w = pegasos(X_train, y_train, lamda, num_epoch)\n",
    "end = timeit.default_timer()\n",
    "print('Time for original Pegasos algorithm:', end-start)"
   ]
  },
  {
   "cell_type": "code",
   "execution_count": 11,
   "metadata": {
    "scrolled": true
   },
   "outputs": [
    {
     "name": "stdout",
     "output_type": "stream",
     "text": [
      "Time for new Pegasos algorithm: 1.0925968999999895\n"
     ]
    }
   ],
   "source": [
    "start = timeit.default_timer()\n",
    "w_new = pegasos_sW(X_train, y_train, lamda, num_epoch)\n",
    "end = timeit.default_timer()\n",
    "print('Time for new Pegasos algorithm:', end-start)"
   ]
  },
  {
   "cell_type": "code",
   "execution_count": 12,
   "metadata": {
    "scrolled": true
   },
   "outputs": [
    {
     "data": {
      "text/plain": [
       "-0.08666666666666681"
      ]
     },
     "execution_count": 12,
     "metadata": {},
     "output_type": "execute_result"
    }
   ],
   "source": [
    "w['would']"
   ]
  },
  {
   "cell_type": "code",
   "execution_count": 13,
   "metadata": {
    "scrolled": true
   },
   "outputs": [
    {
     "data": {
      "text/plain": [
       "-0.08665511265164587"
      ]
     },
     "execution_count": 13,
     "metadata": {},
     "output_type": "execute_result"
    }
   ],
   "source": [
    "w_new['would']"
   ]
  },
  {
   "cell_type": "code",
   "execution_count": 14,
   "metadata": {
    "scrolled": true
   },
   "outputs": [
    {
     "name": "stdout",
     "output_type": "stream",
     "text": [
      "The mean absolute error between the w found by 2 different algorithms is 1.3529813578390048e-06\n"
     ]
    }
   ],
   "source": [
    "err = []\n",
    "for i, v in w.items():\n",
    "    err.append(np.abs(w[i] - w_new[i]))\n",
    "print('The mean absolute error between the w found by 2 different algorithms is', np.mean(err))"
   ]
  },
  {
   "cell_type": "markdown",
   "metadata": {},
   "source": [
    "This result shows that the 2 algorithms return the same result, and the error is acceptable noting we only run 10 epoches."
   ]
  },
  {
   "cell_type": "markdown",
   "metadata": {},
   "source": [
    "**Problem 10**"
   ]
  },
  {
   "cell_type": "code",
   "execution_count": 15,
   "metadata": {
    "scrolled": true
   },
   "outputs": [],
   "source": [
    "def classification_error(w, X, y):\n",
    "    prediction = np.zeros(len(y))\n",
    "    for i in range(len(y)):\n",
    "        dp = dotProduct(w, X[i])\n",
    "        if dp >= 0:\n",
    "            prediction[i] = 1\n",
    "        elif dp < 0:\n",
    "            prediction[i] = -1\n",
    "    res = np.sum([abs(x-y)<0.001 for (x,y) in zip(y, prediction)])\n",
    "    return 1-res/len(y)"
   ]
  },
  {
   "cell_type": "markdown",
   "metadata": {},
   "source": [
    "**Problem 11**"
   ]
  },
  {
   "cell_type": "code",
   "execution_count": 37,
   "metadata": {
    "scrolled": true
   },
   "outputs": [],
   "source": [
    "lamda = [0.0001, 0.001, 0.01, 0.1, 1, 10]\n",
    "num_epoch = 50\n",
    "err = []\n",
    "for i in range(len(lamda)):\n",
    "    w = pegasos_sW(X_train, y_train, lamda[i], num_epoch)\n",
    "    err.append(classification_error(w, X_test, y_test))"
   ]
  },
  {
   "cell_type": "code",
   "execution_count": 38,
   "metadata": {
    "scrolled": true
   },
   "outputs": [
    {
     "data": {
      "text/plain": [
       "Text(0, 0.5, 'Classification Error')"
      ]
     },
     "execution_count": 38,
     "metadata": {},
     "output_type": "execute_result"
    },
    {
     "data": {
      "image/png": "[encoded data removed]",
      "text/plain": [
       "<Figure size 432x288 with 1 Axes>"
      ]
     },
     "metadata": {
      "needs_background": "light"
     },
     "output_type": "display_data"
    }
   ],
   "source": [
    "plt.plot(lamda, err)\n",
    "plt.title('Classification error vs. regularization parameter')\n",
    "plt.xscale('log')\n",
    "plt.xlabel('Lambda')\n",
    "plt.ylabel('Classification Error')"
   ]
  },
  {
   "cell_type": "code",
   "execution_count": 39,
   "metadata": {
    "scrolled": true
   },
   "outputs": [
    {
     "data": {
      "text/plain": [
       "Text(0, 0.5, 'Classification Error')"
      ]
     },
     "execution_count": 39,
     "metadata": {},
     "output_type": "execute_result"
    },
    {
     "data": {
      "image/png": "[encoded data removed]",
      "text/plain": [
       "<Figure size 432x288 with 1 Axes>"
      ]
     },
     "metadata": {
      "needs_background": "light"
     },
     "output_type": "display_data"
    }
   ],
   "source": [
    "lamda = np.linspace(0.01, 0.1, 10)\n",
    "num_epoch = 50\n",
    "err = []\n",
    "for i in range(len(lamda)):\n",
    "    w = pegasos_sW(X_train, y_train, lamda[i], num_epoch)\n",
    "    err.append(classification_error(w, X_test, y_test))\n",
    "plt.plot(lamda, err)\n",
    "plt.title('Classification error vs. regularization parameter')\n",
    "plt.xlabel('Lambda')\n",
    "plt.ylabel('Classification Error')"
   ]
  },
  {
   "cell_type": "code",
   "execution_count": 40,
   "metadata": {
    "scrolled": true
   },
   "outputs": [
    {
     "data": {
      "text/plain": [
       "Text(0, 0.5, 'Classification Error')"
      ]
     },
     "execution_count": 40,
     "metadata": {},
     "output_type": "execute_result"
    },
    {
     "data": {
      "image/png": "[encoded data removed]",
      "text/plain": [
       "<Figure size 432x288 with 1 Axes>"
      ]
     },
     "metadata": {
      "needs_background": "light"
     },
     "output_type": "display_data"
    }
   ],
   "source": [
    "lamda = np.linspace(0.04, 0.085, 10)\n",
    "num_epoch = 50\n",
    "err = []\n",
    "for i in range(len(lamda)):\n",
    "    w = pegasos_sW(X_train, y_train, lamda[i], num_epoch)\n",
    "    err.append(classification_error(w, X_test, y_test))\n",
    "plt.plot(lamda, err)\n",
    "plt.title('Classification error vs. regularization parameter')\n",
    "plt.xlabel('Lambda')\n",
    "plt.ylabel('Classification Error')"
   ]
  },
  {
   "cell_type": "code",
   "execution_count": 41,
   "metadata": {
    "scrolled": true
   },
   "outputs": [
    {
     "name": "stdout",
     "output_type": "stream",
     "text": [
      "The tested regularization parameter that gives the lowest test error is 0.045\n"
     ]
    }
   ],
   "source": [
    "print('The tested regularization parameter that gives the lowest test error is', \\\n",
    "      np.round(lamda[err.index(np.min(err))], 4))"
   ]
  },
  {
   "cell_type": "markdown",
   "metadata": {},
   "source": [
    "Note in this problem, because we shuffled our data when we loaded our data and also used train_test_split to split our training and testing sets, the above plots change everytime we run the entire code, even though the minimal error is always around 15%. Thus the tested regularization parameter that gives the lowest test error can change. I reload the data and split training data several times, and the resulting $\\lambda$ often locates in the inteval of $[0.040,0.090]$. Therefore I think further zooming the range and observe values at a step smaller than 0.01 is not very effective."
   ]
  },
  {
   "cell_type": "markdown",
   "metadata": {},
   "source": [
    "**Problem 12**"
   ]
  },
  {
   "cell_type": "code",
   "execution_count": 42,
   "metadata": {
    "scrolled": true
   },
   "outputs": [],
   "source": [
    "w = pegasos_sW(X_train, y_train, 0.05, 50)\n",
    "y_pred = [dotProduct(w, X_test[i]) for i in range(len(X_test))]"
   ]
  },
  {
   "cell_type": "code",
   "execution_count": 43,
   "metadata": {
    "scrolled": true
   },
   "outputs": [
    {
     "data": {
      "text/plain": [
       "Text(0, 0.5, 'Frequency')"
      ]
     },
     "execution_count": 43,
     "metadata": {},
     "output_type": "execute_result"
    },
    {
     "data": {
      "image/png": "[encoded data removed]",
      "text/plain": [
       "<Figure size 432x288 with 1 Axes>"
      ]
     },
     "metadata": {
      "needs_background": "light"
     },
     "output_type": "display_data"
    }
   ],
   "source": [
    "plt.hist(np.abs(y_pred), bins=20)\n",
    "plt.title('Distribution of Predicted Value')\n",
    "plt.xlabel('Score Bin')\n",
    "plt.ylabel('Frequency')"
   ]
  },
  {
   "cell_type": "code",
   "execution_count": 44,
   "metadata": {
    "scrolled": true
   },
   "outputs": [],
   "source": [
    "y_group = np.abs(y_pred)\n",
    "group_err = []\n",
    "group = [0, 0.25, 0.5, 0.75, 1, 1.25]\n",
    "for i in group:\n",
    "    xx = []\n",
    "    yy = []\n",
    "    idx = np.array(np.where((y_group-i<0.25)&(y_group-i>=0)))\n",
    "    for j in idx[0]:\n",
    "        xx.append(X_test[j])\n",
    "        yy.append(y_test[j])\n",
    "    group_err.append(classification_error(w, xx, yy))\n",
    "\n",
    "group = [1.5, 2, 2.5, 3, 3.5]\n",
    "for i in group:\n",
    "    xx = []\n",
    "    yy = []\n",
    "    idx = np.array(np.where((y_group-i<0.5)&(y_group-i>=0)))\n",
    "    for j in idx[0]:\n",
    "        xx.append(X_test[j])\n",
    "        yy.append(y_test[j])\n",
    "    group_err.append(classification_error(w, xx, yy))\n",
    "\n",
    "xx = []\n",
    "yy = []\n",
    "idx = np.array(np.where(y_group >= 4))\n",
    "for j in idx[0]:\n",
    "    xx.append(X_test[j])\n",
    "    yy.append(y_test[j])\n",
    "group_err.append(classification_error(w, xx, yy))"
   ]
  },
  {
   "cell_type": "code",
   "execution_count": 45,
   "metadata": {
    "scrolled": true
   },
   "outputs": [
    {
     "data": {
      "image/png": "[encoded data removed]",
      "text/plain": [
       "<Figure size 864x360 with 1 Axes>"
      ]
     },
     "metadata": {
      "needs_background": "light"
     },
     "output_type": "display_data"
    }
   ],
   "source": [
    "groupnum = [0, 0.25, 0.5, 0.75, 1, 1.25, 1.5, 2, 2.5, 3, 3.5, 4]\n",
    "fig, ax = plt.subplots(figsize=(12,5))\n",
    "ax.plot(groupnum, group_err)\n",
    "labels = ['>={}'.format(i) for i in groupnum]\n",
    "ax.set_xticks(groupnum)\n",
    "ax.set_xticklabels(labels)\n",
    "ax.set_title('Error of Each Score Group')\n",
    "ax.set_xlabel('Score Group')\n",
    "ax.set_ylabel('Error')\n",
    "fig.canvas.draw()\n",
    "plt.show()"
   ]
  },
  {
   "cell_type": "markdown",
   "metadata": {},
   "source": [
    "From the above plot, there is a correlation between higher score and classification error or accuracy. Generally as the magnitude of score increases, the classification error decreases and accuracy increases. The higher magnitude of the score shows the model is more confident about the prediction, and the point may be further away from the classification boundary. It is therefore reasonable to get such a correlation."
   ]
  },
  {
   "cell_type": "markdown",
   "metadata": {},
   "source": [
    "**Problem 13**"
   ]
  },
  {
   "cell_type": "code",
   "execution_count": 80,
   "metadata": {},
   "outputs": [],
   "source": [
    "import pandas as pd"
   ]
  },
  {
   "cell_type": "code",
   "execution_count": 81,
   "metadata": {},
   "outputs": [],
   "source": [
    "w = pegasos_sW(X_train, y_train, 0.05, 50)\n",
    "prediction = np.zeros(len(y))\n",
    "for i in range(len(y_test)):\n",
    "    dp = dotProduct(w, X_test[i])\n",
    "    if dp >= 0:\n",
    "        prediction[i] = 1\n",
    "    elif dp < 0:\n",
    "        prediction[i] = -1\n",
    "res = [abs(x-y)<0.001 for (x,y) in zip(y_test, prediction)]"
   ]
  },
  {
   "cell_type": "code",
   "execution_count": 142,
   "metadata": {
    "scrolled": true
   },
   "outputs": [],
   "source": [
    "idx = [i for i, x in enumerate(res) if not x][0]\n",
    "temp = w\n",
    "for j, v in temp.items():\n",
    "    temp[j] = np.abs(w[j] * X_test[idx][j])\n",
    "table = pd.DataFrame.from_records([temp, w, X_test[idx]])"
   ]
  },
  {
   "cell_type": "code",
   "execution_count": 154,
   "metadata": {},
   "outputs": [
    {
     "data": {
      "text/html": [
       "<div>\n",
       "<style scoped>\n",
       "    .dataframe tbody tr th:only-of-type {\n",
       "        vertical-align: middle;\n",
       "    }\n",
       "\n",
       "    .dataframe tbody tr th {\n",
       "        vertical-align: top;\n",
       "    }\n",
       "\n",
       "    .dataframe thead th {\n",
       "        text-align: right;\n",
       "    }\n",
       "</style>\n",
       "<table border=\"1\" class=\"dataframe\">\n",
       "  <thead>\n",
       "    <tr style=\"text-align: right;\">\n",
       "      <th></th>\n",
       "      <th>score</th>\n",
       "      <th>weight</th>\n",
       "      <th>feature</th>\n",
       "    </tr>\n",
       "  </thead>\n",
       "  <tbody>\n",
       "    <tr>\n",
       "      <th>the</th>\n",
       "      <td>1.415241e+39</td>\n",
       "      <td>1.415241e+39</td>\n",
       "      <td>62.0</td>\n",
       "    </tr>\n",
       "    <tr>\n",
       "      <th>of</th>\n",
       "      <td>5.011238e+30</td>\n",
       "      <td>5.011238e+30</td>\n",
       "      <td>26.0</td>\n",
       "    </tr>\n",
       "    <tr>\n",
       "      <th>and</th>\n",
       "      <td>1.778337e+28</td>\n",
       "      <td>1.778337e+28</td>\n",
       "      <td>20.0</td>\n",
       "    </tr>\n",
       "    <tr>\n",
       "      <th>to</th>\n",
       "      <td>4.103453e+27</td>\n",
       "      <td>4.103453e+27</td>\n",
       "      <td>19.0</td>\n",
       "    </tr>\n",
       "    <tr>\n",
       "      <th>in</th>\n",
       "      <td>2.740206e+27</td>\n",
       "      <td>2.740206e+27</td>\n",
       "      <td>20.0</td>\n",
       "    </tr>\n",
       "    <tr>\n",
       "      <th>...</th>\n",
       "      <td>...</td>\n",
       "      <td>...</td>\n",
       "      <td>...</td>\n",
       "    </tr>\n",
       "    <tr>\n",
       "      <th>arte</th>\n",
       "      <td>NaN</td>\n",
       "      <td>NaN</td>\n",
       "      <td>1.0</td>\n",
       "    </tr>\n",
       "    <tr>\n",
       "      <th>canada's</th>\n",
       "      <td>NaN</td>\n",
       "      <td>NaN</td>\n",
       "      <td>1.0</td>\n",
       "    </tr>\n",
       "    <tr>\n",
       "      <th>brazil's</th>\n",
       "      <td>NaN</td>\n",
       "      <td>NaN</td>\n",
       "      <td>1.0</td>\n",
       "    </tr>\n",
       "    <tr>\n",
       "      <th>hartley's</th>\n",
       "      <td>NaN</td>\n",
       "      <td>NaN</td>\n",
       "      <td>1.0</td>\n",
       "    </tr>\n",
       "    <tr>\n",
       "      <th>selfevidently</th>\n",
       "      <td>NaN</td>\n",
       "      <td>NaN</td>\n",
       "      <td>1.0</td>\n",
       "    </tr>\n",
       "  </tbody>\n",
       "</table>\n",
       "<p>38479 rows × 3 columns</p>\n",
       "</div>"
      ],
      "text/plain": [
       "                      score        weight  feature\n",
       "the            1.415241e+39  1.415241e+39     62.0\n",
       "of             5.011238e+30  5.011238e+30     26.0\n",
       "and            1.778337e+28  1.778337e+28     20.0\n",
       "to             4.103453e+27  4.103453e+27     19.0\n",
       "in             2.740206e+27  2.740206e+27     20.0\n",
       "...                     ...           ...      ...\n",
       "arte                    NaN           NaN      1.0\n",
       "canada's                NaN           NaN      1.0\n",
       "brazil's                NaN           NaN      1.0\n",
       "hartley's               NaN           NaN      1.0\n",
       "selfevidently           NaN           NaN      1.0\n",
       "\n",
       "[38479 rows x 3 columns]"
      ]
     },
     "execution_count": 154,
     "metadata": {},
     "output_type": "execute_result"
    }
   ],
   "source": [
    "table.rename({0:'score', 1:'weight', 2:'feature'}, inplace=True)\n",
    "table.sort_values(by='score', ascending=False)"
   ]
  },
  {
   "cell_type": "markdown",
   "metadata": {},
   "source": [
    "From the above table, we can see words that have higher scores are mostly stopwords which are not representative for the text. To avoid effect of stopwords, we can use TF-IDF instead of counting the number of occurence of the words. TF-IDF create features for term frequencies, and then normalize the frequencies by inverse document frequencies."
   ]
  },
  {
   "cell_type": "code",
   "execution_count": 161,
   "metadata": {},
   "outputs": [],
   "source": [
    "idx = [i for i, x in enumerate(res) if not x][1]\n",
    "temp1 = w\n",
    "for j, v in temp1.items():\n",
    "    temp1[j] = np.abs(w[j] * X_test[idx][j])\n",
    "idx = [i for i, x in enumerate(res) if not x][2]\n",
    "temp2 = w\n",
    "for j, v in temp2.items():\n",
    "    temp2[j] = np.abs(w[j] * X_test[idx][j])\n",
    "table = pd.DataFrame.from_records([temp1, temp2])"
   ]
  },
  {
   "cell_type": "code",
   "execution_count": 165,
   "metadata": {},
   "outputs": [
    {
     "data": {
      "text/html": [
       "<div>\n",
       "<style scoped>\n",
       "    .dataframe tbody tr th:only-of-type {\n",
       "        vertical-align: middle;\n",
       "    }\n",
       "\n",
       "    .dataframe tbody tr th {\n",
       "        vertical-align: top;\n",
       "    }\n",
       "\n",
       "    .dataframe thead th {\n",
       "        text-align: right;\n",
       "    }\n",
       "</style>\n",
       "<table border=\"1\" class=\"dataframe\">\n",
       "  <thead>\n",
       "    <tr style=\"text-align: right;\">\n",
       "      <th></th>\n",
       "      <th>1st example</th>\n",
       "      <th>2nd example</th>\n",
       "    </tr>\n",
       "  </thead>\n",
       "  <tbody>\n",
       "    <tr>\n",
       "      <th>the</th>\n",
       "      <td>3.918655e+45</td>\n",
       "      <td>3.918655e+45</td>\n",
       "    </tr>\n",
       "    <tr>\n",
       "      <th>of</th>\n",
       "      <td>4.331514e+35</td>\n",
       "      <td>4.331514e+35</td>\n",
       "    </tr>\n",
       "    <tr>\n",
       "      <th>and</th>\n",
       "      <td>5.508578e+32</td>\n",
       "      <td>5.508578e+32</td>\n",
       "    </tr>\n",
       "    <tr>\n",
       "      <th>to</th>\n",
       "      <td>2.668270e+32</td>\n",
       "      <td>2.668270e+32</td>\n",
       "    </tr>\n",
       "    <tr>\n",
       "      <th>in</th>\n",
       "      <td>7.919194e+31</td>\n",
       "      <td>7.919194e+31</td>\n",
       "    </tr>\n",
       "    <tr>\n",
       "      <th>...</th>\n",
       "      <td>...</td>\n",
       "      <td>...</td>\n",
       "    </tr>\n",
       "    <tr>\n",
       "      <th>incorrect</th>\n",
       "      <td>0.000000e+00</td>\n",
       "      <td>0.000000e+00</td>\n",
       "    </tr>\n",
       "    <tr>\n",
       "      <th>cracks</th>\n",
       "      <td>0.000000e+00</td>\n",
       "      <td>0.000000e+00</td>\n",
       "    </tr>\n",
       "    <tr>\n",
       "      <th>widereleases</th>\n",
       "      <td>0.000000e+00</td>\n",
       "      <td>0.000000e+00</td>\n",
       "    </tr>\n",
       "    <tr>\n",
       "      <th>sandler</th>\n",
       "      <td>0.000000e+00</td>\n",
       "      <td>0.000000e+00</td>\n",
       "    </tr>\n",
       "    <tr>\n",
       "      <th>muthashut</th>\n",
       "      <td>0.000000e+00</td>\n",
       "      <td>0.000000e+00</td>\n",
       "    </tr>\n",
       "  </tbody>\n",
       "</table>\n",
       "<p>38433 rows × 2 columns</p>\n",
       "</div>"
      ],
      "text/plain": [
       "               1st example   2nd example\n",
       "the           3.918655e+45  3.918655e+45\n",
       "of            4.331514e+35  4.331514e+35\n",
       "and           5.508578e+32  5.508578e+32\n",
       "to            2.668270e+32  2.668270e+32\n",
       "in            7.919194e+31  7.919194e+31\n",
       "...                    ...           ...\n",
       "incorrect     0.000000e+00  0.000000e+00\n",
       "cracks        0.000000e+00  0.000000e+00\n",
       "widereleases  0.000000e+00  0.000000e+00\n",
       "sandler       0.000000e+00  0.000000e+00\n",
       "muthashut     0.000000e+00  0.000000e+00\n",
       "\n",
       "[38433 rows x 2 columns]"
      ]
     },
     "execution_count": 165,
     "metadata": {},
     "output_type": "execute_result"
    }
   ],
   "source": [
    "table.rename({0:'1st example', 1:'2nd example'}, inplace=True)\n",
    "table = table.transpose()\n",
    "table.sort_values(by='1st example', ascending=False)"
   ]
  },
  {
   "cell_type": "markdown",
   "metadata": {},
   "source": [
    "The above analysis can also be demonstrated by these 2 other examples here. "
   ]
  },
  {
   "cell_type": "markdown",
   "metadata": {},
   "source": [
    "Other than TF-IDF, we may also directl remove the stopwords from the document if we have enough training data or if we are sure that removing them will not change the meaning of our texts."
   ]
  },
  {
   "cell_type": "markdown",
   "metadata": {},
   "source": [
    "# Kernel Methods"
   ]
  },
  {
   "cell_type": "markdown",
   "metadata": {},
   "source": [
    "**Problem 14**"
   ]
  },
  {
   "cell_type": "markdown",
   "metadata": {},
   "source": [
    "The ridge-regression estimator can be viewed as 2 parts\n",
    "$$J_1(w)=||Xw-y||^2$$\n",
    "$$J_2(w)=||w||^2$$\n",
    "Both functions are convex and differentiable. For $w$ to be a minimizer of $J(w)$, we can take the derivative of J(w) with respect to w and the point when the derivative is 0 is of our interest.\n",
    "$$\\begin{split}\\frac{\\partial J(w)}{\\partial w}&=\\frac{\\partial J_1(w)}{\\partial w}+\\frac{\\partial J_2(w)}{\\partial w}\\\\&=2X^T(Xw-y)+2\\lambda Iw\\\\&=0\\end{split}$$"
   ]
  },
  {
   "cell_type": "markdown",
   "metadata": {},
   "source": [
    "Thus,$$\\begin{split}2X^TXw+2\\lambda Iw&=2X^Ty\\\\X^TXw+\\lambda Iw&=X^Ty\\end{split}$$"
   ]
  },
  {
   "cell_type": "markdown",
   "metadata": {},
   "source": [
    "Note that $X^TX$ is symmetric and it is positive semidefinite or positive definite. If it is positive definite, it is already invertible. If it is positive semidefinite, its smallest possible eigenvalue is 0. \n",
    "\n",
    "For any $\\lambda>0$, $\\lambda I$ adds positive values to the diagonal of $X^TX$. This implies the eigenvalues of $X^TX+\\lambda I$ are positive and makes the matrix to always be invertible."
   ]
  },
  {
   "cell_type": "markdown",
   "metadata": {},
   "source": [
    "Therefore, $$\\begin{split}X^TXw+\\lambda Iw&=X^Ty\\\\(X^TX+\\lambda I)w&=X^Ty\\\\w&=(X^TX+\\lambda I)^{-1}X^Ty\\end{split}$$"
   ]
  },
  {
   "cell_type": "markdown",
   "metadata": {},
   "source": [
    "**Problem 15**"
   ]
  },
  {
   "cell_type": "markdown",
   "metadata": {},
   "source": [
    "$$\\begin{split}X^TXw+\\lambda Iw&=X^Ty\\\\\\lambda Iw&=X^Ty-X^TXw\\\\w&=\\frac{1}{\\lambda}(X^Ty-X^TXw)\\\\w&=X^T(\\frac{1}{\\lambda}(y-Xw))\\end{split}$$"
   ]
  },
  {
   "cell_type": "markdown",
   "metadata": {},
   "source": [
    "So, the expression for $\\alpha$ can be written as $$\\alpha=\\frac{1}{\\lambda}(y-Xw)$$"
   ]
  },
  {
   "cell_type": "markdown",
   "metadata": {},
   "source": [
    "**Problem 16**"
   ]
  },
  {
   "cell_type": "markdown",
   "metadata": {},
   "source": [
    "The definition of the span of a set of vectors is that, suppose $\\{v_1, v_2, ..., v_n\\}$ is a set of vectors of the vector space V. Then the span of this set is the set of all linear combinations of the vectors, i.e. for any scalars $k_1, k_2, ...k_n$, $(k_1v_1+k_2v_2+...+k_nv_n)\\in span(V)$."
   ]
  },
  {
   "cell_type": "markdown",
   "metadata": {},
   "source": [
    "Given the fact that $w=X^T\\alpha$, $\\alpha=\\{a_1, a_2, ..., a_n\\}$ with $a_1$ to $a_n$ are scalars and $\\{x_1, x_2, ...x_n\\}$ are columns of $X^T$. $w$ can be represented as a linear combination of the columns. This shows $w$ is in $span(X)$. Thus we can say $w$ is in the span of the data."
   ]
  },
  {
   "cell_type": "markdown",
   "metadata": {},
   "source": [
    "**Problem 17**"
   ]
  },
  {
   "cell_type": "markdown",
   "metadata": {},
   "source": [
    "Since we have the expression $$w=\\frac{1}{\\lambda}(X^Ty-X^TXw)$$and given the face that $w=X^T\\alpha$, we can substitute w and get\n",
    "$$\\begin{split}X^T\\alpha&=\\frac{1}{\\lambda}(X^Ty-X^TXX^T\\alpha)\\\\X^T\\alpha&=\\frac{1}{\\lambda}X^T(y-XX^T\\alpha)\\\\\\alpha&=\\frac{1}{\\lambda}(y-XX^T\\alpha)\\\\\\lambda I\\alpha+XX^T\\alpha&=y\\\\\\alpha&=(\\lambda I+XX^T)^{-1}y\\end{split}$$\n",
    "Note from previous questions, we can also prove $\\lambda I+XX^T$ is invertible so the equation holds."
   ]
  },
  {
   "cell_type": "markdown",
   "metadata": {},
   "source": [
    "**Problem 18**"
   ]
  },
  {
   "cell_type": "markdown",
   "metadata": {},
   "source": [
    "We can show that the predicted values on the training points can be re-written into $$Xw=XX^T\\alpha=XX^T(\\lambda I+XX^T)^{-1}y$$"
   ]
  },
  {
   "cell_type": "markdown",
   "metadata": {},
   "source": [
    "Here if we represent the kernel matrix by $K=XX^T$, the expression can be rewritten as \n",
    "$$Xw=K(\\lambda I+K)^{-1}y$$"
   ]
  },
  {
   "cell_type": "markdown",
   "metadata": {},
   "source": [
    "**Problem 19**"
   ]
  },
  {
   "cell_type": "markdown",
   "metadata": {},
   "source": [
    "To clarify the symbols, we use $X$ to represent the training features, $Y$ the training y values, $x$ the new points, $w^*$ the optimal solution we find from $w^*=X^T\\alpha$ and thus $\\alpha=(\\lambda I+XX^T)^{-1}Y$.\n",
    "\n",
    "Also we define $$k_x=\\begin{bmatrix}x^Tx_1\\\\...\\\\x^Tx_n\\end{bmatrix}$$"
   ]
  },
  {
   "cell_type": "markdown",
   "metadata": {},
   "source": [
    "From our previous questions, the new prediction $f(x)$ is in fact\n",
    "$$\\begin{split}f(x)&=x^Tw^*\\\\&=x^TX^T\\alpha\\\\&=k_x\\alpha\\end{split}$$"
   ]
  },
  {
   "cell_type": "markdown",
   "metadata": {},
   "source": [
    "**Problem 20**"
   ]
  },
  {
   "cell_type": "code",
   "execution_count": 170,
   "metadata": {
    "scrolled": true
   },
   "outputs": [],
   "source": [
    "import numpy as np\n",
    "import matplotlib.pyplot as plt\n",
    "import sklearn\n",
    "import scipy.spatial\n",
    "import functools\n",
    "\n",
    "%matplotlib inline"
   ]
  },
  {
   "cell_type": "code",
   "execution_count": 171,
   "metadata": {
    "scrolled": true
   },
   "outputs": [],
   "source": [
    "### Kernel function generators\n",
    "def linear_kernel(X1, X2):\n",
    "    \"\"\"\n",
    "    Computes the linear kernel between two sets of vectors.\n",
    "    Args:\n",
    "        X1 - an n1xd matrix with vectors x1_1,...,x1_n1 in the rows\n",
    "        X2 - an n2xd matrix with vectors x2_1,...,x2_n2 in the rows\n",
    "    Returns:\n",
    "        matrix of size n1xn2, with x1_i^T x2_j in position i,j\n",
    "    \"\"\"\n",
    "    return np.dot(X1,np.transpose(X2))\n",
    " \n",
    "def RBF_kernel(X1,X2,sigma):\n",
    "    \"\"\"\n",
    "    Computes the RBF kernel between two sets of vectors   \n",
    "    Args:\n",
    "        X1 - an n1xd matrix with vectors x1_1,...,x1_n1 in the rows\n",
    "        X2 - an n2xd matrix with vectors x2_1,...,x2_n2 in the rows\n",
    "        sigma - the bandwidth (i.e. standard deviation) for the RBF/Gaussian kernel\n",
    "    Returns:\n",
    "        matrix of size n1xn2, with exp(-||x1_i-x2_j||^2/(2 sigma^2)) in position i,j\n",
    "    \"\"\"\n",
    "    dist = scipy.spatial.distance.cdist(X1, X2, 'sqeuclidean')\n",
    "    result = np.exp(-dist/(2*(sigma**2)))\n",
    "    return result\n",
    "\n",
    "def polynomial_kernel(X1, X2, offset, degree):\n",
    "    \"\"\"\n",
    "    Computes the inhomogeneous polynomial kernel between two sets of vectors\n",
    "    Args:\n",
    "        X1 - an n1xd matrix with vectors x1_1,...,x1_n1 in the rows\n",
    "        X2 - an n2xd matrix with vectors x2_1,...,x2_n2 in the rows\n",
    "        offset, degree - two parameters for the kernel\n",
    "    Returns:\n",
    "        matrix of size n1xn2, with (offset + <x1_i,x2_j>)^degree in position i,j\n",
    "    \"\"\"\n",
    "    base = offset + linear_kernel(X1, X2)\n",
    "    result = base ** degree\n",
    "    return result"
   ]
  },
  {
   "cell_type": "markdown",
   "metadata": {},
   "source": [
    "**Problem 21**"
   ]
  },
  {
   "cell_type": "code",
   "execution_count": 75,
   "metadata": {
    "scrolled": true
   },
   "outputs": [],
   "source": [
    "X = np.array([-4, 1, 0, 2])\n",
    "ln_kernel = linear_kernel(X, X)"
   ]
  },
  {
   "cell_type": "code",
   "execution_count": 76,
   "metadata": {
    "scrolled": true
   },
   "outputs": [
    {
     "name": "stdout",
     "output_type": "stream",
     "text": [
      "Output of linear kernel matrix: 21\n"
     ]
    }
   ],
   "source": [
    "print('Output of linear kernel matrix:', ln_kernel)"
   ]
  },
  {
   "cell_type": "markdown",
   "metadata": {},
   "source": [
    "**Problem 22**"
   ]
  },
  {
   "cell_type": "code",
   "execution_count": 77,
   "metadata": {
    "scrolled": true
   },
   "outputs": [
    {
     "data": {
      "image/png": "[encoded data removed]",
      "text/plain": [
       "<Figure size 432x288 with 1 Axes>"
      ]
     },
     "metadata": {
      "needs_background": "light"
     },
     "output_type": "display_data"
    }
   ],
   "source": [
    "# PLot kernel machine functions\n",
    "plot_step = .01\n",
    "xpts = np.arange(-6.0, 6, plot_step).reshape(-1,1)\n",
    "prototypes = np.array([-4,-1,0,2]).reshape(-1,1)\n",
    "\n",
    "# Linear kernel\n",
    "y = linear_kernel(prototypes, xpts) \n",
    "for i in range(len(prototypes)):\n",
    "    label = \"Linear@\"+str(prototypes[i,:])\n",
    "    plt.plot(xpts, y[i,:], label=label)\n",
    "plt.legend(loc = 'best')\n",
    "plt.title('Linear Kernel')\n",
    "plt.xlabel('x')\n",
    "plt.ylabel('y')\n",
    "plt.show() "
   ]
  },
  {
   "cell_type": "code",
   "execution_count": 78,
   "metadata": {
    "scrolled": true
   },
   "outputs": [],
   "source": [
    "y0 = np.array([2, 0, 3, 5]).reshape(-1,1)"
   ]
  },
  {
   "cell_type": "code",
   "execution_count": 79,
   "metadata": {
    "scrolled": true
   },
   "outputs": [
    {
     "data": {
      "image/png": "[encoded data removed]",
      "text/plain": [
       "<Figure size 432x288 with 1 Axes>"
      ]
     },
     "metadata": {
      "needs_background": "light"
     },
     "output_type": "display_data"
    }
   ],
   "source": [
    "# (a)\n",
    "y = polynomial_kernel(prototypes, xpts, 1, 3)\n",
    "for i in range(len(prototypes)):\n",
    "    label = \"Poly@\"+str(prototypes[i,:])\n",
    "    plt.plot(xpts, y[i,:], label=label)\n",
    "plt.legend(loc = 'best')\n",
    "plt.title('Polynomial Kernel')\n",
    "plt.xlabel('x')\n",
    "plt.ylabel('y')\n",
    "plt.show()"
   ]
  },
  {
   "cell_type": "code",
   "execution_count": 80,
   "metadata": {
    "scrolled": true
   },
   "outputs": [
    {
     "data": {
      "image/png": "[encoded data removed]",
      "text/plain": [
       "<Figure size 432x288 with 1 Axes>"
      ]
     },
     "metadata": {
      "needs_background": "light"
     },
     "output_type": "display_data"
    }
   ],
   "source": [
    "# (b)\n",
    "y = RBF_kernel(prototypes, xpts, 1)\n",
    "for i in range(len(prototypes)):\n",
    "    label = \"RBF@\"+str(prototypes[i,:])\n",
    "    plt.plot(xpts, y[i,:], label=label)\n",
    "plt.legend(loc = 'best')\n",
    "plt.title('RBF Kernel')\n",
    "plt.xlabel('x')\n",
    "plt.ylabel('y')\n",
    "plt.show()"
   ]
  },
  {
   "cell_type": "markdown",
   "metadata": {},
   "source": [
    "**Problem 23**"
   ]
  },
  {
   "cell_type": "code",
   "execution_count": 81,
   "metadata": {
    "scrolled": true
   },
   "outputs": [],
   "source": [
    "class Kernel_Machine(object):\n",
    "    def __init__(self, kernel, training_points, weights):\n",
    "        \"\"\"\n",
    "        Args:\n",
    "            kernel(X1,X2) - a function return the cross-kernel matrix between rows of X1 and rows of X2 for kernel k\n",
    "            training_points - an nxd matrix with rows x_1,..., x_n\n",
    "            weights - a vector of length n with entries alpha_1,...,alpha_n\n",
    "        \"\"\"\n",
    "\n",
    "        self.kernel = kernel\n",
    "        self.training_points = training_points\n",
    "        self.weights = weights\n",
    "        \n",
    "    def predict(self, X):\n",
    "        \"\"\"\n",
    "        Evaluates the kernel machine on the points given by the rows of X\n",
    "        Args:\n",
    "            X - an nxd matrix with inputs x_1,...,x_n in the rows\n",
    "        Returns:\n",
    "            Vector of kernel machine evaluations on the n points in X.  Specifically, jth entry of return vector is\n",
    "                Sum_{i=1}^R alpha_i k(x_j, mu_i)\n",
    "        \"\"\"\n",
    "        vec = self.kernel(self.training_points, X)\n",
    "        result = []\n",
    "        for i in range(len(vec[0])):\n",
    "            result.append(np.sum([x*y for x, y in zip(self.weights, np.array(vec[:, i])\\\n",
    "                                                      .reshape(-1, 1))]))\n",
    "                \n",
    "        return result"
   ]
  },
  {
   "cell_type": "code",
   "execution_count": 82,
   "metadata": {
    "scrolled": true
   },
   "outputs": [],
   "source": [
    "kernel = functools.partial(RBF_kernel, sigma=1)\n",
    "weights = np.array([1, -1, 1])\n",
    "prototypes = np.array([-1, 0, 1]).reshape(-1,1)\n",
    "\n",
    "plot_step = .01\n",
    "xpts = np.arange(-6.0, 6, plot_step).reshape(-1,1)\n",
    "\n",
    "result = Kernel_Machine(kernel, prototypes, weights)\n",
    "ypts = result.predict(xpts)"
   ]
  },
  {
   "cell_type": "code",
   "execution_count": 84,
   "metadata": {
    "scrolled": true
   },
   "outputs": [
    {
     "data": {
      "image/png": "[encoded data removed]",
      "text/plain": [
       "<Figure size 432x288 with 1 Axes>"
      ]
     },
     "metadata": {
      "needs_background": "light"
     },
     "output_type": "display_data"
    }
   ],
   "source": [
    "plt.plot(xpts, ypts)\n",
    "plt.title('Kernel_Machine Result RBF Kernel (Sigma=1)')\n",
    "plt.xlabel('x')\n",
    "plt.ylabel('y')\n",
    "plt.show()"
   ]
  },
  {
   "cell_type": "markdown",
   "metadata": {},
   "source": [
    "**Problem 24**"
   ]
  },
  {
   "cell_type": "code",
   "execution_count": 85,
   "metadata": {
    "scrolled": true
   },
   "outputs": [],
   "source": [
    "data_train,data_test = np.loadtxt(\"krr-train.txt\"),np.loadtxt(\"krr-test.txt\")\n",
    "x_train, y_train = data_train[:,0].reshape(-1,1),data_train[:,1].reshape(-1,1)\n",
    "x_test, y_test = data_test[:,0].reshape(-1,1),data_test[:,1].reshape(-1,1)"
   ]
  },
  {
   "cell_type": "code",
   "execution_count": 87,
   "metadata": {
    "scrolled": true
   },
   "outputs": [
    {
     "data": {
      "text/plain": [
       "Text(0, 0.5, 'y')"
      ]
     },
     "execution_count": 87,
     "metadata": {},
     "output_type": "execute_result"
    },
    {
     "data": {
      "image/png": "[encoded data removed]",
      "text/plain": [
       "<Figure size 432x288 with 1 Axes>"
      ]
     },
     "metadata": {
      "needs_background": "light"
     },
     "output_type": "display_data"
    }
   ],
   "source": [
    "plt.plot(x_train, y_train, '.')\n",
    "plt.title('Training Points')\n",
    "plt.xlabel('x')\n",
    "plt.ylabel('y')"
   ]
  },
  {
   "cell_type": "markdown",
   "metadata": {},
   "source": [
    "**Problem 25**"
   ]
  },
  {
   "cell_type": "code",
   "execution_count": 88,
   "metadata": {
    "scrolled": true
   },
   "outputs": [],
   "source": [
    "def train_kernel_ridge_regression(X, y, kernel, l2reg):\n",
    "    K = kernel(X, X)\n",
    "    alpha = np.array(np.linalg.inv(l2reg*np.identity(len(K))+K) @ y).reshape(-1, 1)\n",
    "    return Kernel_Machine(kernel, X, alpha)"
   ]
  },
  {
   "cell_type": "markdown",
   "metadata": {},
   "source": [
    "**Problem 26**"
   ]
  },
  {
   "cell_type": "code",
   "execution_count": 89,
   "metadata": {
    "scrolled": true
   },
   "outputs": [
    {
     "data": {
      "image/png": "[encoded data removed]",
      "text/plain": [
       "<Figure size 432x288 with 1 Axes>"
      ]
     },
     "metadata": {
      "needs_background": "light"
     },
     "output_type": "display_data"
    }
   ],
   "source": [
    "plot_step = .001\n",
    "xpts = np.arange(0 , 1, plot_step).reshape(-1,1)\n",
    "plt.plot(x_train,y_train,'o')\n",
    "l2reg = 0.0001\n",
    "for sigma in [.01,.1,1]:\n",
    "    k = functools.partial(RBF_kernel, sigma=sigma)\n",
    "    f = train_kernel_ridge_regression(x_train, y_train, k, l2reg=l2reg)\n",
    "    label = \"Sigma=\"+str(sigma)+\",L2Reg=\"+str(l2reg)\n",
    "    plt.plot(xpts, f.predict(xpts), label=label)\n",
    "plt.legend(loc = 'best')\n",
    "plt.ylim(-1,1.5)\n",
    "plt.title('RBF Kernel Ridge Rgression')\n",
    "plt.xlabel('x')\n",
    "plt.ylabel('y')\n",
    "plt.show()"
   ]
  },
  {
   "cell_type": "markdown",
   "metadata": {},
   "source": [
    "From the above plot, we can see that smaller sigma values (e.g. 0.01 in this problem) tend to have overfit and more sensitive to noises. The larger values, in this case sigma=1, are less likely to overfit."
   ]
  },
  {
   "cell_type": "markdown",
   "metadata": {},
   "source": [
    "**Problem 27**"
   ]
  },
  {
   "cell_type": "code",
   "execution_count": 90,
   "metadata": {
    "scrolled": true
   },
   "outputs": [
    {
     "data": {
      "image/png": "[encoded data removed]",
      "text/plain": [
       "<Figure size 432x288 with 1 Axes>"
      ]
     },
     "metadata": {
      "needs_background": "light"
     },
     "output_type": "display_data"
    }
   ],
   "source": [
    "plot_step = .001\n",
    "xpts = np.arange(0 , 1, plot_step).reshape(-1,1)\n",
    "plt.plot(x_train,y_train,'o')\n",
    "sigma= .02\n",
    "for l2reg in [.0001,.01,.1,2]:\n",
    "    k = functools.partial(RBF_kernel, sigma=sigma)\n",
    "    f = train_kernel_ridge_regression(x_train, y_train, k, l2reg=l2reg)\n",
    "    label = \"Sigma=\"+str(sigma)+\",L2Reg=\"+str(l2reg)\n",
    "    plt.plot(xpts, f.predict(xpts), label=label)\n",
    "plt.legend(loc = 'best')\n",
    "plt.ylim(-1,1.5)\n",
    "plt.title('RBF Kernel Ridge Rgression')\n",
    "plt.xlabel('x')\n",
    "plt.ylabel('y')\n",
    "plt.show()"
   ]
  },
  {
   "cell_type": "markdown",
   "metadata": {},
   "source": [
    "As $\\lambda\\to\\infty$, the function becomes less sensitive to noises, and thus has less potential to overfit. However, when $\\lambda$ becomes too large, the function may also risk from underfitting, and thus does not provide a good fit as expected."
   ]
  },
  {
   "cell_type": "markdown",
   "metadata": {},
   "source": [
    "**Problem 28**"
   ]
  },
  {
   "cell_type": "code",
   "execution_count": 91,
   "metadata": {
    "scrolled": true
   },
   "outputs": [],
   "source": [
    "from sklearn.base import BaseEstimator, RegressorMixin, ClassifierMixin\n",
    "\n",
    "class KernelRidgeRegression(BaseEstimator, RegressorMixin):  \n",
    "    \"\"\"sklearn wrapper for our kernel ridge regression\"\"\"\n",
    "     \n",
    "    def __init__(self, kernel=\"RBF\", sigma=1, degree=2, offset=1, l2reg=1):        \n",
    "        self.kernel = kernel\n",
    "        self.sigma = sigma\n",
    "        self.degree = degree\n",
    "        self.offset = offset\n",
    "        self.l2reg = l2reg \n",
    "\n",
    "    def fit(self, X, y=None):\n",
    "        \"\"\"\n",
    "        This should fit classifier. All the \"work\" should be done here.\n",
    "        \"\"\"\n",
    "        if (self.kernel == \"linear\"):\n",
    "            self.k = linear_kernel\n",
    "        elif (self.kernel == \"RBF\"):\n",
    "            self.k = functools.partial(RBF_kernel, sigma=self.sigma)\n",
    "        elif (self.kernel == \"polynomial\"):\n",
    "            self.k = functools.partial(polynomial_kernel, offset=self.offset,\\\n",
    "                                       degree=self.degree)\n",
    "        else:\n",
    "            raise ValueError('Unrecognized kernel type requested.')\n",
    "        \n",
    "        self.kernel_machine_ = train_kernel_ridge_regression(X, y, self.k, \\\n",
    "                                                             self.l2reg)\n",
    "\n",
    "        return self\n",
    "\n",
    "    def predict(self, X, y=None):\n",
    "        try:\n",
    "            getattr(self, \"kernel_machine_\")\n",
    "        except AttributeError:\n",
    "            raise RuntimeError(\"You must train classifer before predicting data!\")\n",
    "\n",
    "        return(self.kernel_machine_.predict(X))\n",
    "\n",
    "    def score(self, X, y=None):\n",
    "        # get the average square error\n",
    "        return(((self.predict(X)-y)**2).mean()) "
   ]
  },
  {
   "cell_type": "code",
   "execution_count": 291,
   "metadata": {
    "scrolled": true
   },
   "outputs": [],
   "source": [
    "from sklearn.model_selection import GridSearchCV,PredefinedSplit\n",
    "from sklearn.model_selection import ParameterGrid\n",
    "from sklearn.metrics import mean_squared_error,make_scorer\n",
    "import pandas as pd\n",
    "    \n",
    "test_fold = [-1]*len(x_train) + [0]*len(x_test)   #0 corresponds to test, -1 to train\n",
    "predefined_split = PredefinedSplit(test_fold=test_fold)"
   ]
  },
  {
   "cell_type": "code",
   "execution_count": 93,
   "metadata": {
    "scrolled": true
   },
   "outputs": [
    {
     "data": {
      "text/plain": [
       "GridSearchCV(cv=PredefinedSplit(test_fold=array([-1, -1, ...,  0,  0])),\n",
       "             estimator=KernelRidgeRegression(),\n",
       "             param_grid=[{'kernel': ['RBF'],\n",
       "                          'l2reg': array([1.024000e+03, 5.120000e+02, 2.560000e+02, 1.280000e+02,\n",
       "       6.400000e+01, 3.200000e+01, 1.600000e+01, 8.000000e+00,\n",
       "       4.000000e+00, 2.000000e+00, 1.000000e+00, 5.000000e-01,\n",
       "       2.500000e-01, 1.250000e-01, 6.250000e-02, 3.125000e-02,\n",
       "       1.562500e-02, 7.812500e-03, 3.906250e-03, 1.953125e-03]),\n",
       "                          'sigma': [0.001, 0.01, 0.1, 1, 10, 100]},\n",
       "                         {'degree': [2, 3, 4, 10, 20], 'kernel': ['polynomial'],\n",
       "                          'l2reg': [10, 1, 0.1, 0.01, 0.001],\n",
       "                          'offset': [-10, -1, -0.1, 0, 0.1, 1, 10]},\n",
       "                         {'kernel': ['linear'],\n",
       "                          'l2reg': [50, 10, 1, 0.1, 0.01, 0.001]}],\n",
       "             return_train_score=True,\n",
       "             scoring=make_scorer(mean_squared_error, greater_is_better=False))"
      ]
     },
     "execution_count": 93,
     "metadata": {},
     "output_type": "execute_result"
    }
   ],
   "source": [
    "param_grid = [{'kernel': ['RBF'],'sigma':[.001,.01,.1,1,10,100], 'l2reg':\\\n",
    "               np.exp2(-np.arange(-10,10,1))},\n",
    "              {'kernel':['polynomial'],'offset':[-10,-1,-0.1,0,0.1,1,10], \\\n",
    "               'degree':[2,3,4,10,20],'l2reg':[10,1,.1,.01,.001] },\n",
    "              {'kernel':['linear'],'l2reg': [50,10,1,.1,.01,.001]}]\n",
    "kernel_ridge_regression_estimator = KernelRidgeRegression()\n",
    "grid = GridSearchCV(kernel_ridge_regression_estimator, \n",
    "                    param_grid,\n",
    "                    cv = predefined_split,\n",
    "                    scoring = make_scorer(mean_squared_error,greater_is_better = False),\n",
    "                    return_train_score=True\n",
    "                   )\n",
    "grid.fit(np.vstack((x_train,x_test)),np.vstack((y_train,y_test))) "
   ]
  },
  {
   "cell_type": "code",
   "execution_count": 94,
   "metadata": {
    "scrolled": true
   },
   "outputs": [
    {
     "data": {
      "text/html": [
       "<div>\n",
       "<style scoped>\n",
       "    .dataframe tbody tr th:only-of-type {\n",
       "        vertical-align: middle;\n",
       "    }\n",
       "\n",
       "    .dataframe tbody tr th {\n",
       "        vertical-align: top;\n",
       "    }\n",
       "\n",
       "    .dataframe thead th {\n",
       "        text-align: right;\n",
       "    }\n",
       "</style>\n",
       "<table border=\"1\" class=\"dataframe\">\n",
       "  <thead>\n",
       "    <tr style=\"text-align: right;\">\n",
       "      <th></th>\n",
       "      <th>param_degree</th>\n",
       "      <th>param_kernel</th>\n",
       "      <th>param_l2reg</th>\n",
       "      <th>param_offset</th>\n",
       "      <th>param_sigma</th>\n",
       "      <th>mean_test_score</th>\n",
       "      <th>mean_train_score</th>\n",
       "    </tr>\n",
       "  </thead>\n",
       "  <tbody>\n",
       "    <tr>\n",
       "      <th>116</th>\n",
       "      <td>-</td>\n",
       "      <td>RBF</td>\n",
       "      <td>0.001953</td>\n",
       "      <td>-</td>\n",
       "      <td>0.1</td>\n",
       "      <td>0.015125</td>\n",
       "      <td>0.015750</td>\n",
       "    </tr>\n",
       "    <tr>\n",
       "      <th>110</th>\n",
       "      <td>-</td>\n",
       "      <td>RBF</td>\n",
       "      <td>0.003906</td>\n",
       "      <td>-</td>\n",
       "      <td>0.1</td>\n",
       "      <td>0.015788</td>\n",
       "      <td>0.017034</td>\n",
       "    </tr>\n",
       "    <tr>\n",
       "      <th>104</th>\n",
       "      <td>-</td>\n",
       "      <td>RBF</td>\n",
       "      <td>0.007812</td>\n",
       "      <td>-</td>\n",
       "      <td>0.1</td>\n",
       "      <td>0.017049</td>\n",
       "      <td>0.018717</td>\n",
       "    </tr>\n",
       "    <tr>\n",
       "      <th>98</th>\n",
       "      <td>-</td>\n",
       "      <td>RBF</td>\n",
       "      <td>0.015625</td>\n",
       "      <td>-</td>\n",
       "      <td>0.1</td>\n",
       "      <td>0.018565</td>\n",
       "      <td>0.020445</td>\n",
       "    </tr>\n",
       "    <tr>\n",
       "      <th>85</th>\n",
       "      <td>-</td>\n",
       "      <td>RBF</td>\n",
       "      <td>0.062500</td>\n",
       "      <td>-</td>\n",
       "      <td>0.01</td>\n",
       "      <td>0.018622</td>\n",
       "      <td>0.005203</td>\n",
       "    </tr>\n",
       "    <tr>\n",
       "      <th>...</th>\n",
       "      <td>...</td>\n",
       "      <td>...</td>\n",
       "      <td>...</td>\n",
       "      <td>...</td>\n",
       "      <td>...</td>\n",
       "      <td>...</td>\n",
       "      <td>...</td>\n",
       "    </tr>\n",
       "    <tr>\n",
       "      <th>287</th>\n",
       "      <td>20</td>\n",
       "      <td>polynomial</td>\n",
       "      <td>0.010000</td>\n",
       "      <td>10</td>\n",
       "      <td>-</td>\n",
       "      <td>140.899370</td>\n",
       "      <td>5.448035</td>\n",
       "    </tr>\n",
       "    <tr>\n",
       "      <th>273</th>\n",
       "      <td>20</td>\n",
       "      <td>polynomial</td>\n",
       "      <td>1.000000</td>\n",
       "      <td>10</td>\n",
       "      <td>-</td>\n",
       "      <td>140.899370</td>\n",
       "      <td>5.448035</td>\n",
       "    </tr>\n",
       "    <tr>\n",
       "      <th>294</th>\n",
       "      <td>20</td>\n",
       "      <td>polynomial</td>\n",
       "      <td>0.001000</td>\n",
       "      <td>10</td>\n",
       "      <td>-</td>\n",
       "      <td>140.899370</td>\n",
       "      <td>5.448035</td>\n",
       "    </tr>\n",
       "    <tr>\n",
       "      <th>266</th>\n",
       "      <td>20</td>\n",
       "      <td>polynomial</td>\n",
       "      <td>10.000000</td>\n",
       "      <td>10</td>\n",
       "      <td>-</td>\n",
       "      <td>140.899370</td>\n",
       "      <td>5.448035</td>\n",
       "    </tr>\n",
       "    <tr>\n",
       "      <th>280</th>\n",
       "      <td>20</td>\n",
       "      <td>polynomial</td>\n",
       "      <td>0.100000</td>\n",
       "      <td>10</td>\n",
       "      <td>-</td>\n",
       "      <td>140.899370</td>\n",
       "      <td>5.448035</td>\n",
       "    </tr>\n",
       "  </tbody>\n",
       "</table>\n",
       "<p>301 rows × 7 columns</p>\n",
       "</div>"
      ],
      "text/plain": [
       "    param_degree param_kernel  param_l2reg param_offset param_sigma  \\\n",
       "116            -          RBF     0.001953            -         0.1   \n",
       "110            -          RBF     0.003906            -         0.1   \n",
       "104            -          RBF     0.007812            -         0.1   \n",
       "98             -          RBF     0.015625            -         0.1   \n",
       "85             -          RBF     0.062500            -        0.01   \n",
       "..           ...          ...          ...          ...         ...   \n",
       "287           20   polynomial     0.010000           10           -   \n",
       "273           20   polynomial     1.000000           10           -   \n",
       "294           20   polynomial     0.001000           10           -   \n",
       "266           20   polynomial    10.000000           10           -   \n",
       "280           20   polynomial     0.100000           10           -   \n",
       "\n",
       "     mean_test_score  mean_train_score  \n",
       "116         0.015125          0.015750  \n",
       "110         0.015788          0.017034  \n",
       "104         0.017049          0.018717  \n",
       "98          0.018565          0.020445  \n",
       "85          0.018622          0.005203  \n",
       "..               ...               ...  \n",
       "287       140.899370          5.448035  \n",
       "273       140.899370          5.448035  \n",
       "294       140.899370          5.448035  \n",
       "266       140.899370          5.448035  \n",
       "280       140.899370          5.448035  \n",
       "\n",
       "[301 rows x 7 columns]"
      ]
     },
     "execution_count": 94,
     "metadata": {},
     "output_type": "execute_result"
    }
   ],
   "source": [
    "pd.set_option('display.max_rows', 20)\n",
    "df = pd.DataFrame(grid.cv_results_)\n",
    "# Flip sign of score back, because GridSearchCV likes to maximize,\n",
    "# so it flips the sign of the score if \"greater_is_better=FALSE\"\n",
    "df['mean_test_score'] = -df['mean_test_score']\n",
    "df['mean_train_score'] = -df['mean_train_score']\n",
    "cols_to_keep = [\"param_degree\", \"param_kernel\",\"param_l2reg\" ,\"param_offset\",\"param_sigma\",\n",
    "        \"mean_test_score\",\"mean_train_score\"]\n",
    "df_toshow = df[cols_to_keep].fillna('-')\n",
    "df_toshow.sort_values(by=[\"mean_test_score\"])"
   ]
  },
  {
   "cell_type": "markdown",
   "metadata": {},
   "source": [
    "The following table only displays the best tested setting for each kernel."
   ]
  },
  {
   "cell_type": "code",
   "execution_count": 95,
   "metadata": {
    "scrolled": true
   },
   "outputs": [
    {
     "data": {
      "text/html": [
       "<div>\n",
       "<style scoped>\n",
       "    .dataframe tbody tr th:only-of-type {\n",
       "        vertical-align: middle;\n",
       "    }\n",
       "\n",
       "    .dataframe tbody tr th {\n",
       "        vertical-align: top;\n",
       "    }\n",
       "\n",
       "    .dataframe thead th {\n",
       "        text-align: right;\n",
       "    }\n",
       "</style>\n",
       "<table border=\"1\" class=\"dataframe\">\n",
       "  <thead>\n",
       "    <tr style=\"text-align: right;\">\n",
       "      <th></th>\n",
       "      <th>param_degree</th>\n",
       "      <th>param_kernel</th>\n",
       "      <th>param_l2reg</th>\n",
       "      <th>param_offset</th>\n",
       "      <th>param_sigma</th>\n",
       "      <th>mean_test_score</th>\n",
       "      <th>mean_train_score</th>\n",
       "    </tr>\n",
       "  </thead>\n",
       "  <tbody>\n",
       "    <tr>\n",
       "      <th>116</th>\n",
       "      <td>-</td>\n",
       "      <td>RBF</td>\n",
       "      <td>0.001953</td>\n",
       "      <td>-</td>\n",
       "      <td>0.1</td>\n",
       "      <td>0.015125</td>\n",
       "      <td>0.015750</td>\n",
       "    </tr>\n",
       "    <tr>\n",
       "      <th>293</th>\n",
       "      <td>20</td>\n",
       "      <td>polynomial</td>\n",
       "      <td>0.001000</td>\n",
       "      <td>1</td>\n",
       "      <td>-</td>\n",
       "      <td>0.029910</td>\n",
       "      <td>0.031096</td>\n",
       "    </tr>\n",
       "    <tr>\n",
       "      <th>297</th>\n",
       "      <td>-</td>\n",
       "      <td>linear</td>\n",
       "      <td>1.000000</td>\n",
       "      <td>-</td>\n",
       "      <td>-</td>\n",
       "      <td>0.164540</td>\n",
       "      <td>0.206506</td>\n",
       "    </tr>\n",
       "  </tbody>\n",
       "</table>\n",
       "</div>"
      ],
      "text/plain": [
       "    param_degree param_kernel  param_l2reg param_offset param_sigma  \\\n",
       "116            -          RBF     0.001953            -         0.1   \n",
       "293           20   polynomial     0.001000            1           -   \n",
       "297            -       linear     1.000000            -           -   \n",
       "\n",
       "     mean_test_score  mean_train_score  \n",
       "116         0.015125          0.015750  \n",
       "293         0.029910          0.031096  \n",
       "297         0.164540          0.206506  "
      ]
     },
     "execution_count": 95,
     "metadata": {},
     "output_type": "execute_result"
    }
   ],
   "source": [
    "RBF_idx = df_toshow[df_toshow['param_kernel']=='RBF']['mean_test_score'].idxmin()\n",
    "poly_idx = df_toshow[df_toshow['param_kernel']=='polynomial']['mean_test_score'].idxmin()\n",
    "ln_idx = df_toshow[df_toshow['param_kernel']=='linear']['mean_test_score'].idxmin()\n",
    "df_toshow.loc[[RBF_idx, poly_idx, ln_idx]]"
   ]
  },
  {
   "cell_type": "markdown",
   "metadata": {},
   "source": [
    "The following tables display the best tested setting for each kernel and some nearby settings."
   ]
  },
  {
   "cell_type": "code",
   "execution_count": 96,
   "metadata": {
    "scrolled": true
   },
   "outputs": [
    {
     "data": {
      "text/html": [
       "<div>\n",
       "<style scoped>\n",
       "    .dataframe tbody tr th:only-of-type {\n",
       "        vertical-align: middle;\n",
       "    }\n",
       "\n",
       "    .dataframe tbody tr th {\n",
       "        vertical-align: top;\n",
       "    }\n",
       "\n",
       "    .dataframe thead th {\n",
       "        text-align: right;\n",
       "    }\n",
       "</style>\n",
       "<table border=\"1\" class=\"dataframe\">\n",
       "  <thead>\n",
       "    <tr style=\"text-align: right;\">\n",
       "      <th></th>\n",
       "      <th>param_degree</th>\n",
       "      <th>param_kernel</th>\n",
       "      <th>param_l2reg</th>\n",
       "      <th>param_offset</th>\n",
       "      <th>param_sigma</th>\n",
       "      <th>mean_test_score</th>\n",
       "      <th>mean_train_score</th>\n",
       "    </tr>\n",
       "  </thead>\n",
       "  <tbody>\n",
       "    <tr>\n",
       "      <th>111</th>\n",
       "      <td>-</td>\n",
       "      <td>RBF</td>\n",
       "      <td>0.003906</td>\n",
       "      <td>-</td>\n",
       "      <td>1</td>\n",
       "      <td>0.062323</td>\n",
       "      <td>0.091025</td>\n",
       "    </tr>\n",
       "    <tr>\n",
       "      <th>112</th>\n",
       "      <td>-</td>\n",
       "      <td>RBF</td>\n",
       "      <td>0.003906</td>\n",
       "      <td>-</td>\n",
       "      <td>10</td>\n",
       "      <td>0.155350</td>\n",
       "      <td>0.197079</td>\n",
       "    </tr>\n",
       "    <tr>\n",
       "      <th>113</th>\n",
       "      <td>-</td>\n",
       "      <td>RBF</td>\n",
       "      <td>0.003906</td>\n",
       "      <td>-</td>\n",
       "      <td>100</td>\n",
       "      <td>0.164324</td>\n",
       "      <td>0.207028</td>\n",
       "    </tr>\n",
       "    <tr>\n",
       "      <th>114</th>\n",
       "      <td>-</td>\n",
       "      <td>RBF</td>\n",
       "      <td>0.001953</td>\n",
       "      <td>-</td>\n",
       "      <td>0.001</td>\n",
       "      <td>0.120711</td>\n",
       "      <td>0.000145</td>\n",
       "    </tr>\n",
       "    <tr>\n",
       "      <th>115</th>\n",
       "      <td>-</td>\n",
       "      <td>RBF</td>\n",
       "      <td>0.001953</td>\n",
       "      <td>-</td>\n",
       "      <td>0.01</td>\n",
       "      <td>0.023162</td>\n",
       "      <td>0.003101</td>\n",
       "    </tr>\n",
       "    <tr>\n",
       "      <th>116</th>\n",
       "      <td>-</td>\n",
       "      <td>RBF</td>\n",
       "      <td>0.001953</td>\n",
       "      <td>-</td>\n",
       "      <td>0.1</td>\n",
       "      <td>0.015125</td>\n",
       "      <td>0.015750</td>\n",
       "    </tr>\n",
       "    <tr>\n",
       "      <th>117</th>\n",
       "      <td>-</td>\n",
       "      <td>RBF</td>\n",
       "      <td>0.001953</td>\n",
       "      <td>-</td>\n",
       "      <td>1</td>\n",
       "      <td>0.061464</td>\n",
       "      <td>0.089266</td>\n",
       "    </tr>\n",
       "    <tr>\n",
       "      <th>118</th>\n",
       "      <td>-</td>\n",
       "      <td>RBF</td>\n",
       "      <td>0.001953</td>\n",
       "      <td>-</td>\n",
       "      <td>10</td>\n",
       "      <td>0.154173</td>\n",
       "      <td>0.195882</td>\n",
       "    </tr>\n",
       "    <tr>\n",
       "      <th>119</th>\n",
       "      <td>-</td>\n",
       "      <td>RBF</td>\n",
       "      <td>0.001953</td>\n",
       "      <td>-</td>\n",
       "      <td>100</td>\n",
       "      <td>0.162083</td>\n",
       "      <td>0.204710</td>\n",
       "    </tr>\n",
       "  </tbody>\n",
       "</table>\n",
       "</div>"
      ],
      "text/plain": [
       "    param_degree param_kernel  param_l2reg param_offset param_sigma  \\\n",
       "111            -          RBF     0.003906            -           1   \n",
       "112            -          RBF     0.003906            -          10   \n",
       "113            -          RBF     0.003906            -         100   \n",
       "114            -          RBF     0.001953            -       0.001   \n",
       "115            -          RBF     0.001953            -        0.01   \n",
       "116            -          RBF     0.001953            -         0.1   \n",
       "117            -          RBF     0.001953            -           1   \n",
       "118            -          RBF     0.001953            -          10   \n",
       "119            -          RBF     0.001953            -         100   \n",
       "\n",
       "     mean_test_score  mean_train_score  \n",
       "111         0.062323          0.091025  \n",
       "112         0.155350          0.197079  \n",
       "113         0.164324          0.207028  \n",
       "114         0.120711          0.000145  \n",
       "115         0.023162          0.003101  \n",
       "116         0.015125          0.015750  \n",
       "117         0.061464          0.089266  \n",
       "118         0.154173          0.195882  \n",
       "119         0.162083          0.204710  "
      ]
     },
     "execution_count": 96,
     "metadata": {},
     "output_type": "execute_result"
    }
   ],
   "source": [
    "df_toshow.loc[RBF_idx-5:RBF_idx+3]"
   ]
  },
  {
   "cell_type": "code",
   "execution_count": 97,
   "metadata": {
    "scrolled": true
   },
   "outputs": [
    {
     "data": {
      "text/html": [
       "<div>\n",
       "<style scoped>\n",
       "    .dataframe tbody tr th:only-of-type {\n",
       "        vertical-align: middle;\n",
       "    }\n",
       "\n",
       "    .dataframe tbody tr th {\n",
       "        vertical-align: top;\n",
       "    }\n",
       "\n",
       "    .dataframe thead th {\n",
       "        text-align: right;\n",
       "    }\n",
       "</style>\n",
       "<table border=\"1\" class=\"dataframe\">\n",
       "  <thead>\n",
       "    <tr style=\"text-align: right;\">\n",
       "      <th></th>\n",
       "      <th>param_degree</th>\n",
       "      <th>param_kernel</th>\n",
       "      <th>param_l2reg</th>\n",
       "      <th>param_offset</th>\n",
       "      <th>param_sigma</th>\n",
       "      <th>mean_test_score</th>\n",
       "      <th>mean_train_score</th>\n",
       "    </tr>\n",
       "  </thead>\n",
       "  <tbody>\n",
       "    <tr>\n",
       "      <th>288</th>\n",
       "      <td>20</td>\n",
       "      <td>polynomial</td>\n",
       "      <td>0.001</td>\n",
       "      <td>-10</td>\n",
       "      <td>-</td>\n",
       "      <td>99.084022</td>\n",
       "      <td>5.780622</td>\n",
       "    </tr>\n",
       "    <tr>\n",
       "      <th>289</th>\n",
       "      <td>20</td>\n",
       "      <td>polynomial</td>\n",
       "      <td>0.001</td>\n",
       "      <td>-1</td>\n",
       "      <td>-</td>\n",
       "      <td>0.090849</td>\n",
       "      <td>0.056974</td>\n",
       "    </tr>\n",
       "    <tr>\n",
       "      <th>290</th>\n",
       "      <td>20</td>\n",
       "      <td>polynomial</td>\n",
       "      <td>0.001</td>\n",
       "      <td>-0.1</td>\n",
       "      <td>-</td>\n",
       "      <td>0.173662</td>\n",
       "      <td>0.208702</td>\n",
       "    </tr>\n",
       "    <tr>\n",
       "      <th>291</th>\n",
       "      <td>20</td>\n",
       "      <td>polynomial</td>\n",
       "      <td>0.001</td>\n",
       "      <td>0</td>\n",
       "      <td>-</td>\n",
       "      <td>0.151705</td>\n",
       "      <td>0.190801</td>\n",
       "    </tr>\n",
       "    <tr>\n",
       "      <th>292</th>\n",
       "      <td>20</td>\n",
       "      <td>polynomial</td>\n",
       "      <td>0.001</td>\n",
       "      <td>0.1</td>\n",
       "      <td>-</td>\n",
       "      <td>0.121631</td>\n",
       "      <td>0.160897</td>\n",
       "    </tr>\n",
       "    <tr>\n",
       "      <th>293</th>\n",
       "      <td>20</td>\n",
       "      <td>polynomial</td>\n",
       "      <td>0.001</td>\n",
       "      <td>1</td>\n",
       "      <td>-</td>\n",
       "      <td>0.029910</td>\n",
       "      <td>0.031096</td>\n",
       "    </tr>\n",
       "    <tr>\n",
       "      <th>294</th>\n",
       "      <td>20</td>\n",
       "      <td>polynomial</td>\n",
       "      <td>0.001</td>\n",
       "      <td>10</td>\n",
       "      <td>-</td>\n",
       "      <td>140.899370</td>\n",
       "      <td>5.448035</td>\n",
       "    </tr>\n",
       "  </tbody>\n",
       "</table>\n",
       "</div>"
      ],
      "text/plain": [
       "    param_degree param_kernel  param_l2reg param_offset param_sigma  \\\n",
       "288           20   polynomial        0.001          -10           -   \n",
       "289           20   polynomial        0.001           -1           -   \n",
       "290           20   polynomial        0.001         -0.1           -   \n",
       "291           20   polynomial        0.001            0           -   \n",
       "292           20   polynomial        0.001          0.1           -   \n",
       "293           20   polynomial        0.001            1           -   \n",
       "294           20   polynomial        0.001           10           -   \n",
       "\n",
       "     mean_test_score  mean_train_score  \n",
       "288        99.084022          5.780622  \n",
       "289         0.090849          0.056974  \n",
       "290         0.173662          0.208702  \n",
       "291         0.151705          0.190801  \n",
       "292         0.121631          0.160897  \n",
       "293         0.029910          0.031096  \n",
       "294       140.899370          5.448035  "
      ]
     },
     "execution_count": 97,
     "metadata": {},
     "output_type": "execute_result"
    }
   ],
   "source": [
    "df_toshow.loc[poly_idx-5:poly_idx+1]"
   ]
  },
  {
   "cell_type": "code",
   "execution_count": 98,
   "metadata": {
    "scrolled": true
   },
   "outputs": [
    {
     "data": {
      "text/html": [
       "<div>\n",
       "<style scoped>\n",
       "    .dataframe tbody tr th:only-of-type {\n",
       "        vertical-align: middle;\n",
       "    }\n",
       "\n",
       "    .dataframe tbody tr th {\n",
       "        vertical-align: top;\n",
       "    }\n",
       "\n",
       "    .dataframe thead th {\n",
       "        text-align: right;\n",
       "    }\n",
       "</style>\n",
       "<table border=\"1\" class=\"dataframe\">\n",
       "  <thead>\n",
       "    <tr style=\"text-align: right;\">\n",
       "      <th></th>\n",
       "      <th>param_degree</th>\n",
       "      <th>param_kernel</th>\n",
       "      <th>param_l2reg</th>\n",
       "      <th>param_offset</th>\n",
       "      <th>param_sigma</th>\n",
       "      <th>mean_test_score</th>\n",
       "      <th>mean_train_score</th>\n",
       "    </tr>\n",
       "  </thead>\n",
       "  <tbody>\n",
       "    <tr>\n",
       "      <th>296</th>\n",
       "      <td>-</td>\n",
       "      <td>linear</td>\n",
       "      <td>10.000</td>\n",
       "      <td>-</td>\n",
       "      <td>-</td>\n",
       "      <td>0.164591</td>\n",
       "      <td>0.206780</td>\n",
       "    </tr>\n",
       "    <tr>\n",
       "      <th>297</th>\n",
       "      <td>-</td>\n",
       "      <td>linear</td>\n",
       "      <td>1.000</td>\n",
       "      <td>-</td>\n",
       "      <td>-</td>\n",
       "      <td>0.164540</td>\n",
       "      <td>0.206506</td>\n",
       "    </tr>\n",
       "    <tr>\n",
       "      <th>298</th>\n",
       "      <td>-</td>\n",
       "      <td>linear</td>\n",
       "      <td>0.100</td>\n",
       "      <td>-</td>\n",
       "      <td>-</td>\n",
       "      <td>0.164565</td>\n",
       "      <td>0.206501</td>\n",
       "    </tr>\n",
       "    <tr>\n",
       "      <th>299</th>\n",
       "      <td>-</td>\n",
       "      <td>linear</td>\n",
       "      <td>0.010</td>\n",
       "      <td>-</td>\n",
       "      <td>-</td>\n",
       "      <td>0.164569</td>\n",
       "      <td>0.206501</td>\n",
       "    </tr>\n",
       "    <tr>\n",
       "      <th>300</th>\n",
       "      <td>-</td>\n",
       "      <td>linear</td>\n",
       "      <td>0.001</td>\n",
       "      <td>-</td>\n",
       "      <td>-</td>\n",
       "      <td>0.164569</td>\n",
       "      <td>0.206501</td>\n",
       "    </tr>\n",
       "  </tbody>\n",
       "</table>\n",
       "</div>"
      ],
      "text/plain": [
       "    param_degree param_kernel  param_l2reg param_offset param_sigma  \\\n",
       "296            -       linear       10.000            -           -   \n",
       "297            -       linear        1.000            -           -   \n",
       "298            -       linear        0.100            -           -   \n",
       "299            -       linear        0.010            -           -   \n",
       "300            -       linear        0.001            -           -   \n",
       "\n",
       "     mean_test_score  mean_train_score  \n",
       "296         0.164591          0.206780  \n",
       "297         0.164540          0.206506  \n",
       "298         0.164565          0.206501  \n",
       "299         0.164569          0.206501  \n",
       "300         0.164569          0.206501  "
      ]
     },
     "execution_count": 98,
     "metadata": {},
     "output_type": "execute_result"
    }
   ],
   "source": [
    "df_toshow.loc[ln_idx-1:ln_idx+5]"
   ]
  },
  {
   "cell_type": "markdown",
   "metadata": {},
   "source": [
    "**Problem 29**"
   ]
  },
  {
   "cell_type": "code",
   "execution_count": 100,
   "metadata": {
    "scrolled": true
   },
   "outputs": [
    {
     "data": {
      "image/png": "[encoded data removed]",
      "text/plain": [
       "<Figure size 432x288 with 1 Axes>"
      ]
     },
     "metadata": {
      "needs_background": "light"
     },
     "output_type": "display_data"
    }
   ],
   "source": [
    "## Plot the best polynomial and RBF fits you found\n",
    "plot_step = .01\n",
    "xpts = np.arange(-.5 , 1.5, plot_step).reshape(-1,1)\n",
    "plt.plot(x_train,y_train,'o')\n",
    "#Plot best polynomial fit\n",
    "offset= df_toshow.loc[poly_idx, 'param_offset']\n",
    "degree = df_toshow.loc[poly_idx, 'param_degree']\n",
    "l2reg = df_toshow.loc[poly_idx, 'param_l2reg']\n",
    "k = functools.partial(polynomial_kernel, offset=offset, degree=degree)\n",
    "f = train_kernel_ridge_regression(x_train, y_train, k, l2reg=l2reg)\n",
    "label = \"Offset=\"+str(offset)+\",Degree=\"+str(degree)+\",L2Reg=\"+str(l2reg)\n",
    "plt.plot(xpts, f.predict(xpts), label=label)\n",
    "#Plot best RBF fit\n",
    "sigma = df_toshow.loc[RBF_idx, 'param_sigma']\n",
    "l2reg= df_toshow.loc[RBF_idx, 'param_l2reg']\n",
    "k = functools.partial(RBF_kernel, sigma=sigma)\n",
    "f = train_kernel_ridge_regression(x_train, y_train, k, l2reg=l2reg)\n",
    "label = \"Sigma=\"+str(sigma)+\",L2Reg=\"+str(l2reg)\n",
    "plt.plot(xpts, f.predict(xpts), label=label)\n",
    "plt.legend(loc = 'best')\n",
    "plt.ylim(-1,1.75)\n",
    "plt.title('Best Polynomial and RBF on Training Set')\n",
    "plt.show()"
   ]
  },
  {
   "cell_type": "code",
   "execution_count": 101,
   "metadata": {
    "scrolled": true
   },
   "outputs": [
    {
     "data": {
      "image/png": "[encoded data removed]",
      "text/plain": [
       "<Figure size 432x288 with 1 Axes>"
      ]
     },
     "metadata": {
      "needs_background": "light"
     },
     "output_type": "display_data"
    }
   ],
   "source": [
    "## Plot the best polynomial and RBF fits you found\n",
    "plot_step = .01\n",
    "xpts = np.arange(-.5 , 1.5, plot_step).reshape(-1,1)\n",
    "plt.plot(x_test,y_test,'o')\n",
    "#Plot best polynomial fit\n",
    "offset= df_toshow.loc[poly_idx, 'param_offset']\n",
    "degree = df_toshow.loc[poly_idx, 'param_degree']\n",
    "l2reg = df_toshow.loc[poly_idx, 'param_l2reg']\n",
    "k = functools.partial(polynomial_kernel, offset=offset, degree=degree)\n",
    "f = train_kernel_ridge_regression(x_train, y_train, k, l2reg=l2reg)\n",
    "label = \"Offset=\"+str(offset)+\",Degree=\"+str(degree)+\",L2Reg=\"+str(l2reg)\n",
    "plt.plot(xpts, f.predict(xpts), label=label)\n",
    "#Plot best RBF fit\n",
    "sigma = df_toshow.loc[RBF_idx, 'param_sigma']\n",
    "l2reg= df_toshow.loc[RBF_idx, 'param_l2reg']\n",
    "k = functools.partial(RBF_kernel, sigma=sigma)\n",
    "f = train_kernel_ridge_regression(x_train, y_train, k, l2reg=l2reg)\n",
    "label = \"Sigma=\"+str(sigma)+\",L2Reg=\"+str(l2reg)\n",
    "plt.plot(xpts, f.predict(xpts), label=label)\n",
    "plt.legend(loc = 'best')\n",
    "plt.ylim(-1,1.75)\n",
    "plt.title('Best Polynomial and RBF on Test Set')\n",
    "plt.show()"
   ]
  },
  {
   "cell_type": "markdown",
   "metadata": {},
   "source": [
    "Both models perform well within the range of the training data, but have very different predictions out of the training range. Since in this problem we have training and testing data locating in the same range, having the same trend, and splitted relatively even across the range, the prediction error can be very small. We tried a very large range of parameters. Among all tested parameters, the regularization parameter for both models are relatively small. Since the regularization parameter add bias to trade for decreasing variance, it is understandable to be relatively small for this dataset. Due to similar reason the higher degree of the polynomial kernel is acceptable here. The offset and sigma hyperparameters also correspond to the comments we have in the previous problems. Both of them are moderate, and changing any of them lead to significantly increasing error. Moreover, even slight changes in the parameters to any direction can give very different results."
   ]
  },
  {
   "cell_type": "markdown",
   "metadata": {},
   "source": [
    "**Problem 30**"
   ]
  },
  {
   "cell_type": "markdown",
   "metadata": {},
   "source": [
    "The definition of Bayes prediction function $f^*:X\\to A$ is a function that achieves the minimal risk among all possible functions, i.e.$f^*\\in arg\\min_fR(f)$"
   ]
  },
  {
   "cell_type": "markdown",
   "metadata": {},
   "source": [
    "The definition of Bayes risk for a prediction function $f:X\\to A$ is $$R(f)=E_{(x,y)~P_{x\\times y}}[l(f(x), y)]$$"
   ]
  },
  {
   "cell_type": "markdown",
   "metadata": {},
   "source": [
    "In this problem, in the final point $(x, f(x)+\\epsilon)$, $\\epsilon$ is an additive random noise generated from distribution $N(0, 0.1^2)$. Therefore, the Bayes decision function for these points are $f^*=f(x)$, and the corresponding Bayes risk is $$\\begin{split}R(f)&=E_{(x,y)~P_{x\\times y}}[l(f(x), y)]\\\\&=E((f(x)-f(x)-\\epsilon)^2)\\\\&=E(\\epsilon^2)\\\\&=Var(\\epsilon)+(E(\\epsilon))^2\\\\&=0.1^2\\end{split}$$"
   ]
  },
  {
   "cell_type": "markdown",
   "metadata": {},
   "source": [
    "# Kernel SVMs with Kernelized Pegasos"
   ]
  },
  {
   "cell_type": "markdown",
   "metadata": {},
   "source": [
    "**Problem 31**"
   ]
  },
  {
   "cell_type": "code",
   "execution_count": 177,
   "metadata": {
    "scrolled": true
   },
   "outputs": [
    {
     "data": {
      "image/png": "[encoded data removed]",
      "text/plain": [
       "<Figure size 288x288 with 1 Axes>"
      ]
     },
     "metadata": {
      "needs_background": "light"
     },
     "output_type": "display_data"
    }
   ],
   "source": [
    "# Load and plot the SVM data\n",
    "#load the training and test sets\n",
    "data_train,data_test = np.loadtxt(\"svm-train.txt\"),np.loadtxt(\"svm-test.txt\")\n",
    "x_train, y_train = data_train[:,0:2], data_train[:,2].reshape(-1,1)\n",
    "x_test, y_test = data_test[:,0:2], data_test[:,2].reshape(-1,1)\n",
    "\n",
    "#determine predictions for the training set\n",
    "yplus = np.ma.masked_where(y_train[:,0]<=0, y_train[:,0])\n",
    "xplus = x_train[~np.array(yplus.mask)]\n",
    "yminus = np.ma.masked_where(y_train[:,0]>0, y_train[:,0])\n",
    "xminus = x_train[~np.array(yminus.mask)]\n",
    "\n",
    "#plot the predictions for the training set\n",
    "figsize = plt.figaspect(1)\n",
    "f, (ax) = plt.subplots(1, 1, figsize=figsize) \n",
    "\n",
    "pluses = ax.scatter (xplus[:,0], xplus[:,1], marker='+', c='r', \\\n",
    "                     label = '+1 labels for training set')\n",
    "minuses = ax.scatter (xminus[:,0], xminus[:,1], marker=r'$-$', c='b', \\\n",
    "                      label = '-1 labels for training set')\n",
    "\n",
    "ax.set_ylabel(r\"$x_2$\", fontsize=11)\n",
    "ax.set_xlabel(r\"$x_1$\", fontsize=11)\n",
    "ax.set_title('Training set size = %s'% len(data_train), fontsize=9)  \n",
    "ax.axis('tight')\n",
    "ax.legend(handles=[pluses, minuses], fontsize=9)\n",
    "plt.show()"
   ]
  },
  {
   "cell_type": "markdown",
   "metadata": {},
   "source": [
    "From the above plot, the data are not linearly separable. Most data points with -1 labels are in the center of the plot, surrounded by points with +1 label. It seems to be quadratically separable since the points may be separated by a circle. In this case, RBF, or radial basis function, kernel, can be a helpful tool for separation, because it uses an exponential term and the expansion of such terms gives infinite power. The main motivation for RBF is often to get a quadratic, cubic or any polynomial equation of large degree for our classification/regression line."
   ]
  },
  {
   "cell_type": "markdown",
   "metadata": {},
   "source": [
    "**Problem 32**"
   ]
  },
  {
   "cell_type": "code",
   "execution_count": 294,
   "metadata": {
    "scrolled": true
   },
   "outputs": [],
   "source": [
    "def kernel_pegasos(X_train, y_train, lamda, num_epoch, kernel):\n",
    "    alpha = np.zeros(len(X_train))\n",
    "\n",
    "    iterate = 1\n",
    "    while iterate < num_epoch+1:\n",
    "        ridx = np.random.choice(np.arange(len(X_train)))\n",
    "        Xit = np.array(X_train[ridx]).reshape(-1,1)\n",
    "        yit = y_train[ridx]\n",
    "        const = 1 / (lamda*iterate)\n",
    "        k = [kernel(Xit, np.array(X).reshape(-1, 1)) for X in X_train]\n",
    "        summ = np.sum([alpha[j]*y_train[j]*k[j] for j in np.arange(len(X_train))])\n",
    "        if yit*const*summ < 1:\n",
    "            alpha[ridx] += 1\n",
    "        iterate += 1\n",
    "    return alpha"
   ]
  },
  {
   "cell_type": "markdown",
   "metadata": {},
   "source": [
    "**Problem 33**"
   ]
  },
  {
   "cell_type": "code",
   "execution_count": 295,
   "metadata": {},
   "outputs": [],
   "source": [
    "def pred_kernel_pegasos(alpha, x_check, x_train, y_train, y_check, kernel):\n",
    "    y_pred = []\n",
    "    for i in range(len(x_check)):\n",
    "        temp = 0\n",
    "        for j in range(len(x_train)):\n",
    "            K = kernel(x_train[j].reshape(1, -1), x_check[i].reshape(1, -1))\n",
    "            temp += alpha[j]*y_train[j]*K[0]\n",
    "        if temp < 0:\n",
    "            sign = -1\n",
    "        else:\n",
    "            sign = 1\n",
    "        y_pred.append(sign)\n",
    "    \n",
    "    check = [np.abs(i-j)<0.001 for i, j in zip(y_pred, y_check)]\n",
    "    err = 1-np.sum(check)/len(check)\n",
    "    return y_pred, err"
   ]
  },
  {
   "cell_type": "code",
   "execution_count": 313,
   "metadata": {},
   "outputs": [],
   "source": [
    "x_train, y_train = data_train[:,0:2], data_train[:,2].reshape(-1,1)\n",
    "x_test, y_test = data_test[:,0:2], data_test[:,2].reshape(-1,1)\n",
    "num_epoch = 100\n",
    "sig = [0.01, 0.1, 1, 10]\n",
    "lamda = [0.001, 0.01, 0.1, 1, 10]\n",
    "data = []\n",
    "for s in sig:\n",
    "    kernel = functools.partial(RBF_kernel, sigma=s)\n",
    "    for l in lamda:\n",
    "        alpha = kernel_pegasos(x_train, y_train, l, num_epoch, kernel)\n",
    "        y_pred_train, trainerr = pred_kernel_pegasos(alpha, x_train, x_train, \\\n",
    "                                                     y_train, y_train, kernel)\n",
    "        y_pred_test, testerr = pred_kernel_pegasos(alpha, x_test, x_train, \\\n",
    "                                                   y_train, y_test, kernel)\n",
    "        data.append(['RBF', s, l, trainerr, testerr])"
   ]
  },
  {
   "cell_type": "code",
   "execution_count": 314,
   "metadata": {},
   "outputs": [
    {
     "data": {
      "text/html": [
       "<div>\n",
       "<style scoped>\n",
       "    .dataframe tbody tr th:only-of-type {\n",
       "        vertical-align: middle;\n",
       "    }\n",
       "\n",
       "    .dataframe tbody tr th {\n",
       "        vertical-align: top;\n",
       "    }\n",
       "\n",
       "    .dataframe thead th {\n",
       "        text-align: right;\n",
       "    }\n",
       "</style>\n",
       "<table border=\"1\" class=\"dataframe\">\n",
       "  <thead>\n",
       "    <tr style=\"text-align: right;\">\n",
       "      <th></th>\n",
       "      <th>kernel</th>\n",
       "      <th>param_sigma</th>\n",
       "      <th>param_l2reg</th>\n",
       "      <th>training_error</th>\n",
       "      <th>test_error</th>\n",
       "    </tr>\n",
       "  </thead>\n",
       "  <tbody>\n",
       "    <tr>\n",
       "      <th>0</th>\n",
       "      <td>RBF</td>\n",
       "      <td>0.01</td>\n",
       "      <td>0.001</td>\n",
       "      <td>0.100</td>\n",
       "      <td>0.14750</td>\n",
       "    </tr>\n",
       "    <tr>\n",
       "      <th>1</th>\n",
       "      <td>RBF</td>\n",
       "      <td>0.01</td>\n",
       "      <td>0.010</td>\n",
       "      <td>0.080</td>\n",
       "      <td>0.12875</td>\n",
       "    </tr>\n",
       "    <tr>\n",
       "      <th>2</th>\n",
       "      <td>RBF</td>\n",
       "      <td>0.01</td>\n",
       "      <td>0.100</td>\n",
       "      <td>0.090</td>\n",
       "      <td>0.13000</td>\n",
       "    </tr>\n",
       "    <tr>\n",
       "      <th>3</th>\n",
       "      <td>RBF</td>\n",
       "      <td>0.01</td>\n",
       "      <td>1.000</td>\n",
       "      <td>0.095</td>\n",
       "      <td>0.14250</td>\n",
       "    </tr>\n",
       "    <tr>\n",
       "      <th>4</th>\n",
       "      <td>RBF</td>\n",
       "      <td>0.01</td>\n",
       "      <td>10.000</td>\n",
       "      <td>0.135</td>\n",
       "      <td>0.15750</td>\n",
       "    </tr>\n",
       "    <tr>\n",
       "      <th>5</th>\n",
       "      <td>RBF</td>\n",
       "      <td>0.10</td>\n",
       "      <td>0.001</td>\n",
       "      <td>0.105</td>\n",
       "      <td>0.14875</td>\n",
       "    </tr>\n",
       "    <tr>\n",
       "      <th>6</th>\n",
       "      <td>RBF</td>\n",
       "      <td>0.10</td>\n",
       "      <td>0.010</td>\n",
       "      <td>0.060</td>\n",
       "      <td>0.10000</td>\n",
       "    </tr>\n",
       "    <tr>\n",
       "      <th>7</th>\n",
       "      <td>RBF</td>\n",
       "      <td>0.10</td>\n",
       "      <td>0.100</td>\n",
       "      <td>0.050</td>\n",
       "      <td>0.08875</td>\n",
       "    </tr>\n",
       "    <tr>\n",
       "      <th>8</th>\n",
       "      <td>RBF</td>\n",
       "      <td>0.10</td>\n",
       "      <td>1.000</td>\n",
       "      <td>0.055</td>\n",
       "      <td>0.06625</td>\n",
       "    </tr>\n",
       "    <tr>\n",
       "      <th>9</th>\n",
       "      <td>RBF</td>\n",
       "      <td>0.10</td>\n",
       "      <td>10.000</td>\n",
       "      <td>0.125</td>\n",
       "      <td>0.15500</td>\n",
       "    </tr>\n",
       "    <tr>\n",
       "      <th>10</th>\n",
       "      <td>RBF</td>\n",
       "      <td>1.00</td>\n",
       "      <td>0.001</td>\n",
       "      <td>0.095</td>\n",
       "      <td>0.11125</td>\n",
       "    </tr>\n",
       "    <tr>\n",
       "      <th>11</th>\n",
       "      <td>RBF</td>\n",
       "      <td>1.00</td>\n",
       "      <td>0.010</td>\n",
       "      <td>0.070</td>\n",
       "      <td>0.06625</td>\n",
       "    </tr>\n",
       "    <tr>\n",
       "      <th>12</th>\n",
       "      <td>RBF</td>\n",
       "      <td>1.00</td>\n",
       "      <td>0.100</td>\n",
       "      <td>0.065</td>\n",
       "      <td>0.05750</td>\n",
       "    </tr>\n",
       "    <tr>\n",
       "      <th>13</th>\n",
       "      <td>RBF</td>\n",
       "      <td>1.00</td>\n",
       "      <td>1.000</td>\n",
       "      <td>0.065</td>\n",
       "      <td>0.06750</td>\n",
       "    </tr>\n",
       "    <tr>\n",
       "      <th>14</th>\n",
       "      <td>RBF</td>\n",
       "      <td>1.00</td>\n",
       "      <td>10.000</td>\n",
       "      <td>0.060</td>\n",
       "      <td>0.08625</td>\n",
       "    </tr>\n",
       "    <tr>\n",
       "      <th>15</th>\n",
       "      <td>RBF</td>\n",
       "      <td>10.00</td>\n",
       "      <td>0.001</td>\n",
       "      <td>0.440</td>\n",
       "      <td>0.45125</td>\n",
       "    </tr>\n",
       "    <tr>\n",
       "      <th>16</th>\n",
       "      <td>RBF</td>\n",
       "      <td>10.00</td>\n",
       "      <td>0.010</td>\n",
       "      <td>0.240</td>\n",
       "      <td>0.22000</td>\n",
       "    </tr>\n",
       "    <tr>\n",
       "      <th>17</th>\n",
       "      <td>RBF</td>\n",
       "      <td>10.00</td>\n",
       "      <td>0.100</td>\n",
       "      <td>0.240</td>\n",
       "      <td>0.22000</td>\n",
       "    </tr>\n",
       "    <tr>\n",
       "      <th>18</th>\n",
       "      <td>RBF</td>\n",
       "      <td>10.00</td>\n",
       "      <td>1.000</td>\n",
       "      <td>0.240</td>\n",
       "      <td>0.22000</td>\n",
       "    </tr>\n",
       "    <tr>\n",
       "      <th>19</th>\n",
       "      <td>RBF</td>\n",
       "      <td>10.00</td>\n",
       "      <td>10.000</td>\n",
       "      <td>0.240</td>\n",
       "      <td>0.22000</td>\n",
       "    </tr>\n",
       "  </tbody>\n",
       "</table>\n",
       "</div>"
      ],
      "text/plain": [
       "   kernel  param_sigma  param_l2reg  training_error  test_error\n",
       "0     RBF         0.01        0.001           0.100     0.14750\n",
       "1     RBF         0.01        0.010           0.080     0.12875\n",
       "2     RBF         0.01        0.100           0.090     0.13000\n",
       "3     RBF         0.01        1.000           0.095     0.14250\n",
       "4     RBF         0.01       10.000           0.135     0.15750\n",
       "5     RBF         0.10        0.001           0.105     0.14875\n",
       "6     RBF         0.10        0.010           0.060     0.10000\n",
       "7     RBF         0.10        0.100           0.050     0.08875\n",
       "8     RBF         0.10        1.000           0.055     0.06625\n",
       "9     RBF         0.10       10.000           0.125     0.15500\n",
       "10    RBF         1.00        0.001           0.095     0.11125\n",
       "11    RBF         1.00        0.010           0.070     0.06625\n",
       "12    RBF         1.00        0.100           0.065     0.05750\n",
       "13    RBF         1.00        1.000           0.065     0.06750\n",
       "14    RBF         1.00       10.000           0.060     0.08625\n",
       "15    RBF        10.00        0.001           0.440     0.45125\n",
       "16    RBF        10.00        0.010           0.240     0.22000\n",
       "17    RBF        10.00        0.100           0.240     0.22000\n",
       "18    RBF        10.00        1.000           0.240     0.22000\n",
       "19    RBF        10.00       10.000           0.240     0.22000"
      ]
     },
     "execution_count": 314,
     "metadata": {},
     "output_type": "execute_result"
    }
   ],
   "source": [
    "table = pd.DataFrame(data, columns=['kernel', 'param_sigma', 'param_l2reg', \\\n",
    "                                    'training_error', 'test_error'])\n",
    "table"
   ]
  },
  {
   "cell_type": "code",
   "execution_count": 315,
   "metadata": {},
   "outputs": [
    {
     "data": {
      "text/plain": [
       "kernel               RBF\n",
       "param_sigma            1\n",
       "param_l2reg          0.1\n",
       "training_error     0.065\n",
       "test_error        0.0575\n",
       "Name: 12, dtype: object"
      ]
     },
     "execution_count": 315,
     "metadata": {},
     "output_type": "execute_result"
    }
   ],
   "source": [
    "rbf_idx = table['test_error'].idxmin()\n",
    "table.loc[rbf_idx]"
   ]
  },
  {
   "cell_type": "code",
   "execution_count": 307,
   "metadata": {},
   "outputs": [],
   "source": [
    "num_epoch = 100\n",
    "off = [0.01, 0.1, 1, 10]\n",
    "lamda = [0.001, 0.01, 0.1, 1, 10]\n",
    "deg = [2, 3, 4, 10]\n",
    "data = []\n",
    "for o in off:\n",
    "    for d in deg:\n",
    "        kernel = functools.partial(polynomial_kernel, offset=o, degree=d)\n",
    "        for l in lamda:\n",
    "            alpha = kernel_pegasos(x_train, y_train, l, num_epoch, kernel)\n",
    "            y_pred_train, trainerr = pred_kernel_pegasos(alpha, x_train, x_train, \\\n",
    "                                                         y_train, y_train, kernel)\n",
    "            y_pred_test, testerr = pred_kernel_pegasos(alpha, x_test, x_train, \\\n",
    "                                                       y_train, y_test, kernel)\n",
    "            data.append(['Polynomial', o, d, l, trainerr, testerr])"
   ]
  },
  {
   "cell_type": "code",
   "execution_count": 308,
   "metadata": {},
   "outputs": [
    {
     "data": {
      "text/html": [
       "<div>\n",
       "<style scoped>\n",
       "    .dataframe tbody tr th:only-of-type {\n",
       "        vertical-align: middle;\n",
       "    }\n",
       "\n",
       "    .dataframe tbody tr th {\n",
       "        vertical-align: top;\n",
       "    }\n",
       "\n",
       "    .dataframe thead th {\n",
       "        text-align: right;\n",
       "    }\n",
       "</style>\n",
       "<table border=\"1\" class=\"dataframe\">\n",
       "  <thead>\n",
       "    <tr style=\"text-align: right;\">\n",
       "      <th></th>\n",
       "      <th>kernel</th>\n",
       "      <th>param_offset</th>\n",
       "      <th>param_degree</th>\n",
       "      <th>param_l2reg</th>\n",
       "      <th>training_error</th>\n",
       "      <th>test_error</th>\n",
       "    </tr>\n",
       "  </thead>\n",
       "  <tbody>\n",
       "    <tr>\n",
       "      <th>0</th>\n",
       "      <td>Polynomial</td>\n",
       "      <td>0.01</td>\n",
       "      <td>2</td>\n",
       "      <td>0.001</td>\n",
       "      <td>0.240</td>\n",
       "      <td>0.22000</td>\n",
       "    </tr>\n",
       "    <tr>\n",
       "      <th>1</th>\n",
       "      <td>Polynomial</td>\n",
       "      <td>0.01</td>\n",
       "      <td>2</td>\n",
       "      <td>0.010</td>\n",
       "      <td>0.240</td>\n",
       "      <td>0.22000</td>\n",
       "    </tr>\n",
       "    <tr>\n",
       "      <th>2</th>\n",
       "      <td>Polynomial</td>\n",
       "      <td>0.01</td>\n",
       "      <td>2</td>\n",
       "      <td>0.100</td>\n",
       "      <td>0.240</td>\n",
       "      <td>0.22000</td>\n",
       "    </tr>\n",
       "    <tr>\n",
       "      <th>3</th>\n",
       "      <td>Polynomial</td>\n",
       "      <td>0.01</td>\n",
       "      <td>2</td>\n",
       "      <td>1.000</td>\n",
       "      <td>0.240</td>\n",
       "      <td>0.22000</td>\n",
       "    </tr>\n",
       "    <tr>\n",
       "      <th>4</th>\n",
       "      <td>Polynomial</td>\n",
       "      <td>0.01</td>\n",
       "      <td>2</td>\n",
       "      <td>10.000</td>\n",
       "      <td>0.240</td>\n",
       "      <td>0.22000</td>\n",
       "    </tr>\n",
       "    <tr>\n",
       "      <th>...</th>\n",
       "      <td>...</td>\n",
       "      <td>...</td>\n",
       "      <td>...</td>\n",
       "      <td>...</td>\n",
       "      <td>...</td>\n",
       "      <td>...</td>\n",
       "    </tr>\n",
       "    <tr>\n",
       "      <th>75</th>\n",
       "      <td>Polynomial</td>\n",
       "      <td>10.00</td>\n",
       "      <td>10</td>\n",
       "      <td>0.001</td>\n",
       "      <td>0.130</td>\n",
       "      <td>0.14250</td>\n",
       "    </tr>\n",
       "    <tr>\n",
       "      <th>76</th>\n",
       "      <td>Polynomial</td>\n",
       "      <td>10.00</td>\n",
       "      <td>10</td>\n",
       "      <td>0.010</td>\n",
       "      <td>0.165</td>\n",
       "      <td>0.14875</td>\n",
       "    </tr>\n",
       "    <tr>\n",
       "      <th>77</th>\n",
       "      <td>Polynomial</td>\n",
       "      <td>10.00</td>\n",
       "      <td>10</td>\n",
       "      <td>0.100</td>\n",
       "      <td>0.170</td>\n",
       "      <td>0.14500</td>\n",
       "    </tr>\n",
       "    <tr>\n",
       "      <th>78</th>\n",
       "      <td>Polynomial</td>\n",
       "      <td>10.00</td>\n",
       "      <td>10</td>\n",
       "      <td>1.000</td>\n",
       "      <td>0.115</td>\n",
       "      <td>0.14250</td>\n",
       "    </tr>\n",
       "    <tr>\n",
       "      <th>79</th>\n",
       "      <td>Polynomial</td>\n",
       "      <td>10.00</td>\n",
       "      <td>10</td>\n",
       "      <td>10.000</td>\n",
       "      <td>0.180</td>\n",
       "      <td>0.16000</td>\n",
       "    </tr>\n",
       "  </tbody>\n",
       "</table>\n",
       "<p>80 rows × 6 columns</p>\n",
       "</div>"
      ],
      "text/plain": [
       "        kernel  param_offset  param_degree  param_l2reg  training_error  \\\n",
       "0   Polynomial          0.01             2        0.001           0.240   \n",
       "1   Polynomial          0.01             2        0.010           0.240   \n",
       "2   Polynomial          0.01             2        0.100           0.240   \n",
       "3   Polynomial          0.01             2        1.000           0.240   \n",
       "4   Polynomial          0.01             2       10.000           0.240   \n",
       "..         ...           ...           ...          ...             ...   \n",
       "75  Polynomial         10.00            10        0.001           0.130   \n",
       "76  Polynomial         10.00            10        0.010           0.165   \n",
       "77  Polynomial         10.00            10        0.100           0.170   \n",
       "78  Polynomial         10.00            10        1.000           0.115   \n",
       "79  Polynomial         10.00            10       10.000           0.180   \n",
       "\n",
       "    test_error  \n",
       "0      0.22000  \n",
       "1      0.22000  \n",
       "2      0.22000  \n",
       "3      0.22000  \n",
       "4      0.22000  \n",
       "..         ...  \n",
       "75     0.14250  \n",
       "76     0.14875  \n",
       "77     0.14500  \n",
       "78     0.14250  \n",
       "79     0.16000  \n",
       "\n",
       "[80 rows x 6 columns]"
      ]
     },
     "execution_count": 308,
     "metadata": {},
     "output_type": "execute_result"
    }
   ],
   "source": [
    "table = pd.DataFrame(data, columns=['kernel', 'param_offset', 'param_degree', \\\n",
    "                                    'param_l2reg', 'training_error', 'test_error'])\n",
    "table"
   ]
  },
  {
   "cell_type": "code",
   "execution_count": 309,
   "metadata": {},
   "outputs": [
    {
     "data": {
      "text/plain": [
       "kernel            Polynomial\n",
       "param_offset              10\n",
       "param_degree               3\n",
       "param_l2reg                1\n",
       "training_error         0.095\n",
       "test_error           0.07125\n",
       "Name: 68, dtype: object"
      ]
     },
     "execution_count": 309,
     "metadata": {},
     "output_type": "execute_result"
    }
   ],
   "source": [
    "poly_idx = table['test_error'].idxmin()\n",
    "table.loc[poly_idx]"
   ]
  },
  {
   "cell_type": "code",
   "execution_count": 310,
   "metadata": {},
   "outputs": [],
   "source": [
    "num_epoch = 100\n",
    "lamda = [0.001, 0.01, 0.1, 1, 10]\n",
    "data = []\n",
    "kernel = functools.partial(linear_kernel)\n",
    "for l in lamda:\n",
    "    alpha = kernel_pegasos(x_train, y_train, l, num_epoch, kernel)\n",
    "    y_pred_train, trainerr = pred_kernel_pegasos(alpha, x_train, x_train, \\\n",
    "                                                 y_train, y_train, kernel)\n",
    "    y_pred_test, testerr = pred_kernel_pegasos(alpha, x_test, x_train, \\\n",
    "                                               y_train, y_test, kernel)\n",
    "    data.append(['Linear', l, trainerr, testerr])"
   ]
  },
  {
   "cell_type": "code",
   "execution_count": 311,
   "metadata": {},
   "outputs": [
    {
     "data": {
      "text/html": [
       "<div>\n",
       "<style scoped>\n",
       "    .dataframe tbody tr th:only-of-type {\n",
       "        vertical-align: middle;\n",
       "    }\n",
       "\n",
       "    .dataframe tbody tr th {\n",
       "        vertical-align: top;\n",
       "    }\n",
       "\n",
       "    .dataframe thead th {\n",
       "        text-align: right;\n",
       "    }\n",
       "</style>\n",
       "<table border=\"1\" class=\"dataframe\">\n",
       "  <thead>\n",
       "    <tr style=\"text-align: right;\">\n",
       "      <th></th>\n",
       "      <th>kernel</th>\n",
       "      <th>param_l2reg</th>\n",
       "      <th>training_error</th>\n",
       "      <th>test_error</th>\n",
       "    </tr>\n",
       "  </thead>\n",
       "  <tbody>\n",
       "    <tr>\n",
       "      <th>0</th>\n",
       "      <td>Linear</td>\n",
       "      <td>0.001</td>\n",
       "      <td>0.490</td>\n",
       "      <td>0.50000</td>\n",
       "    </tr>\n",
       "    <tr>\n",
       "      <th>1</th>\n",
       "      <td>Linear</td>\n",
       "      <td>0.010</td>\n",
       "      <td>0.485</td>\n",
       "      <td>0.49250</td>\n",
       "    </tr>\n",
       "    <tr>\n",
       "      <th>2</th>\n",
       "      <td>Linear</td>\n",
       "      <td>0.100</td>\n",
       "      <td>0.435</td>\n",
       "      <td>0.50750</td>\n",
       "    </tr>\n",
       "    <tr>\n",
       "      <th>3</th>\n",
       "      <td>Linear</td>\n",
       "      <td>1.000</td>\n",
       "      <td>0.440</td>\n",
       "      <td>0.50375</td>\n",
       "    </tr>\n",
       "    <tr>\n",
       "      <th>4</th>\n",
       "      <td>Linear</td>\n",
       "      <td>10.000</td>\n",
       "      <td>0.445</td>\n",
       "      <td>0.49875</td>\n",
       "    </tr>\n",
       "  </tbody>\n",
       "</table>\n",
       "</div>"
      ],
      "text/plain": [
       "   kernel  param_l2reg  training_error  test_error\n",
       "0  Linear        0.001           0.490     0.50000\n",
       "1  Linear        0.010           0.485     0.49250\n",
       "2  Linear        0.100           0.435     0.50750\n",
       "3  Linear        1.000           0.440     0.50375\n",
       "4  Linear       10.000           0.445     0.49875"
      ]
     },
     "execution_count": 311,
     "metadata": {},
     "output_type": "execute_result"
    }
   ],
   "source": [
    "table = pd.DataFrame(data, columns=['kernel', 'param_l2reg', \\\n",
    "                                    'training_error', 'test_error'])\n",
    "table"
   ]
  },
  {
   "cell_type": "code",
   "execution_count": 312,
   "metadata": {},
   "outputs": [
    {
     "data": {
      "text/plain": [
       "kernel            Linear\n",
       "param_l2reg         0.01\n",
       "training_error     0.485\n",
       "test_error        0.4925\n",
       "Name: 1, dtype: object"
      ]
     },
     "execution_count": 312,
     "metadata": {},
     "output_type": "execute_result"
    }
   ],
   "source": [
    "ln_idx = table['test_error'].idxmin()\n",
    "table.loc[ln_idx]"
   ]
  },
  {
   "cell_type": "markdown",
   "metadata": {},
   "source": [
    "**Problem 34**"
   ]
  },
  {
   "cell_type": "code",
   "execution_count": 316,
   "metadata": {},
   "outputs": [
    {
     "ename": "NameError",
     "evalue": "name 'train_soft_svm' is not defined",
     "output_type": "error",
     "traceback": [
      "\u001b[1;31m---------------------------------------------------------------------------\u001b[0m",
      "\u001b[1;31mNameError\u001b[0m                                 Traceback (most recent call last)",
      "\u001b[1;32m<ipython-input-316-2d02ee1ae610>\u001b[0m in \u001b[0;36m<module>\u001b[1;34m\u001b[0m\n\u001b[0;32m      4\u001b[0m \u001b[0msigma\u001b[0m\u001b[1;33m=\u001b[0m\u001b[1;36m1\u001b[0m\u001b[1;33m\u001b[0m\u001b[1;33m\u001b[0m\u001b[0m\n\u001b[0;32m      5\u001b[0m \u001b[0mk\u001b[0m \u001b[1;33m=\u001b[0m \u001b[0mfunctools\u001b[0m\u001b[1;33m.\u001b[0m\u001b[0mpartial\u001b[0m\u001b[1;33m(\u001b[0m\u001b[0mRBF_kernel\u001b[0m\u001b[1;33m,\u001b[0m \u001b[0msigma\u001b[0m\u001b[1;33m=\u001b[0m\u001b[0msigma\u001b[0m\u001b[1;33m)\u001b[0m\u001b[1;33m\u001b[0m\u001b[1;33m\u001b[0m\u001b[0m\n\u001b[1;32m----> 6\u001b[1;33m \u001b[0mf\u001b[0m \u001b[1;33m=\u001b[0m \u001b[0mtrain_soft_svm\u001b[0m\u001b[1;33m(\u001b[0m\u001b[0mx_train\u001b[0m\u001b[1;33m,\u001b[0m \u001b[0my_train\u001b[0m\u001b[1;33m,\u001b[0m \u001b[0mk\u001b[0m\u001b[1;33m,\u001b[0m \u001b[1;33m...\u001b[0m\u001b[1;33m)\u001b[0m\u001b[1;33m\u001b[0m\u001b[1;33m\u001b[0m\u001b[0m\n\u001b[0m\u001b[0;32m      7\u001b[0m \u001b[1;33m\u001b[0m\u001b[0m\n\u001b[0;32m      8\u001b[0m \u001b[1;31m#determine the decision regions for the predictions\u001b[0m\u001b[1;33m\u001b[0m\u001b[1;33m\u001b[0m\u001b[1;33m\u001b[0m\u001b[0m\n",
      "\u001b[1;31mNameError\u001b[0m: name 'train_soft_svm' is not defined"
     ]
    }
   ],
   "source": [
    "# Code to help plot the decision regions\n",
    "# (Note: This ode isn't necessarily entirely appropriate for the questions asked. So think about what you are doing.)\n",
    " \n",
    "sigma=1\n",
    "k = functools.partial(RBF_kernel, sigma=sigma)\n",
    "f = train_soft_svm(x_train, y_train, k, ...)\n",
    "\n",
    "#determine the decision regions for the predictions\n",
    "x1_min = min(x_test[:,0])\n",
    "x1_max= max(x_test[:,0])\n",
    "x2_min = min(x_test[:,1])\n",
    "x2_max= max(x_test[:,1])\n",
    "h=0.1\n",
    "xx, yy = np.meshgrid(np.arange(x1_min, x1_max, h),\n",
    "                     np.arange(x2_min, x2_max, h))\n",
    "\n",
    "Z = f.predict(np.c_[xx.ravel(), yy.ravel()])\n",
    "Z = Z.reshape(xx.shape)\n",
    "\n",
    "#determine the predictions for the test set\n",
    "y_bar = f.predict (x_test) \n",
    "yplus = np.ma.masked_where(y_bar<=0, y_bar)\n",
    "xplus = x_test[~np.array(yplus.mask)]\n",
    "yminus = np.ma.masked_where(y_bar>0, y_bar)\n",
    "xminus = x_test[~np.array(yminus.mask)]\n",
    "\n",
    "#plot the learned boundary and the predictions for the test set\n",
    "figsize = plt.figaspect(1)\n",
    "f, (ax) = plt.subplots(1, 1, figsize=figsize) \n",
    "decision =ax.contourf(xx, yy, Z, cmap=plt.cm.coolwarm, alpha=0.8)\n",
    "pluses = ax.scatter (xplus[:,0], xplus[:,1], marker='+', c='b', \\\n",
    "                     label = '+1 prediction for test set')\n",
    "minuses = ax.scatter (xminus[:,0], xminus[:,1], marker=r'$-$', c='b', \\\n",
    "                      label = '-1 prediction for test set')\n",
    "ax.set_ylabel(r\"$x_2$\", fontsize=11)\n",
    "ax.set_xlabel(r\"$x_1$\", fontsize=11)\n",
    "ax.set_title('SVM with RBF Kernel: training set size = %s'% len(data_train), fontsize=9)  \n",
    "ax.axis('tight')\n",
    "ax.legend(handles=[pluses, minuses], fontsize=9)\n",
    "plt.show()"
   ]
  }
 ],
 "metadata": {
  "kernelspec": {
   "display_name": "Python 3",
   "language": "python",
   "name": "python3"
  },
  "language_info": {
   "codemirror_mode": {
    "name": "ipython",
    "version": 3
   },
   "file_extension": ".py",
   "mimetype": "text/x-python",
   "name": "python",
   "nbconvert_exporter": "python",
   "pygments_lexer": "ipython3",
   "version": "3.8.3"
  }
 },
 "nbformat": 4,
 "nbformat_minor": 4
}
