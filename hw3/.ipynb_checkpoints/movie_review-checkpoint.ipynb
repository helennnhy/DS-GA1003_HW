{
 "cells": [
  {
   "cell_type": "code",
   "execution_count": 147,
   "metadata": {},
   "outputs": [],
   "source": [
    "import numpy as np\n",
    "import collections\n",
    "import utils_svm_reviews as review\n",
    "import random\n",
    "import timeit\n",
    "from matplotlib import pyplot as plt"
   ]
  },
  {
   "cell_type": "code",
   "execution_count": 7,
   "metadata": {},
   "outputs": [],
   "source": [
    "def convert_words(words):\n",
    "    cnt = collections.Counter()\n",
    "    for item in words:\n",
    "        if item in cnt:\n",
    "            cnt[item] += 1\n",
    "        else:\n",
    "            cnt[item] = 1\n",
    "    return cnt"
   ]
  },
  {
   "cell_type": "code",
   "execution_count": 8,
   "metadata": {},
   "outputs": [
    {
     "data": {
      "text/plain": [
       "Counter({'I': 2, 'am': 1, 's': 1})"
      ]
     },
     "execution_count": 8,
     "metadata": {},
     "output_type": "execute_result"
    }
   ],
   "source": [
    "convert_words(['I','am','s','I'])"
   ]
  },
  {
   "cell_type": "code",
   "execution_count": 13,
   "metadata": {},
   "outputs": [],
   "source": [
    "review_data = review.load_and_shuffle_data()"
   ]
  },
  {
   "cell_type": "code",
   "execution_count": 14,
   "metadata": {},
   "outputs": [
    {
     "data": {
      "text/plain": [
       "2000"
      ]
     },
     "execution_count": 14,
     "metadata": {},
     "output_type": "execute_result"
    }
   ],
   "source": [
    "len(review_data)"
   ]
  },
  {
   "cell_type": "code",
   "execution_count": 98,
   "metadata": {},
   "outputs": [],
   "source": [
    "train_review = review_data[:1500]\n",
    "val_review = review_data[-500:]"
   ]
  },
  {
   "cell_type": "code",
   "execution_count": 99,
   "metadata": {},
   "outputs": [],
   "source": [
    "X_train = [convert_words(i[:-1]) for i in train_review]\n",
    "y_train = [i[-1] for i in train_review]"
   ]
  },
  {
   "cell_type": "code",
   "execution_count": 100,
   "metadata": {},
   "outputs": [],
   "source": [
    "X_test = [convert_words(i[:-1]) for i in val_review]\n",
    "y_test = [i[-1] for i in val_review]"
   ]
  },
  {
   "cell_type": "code",
   "execution_count": 140,
   "metadata": {},
   "outputs": [],
   "source": [
    "def Pegasos(data,y,lamb,epoch):\n",
    "    t = 0\n",
    "    w = collections.Counter()\n",
    "    index = np.arange(len(data))\n",
    "    for _ in range(epoch):\n",
    "#         random.shuffle(index)\n",
    "#         print(index)\n",
    "        for i in index:\n",
    "            t += 1\n",
    "            nt = 1/(t*lamb)\n",
    "            if y[i]*review.dotProduct(w,data[i]) < 1:\n",
    "                review.increment(w,-nt*lamb,w)\n",
    "                review.increment(w,nt*y[i],data[i])\n",
    "            else:\n",
    "                review.increment(w,-nt*lamb,w)\n",
    "    return w"
   ]
  },
  {
   "cell_type": "code",
   "execution_count": 130,
   "metadata": {},
   "outputs": [
    {
     "name": "stdout",
     "output_type": "stream",
     "text": [
      "Time:  35.638283918000525\n"
     ]
    }
   ],
   "source": [
    "start = timeit.default_timer()\n",
    "w = Pegasos(X_train,y_train,0.05,3)\n",
    "stop = timeit.default_timer()\n",
    "\n",
    "print('Time: ', stop - start)"
   ]
  },
  {
   "cell_type": "code",
   "execution_count": 131,
   "metadata": {},
   "outputs": [],
   "source": [
    "def scale(d1, scale):\n",
    "    \"\"\"\n",
    "    Implements d1 += scale * d2 for sparse vectors.\n",
    "    @param dict d1: the feature vector which is mutated.\n",
    "    @param float scale\n",
    "    @param dict d2: a feature vector.\n",
    "\n",
    "    NOTE: This function does not return anything, but rather\n",
    "    increments d1 in place. We do this because it is much faster to\n",
    "    change elements of d1 in place than to build a new dictionary and\n",
    "    return it.\n",
    "    \"\"\"\n",
    "    for f, v in d1.items():\n",
    "        d1[f] =  v * scale"
   ]
  },
  {
   "cell_type": "code",
   "execution_count": 151,
   "metadata": {},
   "outputs": [],
   "source": [
    "def Pegasos_new(data,y,lamb,epoch):\n",
    "    t = 2\n",
    "    W = collections.Counter()\n",
    "    index = np.arange(len(data))\n",
    "    s = 2\n",
    "    for _ in range(epoch):\n",
    "#         random.shuffle(index)\n",
    "#         print(index)\n",
    "        for i in index:\n",
    "            t += 1\n",
    "            nt = 1/(t*lamb)\n",
    "            if s ==0:\n",
    "                s = 1\n",
    "                W = collections.Counter()\n",
    "            if y[i]*s*review.dotProduct(W,data[i]) < 1:\n",
    "                s = (1-nt*lamb)*s\n",
    "                review.increment(W,1/s*nt*y[i],data[i])\n",
    "            else:\n",
    "                s = (1-nt*lamb)*s\n",
    "    scale(W,s)\n",
    "    return W"
   ]
  },
  {
   "cell_type": "code",
   "execution_count": 133,
   "metadata": {},
   "outputs": [
    {
     "name": "stdout",
     "output_type": "stream",
     "text": [
      "Time:  0.5096247149995179\n"
     ]
    }
   ],
   "source": [
    "start = timeit.default_timer()\n",
    "wnew = Pegasos_new(X_train,y_train,0.05,3)\n",
    "stop = timeit.default_timer()\n",
    "\n",
    "print('Time: ', stop - start)"
   ]
  },
  {
   "cell_type": "code",
   "execution_count": 134,
   "metadata": {},
   "outputs": [],
   "source": [
    "def classification_error(X,y,w):\n",
    "    predict = [1 if review.dotProduct(w,X[i]) > 0 else -1 for i in range(len(X))]\n",
    "    error = sum([1 if y[i] == predict[i] else 0 for i in range(len(predict))])/len(predict)\n",
    "    return 1- error"
   ]
  },
  {
   "cell_type": "code",
   "execution_count": 135,
   "metadata": {},
   "outputs": [
    {
     "data": {
      "text/plain": [
       "0.20799999999999996"
      ]
     },
     "execution_count": 135,
     "metadata": {},
     "output_type": "execute_result"
    }
   ],
   "source": [
    "classification_error(X_test,y_test,w)"
   ]
  },
  {
   "cell_type": "code",
   "execution_count": 136,
   "metadata": {},
   "outputs": [],
   "source": [
    "def error(d1, d2):\n",
    "    \"\"\"\n",
    "    Implements d1 += scale * d2 for sparse vectors.\n",
    "    @param dict d1: the feature vector which is mutated.\n",
    "    @param float scale\n",
    "    @param dict d2: a feature vector.\n",
    "\n",
    "    NOTE: This function does not return anything, but rather\n",
    "    increments d1 in place. We do this because it is much faster to\n",
    "    change elements of d1 in place than to build a new dictionary and\n",
    "    return it.\n",
    "    \"\"\"\n",
    "    result = []\n",
    "    for f, v in d1.items():\n",
    "        result.append(abs(d1[f] - d2[f]))\n",
    "    return np.mean(result)"
   ]
  },
  {
   "cell_type": "code",
   "execution_count": 137,
   "metadata": {},
   "outputs": [
    {
     "data": {
      "text/plain": [
       "4.0560573674880875e-06"
      ]
     },
     "execution_count": 137,
     "metadata": {},
     "output_type": "execute_result"
    }
   ],
   "source": [
    "error(w,wnew)"
   ]
  },
  {
   "cell_type": "code",
   "execution_count": 146,
   "metadata": {},
   "outputs": [],
   "source": [
    "lambda_list = [0.03,0.04,0.06,0.07,0.1]\n",
    "error_lamb = []\n",
    "for item in lambda_list:\n",
    "    w = Pegasos_new(X_train,y_train,item,100)\n",
    "    error_lamb.append(classification_error(X_test,y_test,w))"
   ]
  },
  {
   "cell_type": "code",
   "execution_count": 148,
   "metadata": {},
   "outputs": [
    {
     "data": {
      "text/plain": [
       "Text(0, 0.5, 'classification error')"
      ]
     },
     "execution_count": 148,
     "metadata": {},
     "output_type": "execute_result"
    },
    {
     "data": {
      "image/png": "[encoded data removed]",
      "text/plain": [
       "<Figure size 432x288 with 1 Axes>"
      ]
     },
     "metadata": {
      "needs_background": "light"
     },
     "output_type": "display_data"
    }
   ],
   "source": [
    "plt.plot(lambda_list,error_lamb)\n",
    "plt.title('lambda vs classification error')\n",
    "plt.xlabel('lambda')\n",
    "plt.ylabel('classification error')"
   ]
  },
  {
   "cell_type": "code",
   "execution_count": 156,
   "metadata": {},
   "outputs": [],
   "source": [
    "error_lamb = []\n",
    "for i in range(0,150,10):\n",
    "    w = Pegasos_new(X_train,y_train,0.05,i)\n",
    "    error_lamb.append(classification_error(X_test,y_test,w))"
   ]
  },
  {
   "cell_type": "code",
   "execution_count": 157,
   "metadata": {},
   "outputs": [
    {
     "data": {
      "text/plain": [
       "Text(0, 0.5, 'classification error')"
      ]
     },
     "execution_count": 157,
     "metadata": {},
     "output_type": "execute_result"
    },
    {
     "data": {
      "image/png": "[encoded data removed]",
      "text/plain": [
       "<Figure size 432x288 with 1 Axes>"
      ]
     },
     "metadata": {
      "needs_background": "light"
     },
     "output_type": "display_data"
    }
   ],
   "source": [
    "plt.plot(range(0,150,10),error_lamb)\n",
    "plt.title('lambda vs classification error')\n",
    "plt.xlabel('lambda')\n",
    "plt.ylabel('classification error')"
   ]
  },
  {
   "cell_type": "code",
   "execution_count": 158,
   "metadata": {},
   "outputs": [
    {
     "data": {
      "text/plain": [
       "[0.482,\n",
       " 0.31999999999999995,\n",
       " 0.252,\n",
       " 0.18600000000000005,\n",
       " 0.18600000000000005,\n",
       " 0.19599999999999995,\n",
       " 0.19199999999999995,\n",
       " 0.18000000000000005,\n",
       " 0.19599999999999995,\n",
       " 0.18000000000000005,\n",
       " 0.19399999999999995,\n",
       " 0.18600000000000005,\n",
       " 0.18999999999999995,\n",
       " 0.18400000000000005,\n",
       " 0.19199999999999995]"
      ]
     },
     "execution_count": 158,
     "metadata": {},
     "output_type": "execute_result"
    }
   ],
   "source": [
    "error_lamb"
   ]
  },
  {
   "cell_type": "code",
   "execution_count": null,
   "metadata": {},
   "outputs": [],
   "source": []
  }
 ],
 "metadata": {
  "kernelspec": {
   "display_name": "Python 3",
   "language": "python",
   "name": "python3"
  },
  "language_info": {
   "codemirror_mode": {
    "name": "ipython",
    "version": 3
   },
   "file_extension": ".py",
   "mimetype": "text/x-python",
   "name": "python",
   "nbconvert_exporter": "python",
   "pygments_lexer": "ipython3",
   "version": "3.8.3"
  }
 },
 "nbformat": 4,
 "nbformat_minor": 2
}
